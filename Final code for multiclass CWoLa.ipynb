{
 "cells": [
  {
   "cell_type": "code",
   "execution_count": 1,
   "id": "5cfc7550",
   "metadata": {},
   "outputs": [
    {
     "name": "stderr",
     "output_type": "stream",
     "text": [
      "2025-03-27 13:39:37.241236: I tensorflow/stream_executor/platform/default/dso_loader.cc:53] Successfully opened dynamic library libcudart.so.11.0\n"
     ]
    }
   ],
   "source": [
    "import os\n",
    "import numpy as np\n",
    "import tensorflow as tf\n",
    "from tensorflow import keras\n",
    "from tensorflow.keras import layers\n",
    "from matplotlib import pyplot as plt\n",
    "from matplotlib import colors as mcolors\n",
    "from sklearn.metrics import roc_curve, roc_auc_score\n",
    "from scipy import interpolate\n",
    "from sklearn.utils import shuffle\n",
    "from sklearn.cluster import KMeans\n",
    "from sklearn.cluster import SpectralClustering\n",
    "from sklearn.metrics import confusion_matrix\n",
    "from scipy.optimize import linear_sum_assignment\n"
   ]
  },
  {
   "cell_type": "code",
   "execution_count": 2,
   "id": "4d0c2a32-7edb-4ba7-bc52-64b2b8cae624",
   "metadata": {},
   "outputs": [
    {
     "name": "stdout",
     "output_type": "stream",
     "text": [
      "Num GPUs Available:  3\n"
     ]
    },
    {
     "name": "stderr",
     "output_type": "stream",
     "text": [
      "2025-03-27 13:39:39.952104: I tensorflow/stream_executor/platform/default/dso_loader.cc:53] Successfully opened dynamic library libcuda.so.1\n",
      "2025-03-27 13:39:43.539523: I tensorflow/core/common_runtime/gpu/gpu_device.cc:1733] Found device 0 with properties: \n",
      "pciBusID: 0000:3b:00.0 name: NVIDIA RTX A6000 computeCapability: 8.6\n",
      "coreClock: 1.8GHz coreCount: 84 deviceMemorySize: 47.54GiB deviceMemoryBandwidth: 715.34GiB/s\n",
      "2025-03-27 13:39:43.540852: I tensorflow/core/common_runtime/gpu/gpu_device.cc:1733] Found device 1 with properties: \n",
      "pciBusID: 0000:5e:00.0 name: NVIDIA RTX A6000 computeCapability: 8.6\n",
      "coreClock: 1.8GHz coreCount: 84 deviceMemorySize: 47.54GiB deviceMemoryBandwidth: 715.34GiB/s\n",
      "2025-03-27 13:39:43.541635: I tensorflow/core/common_runtime/gpu/gpu_device.cc:1733] Found device 2 with properties: \n",
      "pciBusID: 0000:d8:00.0 name: NVIDIA GeForce RTX 3090 computeCapability: 8.6\n",
      "coreClock: 1.695GHz coreCount: 82 deviceMemorySize: 23.70GiB deviceMemoryBandwidth: 871.81GiB/s\n",
      "2025-03-27 13:39:43.541663: I tensorflow/stream_executor/platform/default/dso_loader.cc:53] Successfully opened dynamic library libcudart.so.11.0\n",
      "2025-03-27 13:39:43.546579: I tensorflow/stream_executor/platform/default/dso_loader.cc:53] Successfully opened dynamic library libcublas.so.11\n",
      "2025-03-27 13:39:43.546637: I tensorflow/stream_executor/platform/default/dso_loader.cc:53] Successfully opened dynamic library libcublasLt.so.11\n",
      "2025-03-27 13:39:43.547525: I tensorflow/stream_executor/platform/default/dso_loader.cc:53] Successfully opened dynamic library libcufft.so.10\n",
      "2025-03-27 13:39:43.547794: I tensorflow/stream_executor/platform/default/dso_loader.cc:53] Successfully opened dynamic library libcurand.so.10\n",
      "2025-03-27 13:39:43.548362: I tensorflow/stream_executor/platform/default/dso_loader.cc:53] Successfully opened dynamic library libcusolver.so.11\n",
      "2025-03-27 13:39:43.549253: I tensorflow/stream_executor/platform/default/dso_loader.cc:53] Successfully opened dynamic library libcusparse.so.11\n",
      "2025-03-27 13:39:43.549392: I tensorflow/stream_executor/platform/default/dso_loader.cc:53] Successfully opened dynamic library libcudnn.so.8\n",
      "2025-03-27 13:39:43.555962: I tensorflow/core/common_runtime/gpu/gpu_device.cc:1871] Adding visible gpu devices: 0, 1, 2\n"
     ]
    }
   ],
   "source": [
    "print(\"Num GPUs Available: \", len(tf.config.list_physical_devices('GPU')))"
   ]
  },
  {
   "cell_type": "code",
   "execution_count": 3,
   "id": "343430dd",
   "metadata": {},
   "outputs": [
    {
     "name": "stdout",
     "output_type": "stream",
     "text": [
      "3 Physical GPUs, 3 Logical GPUs\n"
     ]
    },
    {
     "name": "stderr",
     "output_type": "stream",
     "text": [
      "2025-03-27 13:39:48.302633: I tensorflow/core/platform/cpu_feature_guard.cc:142] This TensorFlow binary is optimized with oneAPI Deep Neural Network Library (oneDNN) to use the following CPU instructions in performance-critical operations:  AVX2 AVX512F FMA\n",
      "To enable them in other operations, rebuild TensorFlow with the appropriate compiler flags.\n",
      "2025-03-27 13:39:48.606386: I tensorflow/core/common_runtime/gpu/gpu_device.cc:1733] Found device 0 with properties: \n",
      "pciBusID: 0000:3b:00.0 name: NVIDIA RTX A6000 computeCapability: 8.6\n",
      "coreClock: 1.8GHz coreCount: 84 deviceMemorySize: 47.54GiB deviceMemoryBandwidth: 715.34GiB/s\n",
      "2025-03-27 13:39:48.607752: I tensorflow/core/common_runtime/gpu/gpu_device.cc:1733] Found device 1 with properties: \n",
      "pciBusID: 0000:5e:00.0 name: NVIDIA RTX A6000 computeCapability: 8.6\n",
      "coreClock: 1.8GHz coreCount: 84 deviceMemorySize: 47.54GiB deviceMemoryBandwidth: 715.34GiB/s\n",
      "2025-03-27 13:39:48.609099: I tensorflow/core/common_runtime/gpu/gpu_device.cc:1733] Found device 2 with properties: \n",
      "pciBusID: 0000:d8:00.0 name: NVIDIA GeForce RTX 3090 computeCapability: 8.6\n",
      "coreClock: 1.695GHz coreCount: 82 deviceMemorySize: 23.70GiB deviceMemoryBandwidth: 871.81GiB/s\n",
      "2025-03-27 13:39:48.615430: I tensorflow/core/common_runtime/gpu/gpu_device.cc:1871] Adding visible gpu devices: 0, 1, 2\n",
      "2025-03-27 13:39:48.615489: I tensorflow/stream_executor/platform/default/dso_loader.cc:53] Successfully opened dynamic library libcudart.so.11.0\n",
      "2025-03-27 13:39:49.822099: I tensorflow/core/common_runtime/gpu/gpu_device.cc:1258] Device interconnect StreamExecutor with strength 1 edge matrix:\n",
      "2025-03-27 13:39:49.822134: I tensorflow/core/common_runtime/gpu/gpu_device.cc:1264]      0 1 2 \n",
      "2025-03-27 13:39:49.822141: I tensorflow/core/common_runtime/gpu/gpu_device.cc:1277] 0:   N Y N \n",
      "2025-03-27 13:39:49.822144: I tensorflow/core/common_runtime/gpu/gpu_device.cc:1277] 1:   Y N N \n",
      "2025-03-27 13:39:49.822148: I tensorflow/core/common_runtime/gpu/gpu_device.cc:1277] 2:   N N N \n",
      "2025-03-27 13:39:49.830006: I tensorflow/core/common_runtime/gpu/gpu_device.cc:1418] Created TensorFlow device (/job:localhost/replica:0/task:0/device:GPU:0 with 46729 MB memory) -> physical GPU (device: 0, name: NVIDIA RTX A6000, pci bus id: 0000:3b:00.0, compute capability: 8.6)\n",
      "2025-03-27 13:39:49.831726: I tensorflow/core/common_runtime/gpu/gpu_device.cc:1418] Created TensorFlow device (/job:localhost/replica:0/task:0/device:GPU:1 with 46729 MB memory) -> physical GPU (device: 1, name: NVIDIA RTX A6000, pci bus id: 0000:5e:00.0, compute capability: 8.6)\n",
      "2025-03-27 13:39:49.832813: I tensorflow/core/common_runtime/gpu/gpu_device.cc:1418] Created TensorFlow device (/job:localhost/replica:0/task:0/device:GPU:2 with 22318 MB memory) -> physical GPU (device: 2, name: NVIDIA GeForce RTX 3090, pci bus id: 0000:d8:00.0, compute capability: 8.6)\n"
     ]
    }
   ],
   "source": [
    "\n",
    "gpus = tf.config.experimental.list_physical_devices('GPU')\n",
    "if gpus:\n",
    "    try:\n",
    "        for gpu in gpus:\n",
    "            tf.config.experimental.set_memory_growth(gpu, False)\n",
    "        logical_gpus = tf.config.experimental.list_logical_devices('GPU')\n",
    "        print(f\"{len(gpus)} Physical GPUs, {len(logical_gpus)} Logical GPUs\")\n",
    "    except RuntimeError as e:\n",
    "        print(e)"
   ]
  },
  {
   "cell_type": "code",
   "execution_count": 4,
   "id": "f203120f",
   "metadata": {},
   "outputs": [
    {
     "data": {
      "application/javascript": "IPython.notebook.set_autosave_interval(5000)"
     },
     "metadata": {},
     "output_type": "display_data"
    },
    {
     "name": "stdout",
     "output_type": "stream",
     "text": [
      "Autosaving every 5 seconds\n"
     ]
    }
   ],
   "source": [
    "#Reading files into a log\n",
    "import sys\n",
    "import logging\n",
    "\n",
    "nblog = open(\"nb_id.log\", \"a+\")\n",
    "sys.stdout.echo = nblog\n",
    "sys.stderr.echo = nblog\n",
    "\n",
    "get_ipython().log.handlers[0].stream = nblog\n",
    "get_ipython().log.setLevel(logging.INFO)\n",
    "\n",
    "%autosave 5"
   ]
  },
  {
   "cell_type": "code",
   "execution_count": 5,
   "id": "048590b7-f6c0-49b4-8cd6-5db4aa0de0fe",
   "metadata": {},
   "outputs": [],
   "source": [
    "np.random.seed(42)\n",
    "tf.random.set_seed(8)\n"
   ]
  },
  {
   "cell_type": "code",
   "execution_count": 6,
   "id": "e4550aff",
   "metadata": {},
   "outputs": [],
   "source": [
    "def build_model(p_i):\n",
    "    input_1 = keras.layers.Input(shape = (p_i,p_i,1), name = \"track\")\n",
    "    input_2 = keras.layers.Input(shape = (p_i,p_i,1), name = \"tower\")\n",
    "    y = keras.layers.BatchNormalization()(input_1)\n",
    "    z = keras.layers.BatchNormalization()(input_2)\n",
    "    cnn = keras.Sequential([\n",
    "        keras.layers.Conv2D(64, (5,5), padding = 'same', activation = 'relu'),\n",
    "        keras.layers.MaxPool2D(pool_size = (2,2)),\n",
    "        keras.layers.Conv2D(64, (5, 5), padding = 'same', activation = 'relu'),\n",
    "        keras.layers.MaxPool2D(pool_size = (2,2)),\n",
    "        keras.layers.Conv2D(128, (3,3), padding = 'same', activation = 'relu'),\n",
    "        keras.layers.MaxPool2D(pool_size = (2,2)),    \n",
    "        keras.layers.Conv2D(128, (3,3), padding = 'same', activation = 'relu'),\n",
    "        keras.layers.Flatten(),\n",
    "    ])\n",
    "    dnn = keras.Sequential([\n",
    "          keras.layers.Dense(128, activation = 'relu'),\n",
    "          keras.layers.Dense(128, activation = 'relu'),\n",
    "          keras.layers.Dense(128, activation = 'relu'),\n",
    "          keras.layers.Dense(3, activation = 'softmax')\n",
    "    ])\n",
    "    x_1 = dnn(cnn(y))\n",
    "    x_2 = dnn(cnn(z))\n",
    "    x_out = keras.layers.Multiply()([x_1, x_2])\n",
    "    model = keras.Model(         \n",
    "    inputs=[input_1, input_2],\n",
    "    outputs=x_out)\n",
    "    model.compile(optimizer=tf.keras.optimizers.Adam(1e-4),\n",
    "                loss=tf.keras.losses.CategoricalCrossentropy(from_logits=False),\n",
    "                metrics=['accuracy'])\n",
    "    return model"
   ]
  },
  {
   "cell_type": "code",
   "execution_count": 7,
   "id": "8fee58dd",
   "metadata": {},
   "outputs": [],
   "source": [
    "def build_model_clustering(input_dim):\n",
    "    model = keras.models.Sequential()\n",
    "    model.add(keras.layers.Dense(16, input_dim=input_dim, activation='relu'))\n",
    "    model.add(keras.layers.Dense(16, activation='relu'))\n",
    "    model.add(keras.layers.Dense(3, activation='softmax'))\n",
    "    model.compile(optimizer=tf.keras.optimizers.Adam(1e-2),\n",
    "                loss=tf.keras.losses.CategoricalCrossentropy(from_logits=False),\n",
    "                metrics=['accuracy'])\n",
    "    return model"
   ]
  },
  {
   "cell_type": "code",
   "execution_count": 12,
   "id": "f16b8417",
   "metadata": {},
   "outputs": [],
   "source": [
    "#Preparing samples\n",
    "n_samples = 3\n",
    "os.chdir('/home/manhducnmd/manhducnmd/Delphes-3.5.0')    \n",
    "sample_1_1_train_track = np.load(f'wboson_region_1_track.npy')\n",
    "sample_1_1_train_tower = np.load(f'wboson_region_1_tower.npy')\n",
    "true_label_sample_1_1_train = np.tile(np.array([1., 0., 0.]), \n",
    "                                          np.shape(sample_1_1_train_track)[0]).reshape(np.shape(sample_1_1_train_track)[0],n_samples)\n",
    "\n",
    "sample_1_2_train_track = np.load(f'zboson_region_1_track.npy')\n",
    "sample_1_2_train_tower = np.load(f'zboson_region_1_tower.npy')\n",
    "true_label_sample_1_2_train = np.tile(np.array([0., 1., 0.]), \n",
    "                                          np.shape(sample_1_2_train_track)[0]).reshape(np.shape(sample_1_2_train_track)[0],n_samples)\n",
    "\n",
    "sample_1_3_train_track = np.load(f'zprimeboson_region_1_track.npy')\n",
    "sample_1_3_train_tower = np.load(f'zprimeboson_region_1_tower.npy')\n",
    "true_label_sample_1_3_train = np.tile(np.array([0., 0., 1.]), \n",
    "                                          np.shape(sample_1_3_train_track)[0]).reshape(np.shape(sample_1_3_train_track)[0],n_samples)\n",
    "\n",
    "sample_2_1_train_track = np.load(f'wboson_region_2_track.npy')\n",
    "sample_2_1_train_tower = np.load(f'wboson_region_2_tower.npy')\n",
    "true_label_sample_2_1_train = np.tile(np.array([1., 0., 0.]), \n",
    "                                        np.shape(sample_2_1_train_track)[0]).reshape(np.shape(sample_2_1_train_track)[0],n_samples)\n",
    "\n",
    "\n",
    "sample_2_2_train_track = np.load(f'zboson_region_2_track.npy')\n",
    "sample_2_2_train_tower = np.load(f'zboson_region_2_tower.npy')\n",
    "true_label_sample_2_2_train = np.tile(np.array([0., 1., 0.]), \n",
    "                                        np.shape(sample_2_2_train_track)[0]).reshape(np.shape(sample_2_2_train_track)[0],n_samples)\n",
    "\n",
    "\n",
    "sample_2_3_train_track = np.load(f'zprimeboson_region_2_track.npy')\n",
    "sample_2_3_train_tower = np.load(f'zprimeboson_region_2_tower.npy')\n",
    "true_label_sample_2_3_train = np.tile(np.array([0., 0., 1.]), \n",
    "                                          np.shape(sample_2_3_train_track)[0]).reshape(np.shape(sample_2_3_train_track)[0],n_samples)\n",
    "\n",
    "\n",
    "sample_3_1_train_track = np.load(f'wboson_region_3_track.npy')\n",
    "sample_3_1_train_tower = np.load(f'wboson_region_3_tower.npy')\n",
    "true_label_sample_3_1_train = np.tile(np.array([1., 0., 0.]), \n",
    "                                        np.shape(sample_3_1_train_track)[0]).reshape(np.shape(sample_3_1_train_track)[0],n_samples)\n",
    "\n",
    "\n",
    "sample_3_2_train_track = np.load(f'zboson_region_3_track.npy')\n",
    "sample_3_2_train_tower = np.load(f'zboson_region_3_tower.npy')\n",
    "true_label_sample_3_2_train = np.tile(np.array([0., 1., 0.]), \n",
    "                                        np.shape(sample_3_2_train_track)[0]).reshape(np.shape(sample_3_2_train_track)[0],n_samples)\n",
    "\n",
    "\n",
    "sample_3_3_train_track = np.load(f'zprimeboson_region_3_track.npy')\n",
    "sample_3_3_train_tower = np.load(f'zprimeboson_region_3_tower.npy')\n",
    "true_label_sample_3_3_train = np.tile(np.array([0., 0., 1.]), \n",
    "                                          np.shape(sample_3_3_train_track)[0]).reshape(np.shape(sample_3_3_train_track)[0],n_samples)\n",
    "\n"
   ]
  },
  {
   "cell_type": "code",
   "execution_count": 13,
   "id": "b5106480",
   "metadata": {},
   "outputs": [
    {
     "name": "stdout",
     "output_type": "stream",
     "text": [
      "10000\n"
     ]
    }
   ],
   "source": [
    "print(np.shape(sample_1_3_train_tower)[0] + np.shape(sample_2_3_train_tower)[0] + np.shape(sample_3_3_train_tower)[0])"
   ]
  },
  {
   "cell_type": "code",
   "execution_count": 14,
   "id": "02baec7e",
   "metadata": {},
   "outputs": [],
   "source": [
    "rng = np.random.default_rng()\n",
    "x_1_track = np.concatenate((sample_1_1_train_track, sample_1_2_train_track, sample_1_3_train_track))\n",
    "x_1_tower = np.concatenate((sample_1_1_train_tower, sample_1_2_train_tower, sample_1_3_train_tower))\n",
    "y_1 = np.tile(np.array([1., 0., 0.]), \n",
    "        np.shape(x_1_track)[0]).reshape(np.shape(x_1_track)[0],n_samples)\n",
    "true_label_1 = np.concatenate((true_label_sample_1_1_train, true_label_sample_1_2_train, \n",
    "                                true_label_sample_1_3_train))\n",
    "indices_1 = rng.permutation(np.shape(x_1_track)[0])\n",
    "\n",
    "x_shuffle_1_track = x_1_track[indices_1]\n",
    "x_shuffle_1_tower = x_1_tower[indices_1]\n",
    "\n",
    "y_shuffle_1 = y_1[indices_1]\n",
    "true_label_shuffle_1 = true_label_1[indices_1]\n",
    "\n",
    "x_2_track = np.concatenate((sample_2_1_train_track, sample_2_2_train_track, sample_2_3_train_track))\n",
    "x_2_tower = np.concatenate((sample_2_1_train_tower, sample_2_2_train_tower, sample_2_3_train_tower))\n",
    "y_2 = np.tile(np.array([0., 1., 0.]), \n",
    "        np.shape(x_2_track)[0]).reshape(np.shape(x_2_track)[0],n_samples)\n",
    "true_label_2 = np.concatenate((true_label_sample_2_1_train, true_label_sample_2_2_train, \n",
    "                                true_label_sample_2_3_train))\n",
    "indices_2 = rng.permutation(np.shape(x_2_track)[0])\n",
    "\n",
    "x_shuffle_2_track = x_2_track[indices_2]\n",
    "x_shuffle_2_tower = x_2_tower[indices_2]\n",
    "\n",
    "y_shuffle_2 = y_2[indices_2]\n",
    "true_label_shuffle_2 = true_label_2[indices_2]\n",
    "\n",
    "x_3_track = np.concatenate((sample_3_1_train_track, sample_3_2_train_track, sample_3_3_train_track))\n",
    "x_3_tower = np.concatenate((sample_3_1_train_tower, sample_3_2_train_tower, sample_3_3_train_tower))\n",
    "y_3 = np.tile(np.array([0., 0., 1.]), \n",
    "        np.shape(x_3_track)[0]).reshape(np.shape(x_3_track)[0],n_samples)\n",
    "true_label_3 = np.concatenate((true_label_sample_3_1_train, true_label_sample_3_2_train, \n",
    "                                true_label_sample_3_3_train))\n",
    "indices_3 = rng.permutation(np.shape(x_3_track)[0])\n",
    "\n",
    "x_shuffle_3_track = x_3_track[indices_3]\n",
    "x_shuffle_3_tower = x_3_tower[indices_3]\n",
    "\n",
    "y_shuffle_3 = y_3[indices_3]\n",
    "true_label_shuffle_3 = true_label_3[indices_3]"
   ]
  },
  {
   "cell_type": "code",
   "execution_count": 15,
   "id": "08afc0c4",
   "metadata": {},
   "outputs": [
    {
     "name": "stderr",
     "output_type": "stream",
     "text": [
      "2025-03-27 13:41:14.914189: I tensorflow/compiler/mlir/mlir_graph_optimization_pass.cc:176] None of the MLIR Optimization Passes are enabled (registered 2)\n"
     ]
    },
    {
     "name": "stdout",
     "output_type": "stream",
     "text": [
      "Epoch 1/200\n",
      "19/19 [==============================] - 8s 147ms/step - loss: 0.9113 - accuracy: 0.4817 - val_loss: 0.9117 - val_accuracy: 0.4985\n",
      "Epoch 2/200\n",
      "19/19 [==============================] - 1s 77ms/step - loss: 0.8575 - accuracy: 0.4892 - val_loss: 0.8724 - val_accuracy: 0.5013\n",
      "Epoch 3/200\n",
      "19/19 [==============================] - 2s 81ms/step - loss: 0.8323 - accuracy: 0.5221 - val_loss: 0.8280 - val_accuracy: 0.5350\n",
      "Epoch 4/200\n",
      "19/19 [==============================] - 2s 82ms/step - loss: 0.7995 - accuracy: 0.5824 - val_loss: 0.8031 - val_accuracy: 0.5771\n",
      "Epoch 5/200\n",
      "19/19 [==============================] - 2s 83ms/step - loss: 0.7518 - accuracy: 0.6692 - val_loss: 0.7635 - val_accuracy: 0.6865\n",
      "Epoch 6/200\n",
      "19/19 [==============================] - 2s 85ms/step - loss: 0.7107 - accuracy: 0.7310 - val_loss: 0.7550 - val_accuracy: 0.7198\n",
      "Epoch 7/200\n",
      "19/19 [==============================] - 2s 84ms/step - loss: 0.6890 - accuracy: 0.7316 - val_loss: 0.6904 - val_accuracy: 0.7133\n",
      "Epoch 8/200\n",
      "19/19 [==============================] - 2s 82ms/step - loss: 0.7065 - accuracy: 0.6992 - val_loss: 0.6822 - val_accuracy: 0.7217\n",
      "Epoch 9/200\n",
      "19/19 [==============================] - 2s 83ms/step - loss: 0.6738 - accuracy: 0.7365 - val_loss: 0.6724 - val_accuracy: 0.7225\n",
      "Epoch 10/200\n",
      "19/19 [==============================] - 1s 73ms/step - loss: 0.6624 - accuracy: 0.7364 - val_loss: 0.6765 - val_accuracy: 0.7598\n",
      "Epoch 11/200\n",
      "19/19 [==============================] - 1s 79ms/step - loss: 0.6480 - accuracy: 0.7482 - val_loss: 0.6577 - val_accuracy: 0.7425\n",
      "Epoch 12/200\n",
      "19/19 [==============================] - 1s 79ms/step - loss: 0.6409 - accuracy: 0.7491 - val_loss: 0.6468 - val_accuracy: 0.7633\n",
      "Epoch 13/200\n",
      "19/19 [==============================] - 1s 76ms/step - loss: 0.6291 - accuracy: 0.7575 - val_loss: 0.6424 - val_accuracy: 0.7477\n",
      "Epoch 14/200\n",
      "19/19 [==============================] - 1s 77ms/step - loss: 0.6312 - accuracy: 0.7548 - val_loss: 0.6379 - val_accuracy: 0.7387\n",
      "Epoch 15/200\n",
      "19/19 [==============================] - 1s 76ms/step - loss: 0.6160 - accuracy: 0.7647 - val_loss: 0.6234 - val_accuracy: 0.7698\n",
      "Epoch 16/200\n",
      "19/19 [==============================] - 1s 67ms/step - loss: 0.6106 - accuracy: 0.7635 - val_loss: 0.6194 - val_accuracy: 0.7804\n",
      "Epoch 17/200\n",
      "19/19 [==============================] - 1s 67ms/step - loss: 0.6053 - accuracy: 0.7674 - val_loss: 0.6123 - val_accuracy: 0.7779\n",
      "Epoch 18/200\n",
      "19/19 [==============================] - 1s 67ms/step - loss: 0.6056 - accuracy: 0.7650 - val_loss: 0.6182 - val_accuracy: 0.7862\n",
      "Epoch 19/200\n",
      "19/19 [==============================] - 1s 66ms/step - loss: 0.6391 - accuracy: 0.7412 - val_loss: 0.6036 - val_accuracy: 0.7881\n",
      "Epoch 20/200\n",
      "19/19 [==============================] - 1s 65ms/step - loss: 0.5939 - accuracy: 0.7756 - val_loss: 0.5963 - val_accuracy: 0.7881\n",
      "Epoch 21/200\n",
      "19/19 [==============================] - 1s 64ms/step - loss: 0.5710 - accuracy: 0.7858 - val_loss: 0.5900 - val_accuracy: 0.7929\n",
      "Epoch 22/200\n",
      "19/19 [==============================] - 1s 64ms/step - loss: 0.5663 - accuracy: 0.7831 - val_loss: 0.6195 - val_accuracy: 0.7783\n",
      "Epoch 23/200\n",
      "19/19 [==============================] - 1s 64ms/step - loss: 0.5746 - accuracy: 0.7788 - val_loss: 0.6042 - val_accuracy: 0.7833\n",
      "Epoch 24/200\n",
      "19/19 [==============================] - 1s 66ms/step - loss: 0.5448 - accuracy: 0.8008 - val_loss: 0.5666 - val_accuracy: 0.7877\n",
      "Epoch 25/200\n",
      "19/19 [==============================] - 1s 69ms/step - loss: 0.5520 - accuracy: 0.7854 - val_loss: 0.5900 - val_accuracy: 0.7627\n",
      "Epoch 26/200\n",
      "19/19 [==============================] - 1s 74ms/step - loss: 0.5349 - accuracy: 0.7985 - val_loss: 0.5435 - val_accuracy: 0.8075\n",
      "Epoch 27/200\n",
      "19/19 [==============================] - 1s 73ms/step - loss: 0.5028 - accuracy: 0.8103 - val_loss: 0.5491 - val_accuracy: 0.7837\n",
      "Epoch 28/200\n",
      "19/19 [==============================] - 1s 73ms/step - loss: 0.4983 - accuracy: 0.8118 - val_loss: 0.5337 - val_accuracy: 0.7890\n",
      "Epoch 29/200\n",
      "19/19 [==============================] - 1s 71ms/step - loss: 0.4735 - accuracy: 0.8209 - val_loss: 0.5137 - val_accuracy: 0.8144\n",
      "Epoch 30/200\n",
      "19/19 [==============================] - 1s 68ms/step - loss: 0.4723 - accuracy: 0.8174 - val_loss: 0.5088 - val_accuracy: 0.8098\n",
      "Epoch 31/200\n",
      "19/19 [==============================] - 1s 67ms/step - loss: 0.4603 - accuracy: 0.8204 - val_loss: 0.5473 - val_accuracy: 0.7810\n",
      "Epoch 32/200\n",
      "19/19 [==============================] - 1s 66ms/step - loss: 0.4537 - accuracy: 0.8258 - val_loss: 0.5576 - val_accuracy: 0.7892\n",
      "Epoch 33/200\n",
      "19/19 [==============================] - 1s 64ms/step - loss: 0.4862 - accuracy: 0.8133 - val_loss: 0.4618 - val_accuracy: 0.8244\n",
      "Epoch 34/200\n",
      "19/19 [==============================] - 1s 64ms/step - loss: 0.4706 - accuracy: 0.8074 - val_loss: 0.4530 - val_accuracy: 0.8290\n",
      "Epoch 35/200\n",
      "19/19 [==============================] - 1s 68ms/step - loss: 0.4365 - accuracy: 0.8263 - val_loss: 0.4611 - val_accuracy: 0.8342\n",
      "Epoch 36/200\n",
      "19/19 [==============================] - 1s 65ms/step - loss: 0.4146 - accuracy: 0.8403 - val_loss: 0.4897 - val_accuracy: 0.7983\n",
      "Epoch 37/200\n",
      "19/19 [==============================] - 1s 65ms/step - loss: 0.4447 - accuracy: 0.8208 - val_loss: 0.4485 - val_accuracy: 0.8219\n",
      "Epoch 38/200\n",
      "19/19 [==============================] - 1s 65ms/step - loss: 0.4545 - accuracy: 0.8149 - val_loss: 0.6355 - val_accuracy: 0.7140\n",
      "Epoch 39/200\n",
      "19/19 [==============================] - 1s 66ms/step - loss: 0.4500 - accuracy: 0.8221 - val_loss: 0.4600 - val_accuracy: 0.8327\n",
      "Epoch 40/200\n",
      "19/19 [==============================] - 1s 66ms/step - loss: 0.4234 - accuracy: 0.8275 - val_loss: 0.4578 - val_accuracy: 0.8181\n",
      "Epoch 41/200\n",
      "19/19 [==============================] - 1s 66ms/step - loss: 0.4288 - accuracy: 0.8234 - val_loss: 0.4999 - val_accuracy: 0.8173\n",
      "Epoch 42/200\n",
      "19/19 [==============================] - 1s 66ms/step - loss: 0.4252 - accuracy: 0.8314 - val_loss: 0.4428 - val_accuracy: 0.8260\n",
      "Epoch 43/200\n",
      "19/19 [==============================] - 1s 67ms/step - loss: 0.4061 - accuracy: 0.8388 - val_loss: 0.4240 - val_accuracy: 0.8331\n",
      "Epoch 44/200\n",
      "19/19 [==============================] - 1s 65ms/step - loss: 0.4188 - accuracy: 0.8272 - val_loss: 0.4193 - val_accuracy: 0.8363\n",
      "Epoch 45/200\n",
      "19/19 [==============================] - 1s 64ms/step - loss: 0.4081 - accuracy: 0.8354 - val_loss: 0.4532 - val_accuracy: 0.8117\n",
      "Epoch 46/200\n",
      "19/19 [==============================] - 1s 64ms/step - loss: 0.4254 - accuracy: 0.8267 - val_loss: 0.4404 - val_accuracy: 0.8254\n",
      "Epoch 47/200\n",
      "19/19 [==============================] - 1s 64ms/step - loss: 0.4123 - accuracy: 0.8326 - val_loss: 0.4403 - val_accuracy: 0.8427\n",
      "Epoch 48/200\n",
      "19/19 [==============================] - 1s 64ms/step - loss: 0.3836 - accuracy: 0.8489 - val_loss: 0.4158 - val_accuracy: 0.8338\n",
      "Epoch 49/200\n",
      "19/19 [==============================] - 1s 64ms/step - loss: 0.3903 - accuracy: 0.8417 - val_loss: 0.4221 - val_accuracy: 0.8350\n",
      "Epoch 50/200\n",
      "19/19 [==============================] - 1s 64ms/step - loss: 0.3713 - accuracy: 0.8539 - val_loss: 0.4127 - val_accuracy: 0.8373\n",
      "Epoch 51/200\n",
      "19/19 [==============================] - 1s 65ms/step - loss: 0.3997 - accuracy: 0.8353 - val_loss: 0.4161 - val_accuracy: 0.8400\n",
      "Epoch 52/200\n",
      "19/19 [==============================] - 1s 64ms/step - loss: 0.3918 - accuracy: 0.8434 - val_loss: 0.4275 - val_accuracy: 0.8290\n",
      "Epoch 53/200\n",
      "19/19 [==============================] - 1s 65ms/step - loss: 0.3755 - accuracy: 0.8491 - val_loss: 0.4272 - val_accuracy: 0.8406\n",
      "Epoch 54/200\n",
      "19/19 [==============================] - 1s 65ms/step - loss: 0.3866 - accuracy: 0.8457 - val_loss: 0.4075 - val_accuracy: 0.8377\n",
      "Epoch 55/200\n",
      "19/19 [==============================] - 1s 71ms/step - loss: 0.3617 - accuracy: 0.8565 - val_loss: 0.4131 - val_accuracy: 0.8381\n",
      "Epoch 56/200\n",
      "19/19 [==============================] - 1s 70ms/step - loss: 0.3825 - accuracy: 0.8443 - val_loss: 0.4079 - val_accuracy: 0.8375\n",
      "Epoch 57/200\n",
      "19/19 [==============================] - 1s 71ms/step - loss: 0.3984 - accuracy: 0.8371 - val_loss: 0.5592 - val_accuracy: 0.7698\n",
      "Epoch 58/200\n",
      "19/19 [==============================] - 1s 69ms/step - loss: 0.4000 - accuracy: 0.8414 - val_loss: 0.4374 - val_accuracy: 0.8348\n",
      "Epoch 59/200\n",
      "19/19 [==============================] - 1s 69ms/step - loss: 0.4067 - accuracy: 0.8336 - val_loss: 0.5012 - val_accuracy: 0.7829\n",
      "Epoch 60/200\n",
      "19/19 [==============================] - 1s 67ms/step - loss: 0.3886 - accuracy: 0.8430 - val_loss: 0.4062 - val_accuracy: 0.8385\n",
      "Epoch 61/200\n",
      "19/19 [==============================] - 1s 65ms/step - loss: 0.3717 - accuracy: 0.8489 - val_loss: 0.4195 - val_accuracy: 0.8392\n",
      "Epoch 62/200\n",
      "19/19 [==============================] - 1s 65ms/step - loss: 0.3675 - accuracy: 0.8505 - val_loss: 0.4002 - val_accuracy: 0.8423\n",
      "Epoch 63/200\n",
      "19/19 [==============================] - 1s 65ms/step - loss: 0.3777 - accuracy: 0.8454 - val_loss: 0.4172 - val_accuracy: 0.8360\n",
      "Epoch 64/200\n",
      "19/19 [==============================] - 1s 65ms/step - loss: 0.4087 - accuracy: 0.8317 - val_loss: 0.4019 - val_accuracy: 0.8400\n",
      "Epoch 65/200\n",
      "19/19 [==============================] - 1s 66ms/step - loss: 0.3889 - accuracy: 0.8423 - val_loss: 0.4033 - val_accuracy: 0.8469\n",
      "Epoch 66/200\n",
      "19/19 [==============================] - 1s 65ms/step - loss: 0.3563 - accuracy: 0.8594 - val_loss: 0.3978 - val_accuracy: 0.8446\n",
      "Epoch 67/200\n",
      "19/19 [==============================] - 1s 66ms/step - loss: 0.3418 - accuracy: 0.8633 - val_loss: 0.4028 - val_accuracy: 0.8352\n",
      "Epoch 68/200\n",
      "19/19 [==============================] - 1s 65ms/step - loss: 0.3481 - accuracy: 0.8579 - val_loss: 0.4162 - val_accuracy: 0.8331\n",
      "Epoch 69/200\n",
      "19/19 [==============================] - 1s 65ms/step - loss: 0.3368 - accuracy: 0.8662 - val_loss: 0.4165 - val_accuracy: 0.8321\n",
      "Epoch 70/200\n",
      "19/19 [==============================] - 1s 65ms/step - loss: 0.3407 - accuracy: 0.8639 - val_loss: 0.3921 - val_accuracy: 0.8442\n",
      "Epoch 71/200\n",
      "19/19 [==============================] - 1s 65ms/step - loss: 0.3505 - accuracy: 0.8591 - val_loss: 0.3966 - val_accuracy: 0.8415\n",
      "Epoch 72/200\n",
      "19/19 [==============================] - 1s 66ms/step - loss: 0.3418 - accuracy: 0.8624 - val_loss: 0.3947 - val_accuracy: 0.8442\n",
      "Epoch 73/200\n",
      "19/19 [==============================] - 1s 66ms/step - loss: 0.3302 - accuracy: 0.8697 - val_loss: 0.4009 - val_accuracy: 0.8396\n",
      "Epoch 74/200\n",
      "19/19 [==============================] - 1s 66ms/step - loss: 0.3585 - accuracy: 0.8530 - val_loss: 0.4199 - val_accuracy: 0.8294\n",
      "Epoch 75/200\n",
      "19/19 [==============================] - 1s 66ms/step - loss: 0.3525 - accuracy: 0.8549 - val_loss: 0.4089 - val_accuracy: 0.8388\n",
      "Epoch 76/200\n",
      "19/19 [==============================] - 1s 65ms/step - loss: 0.3324 - accuracy: 0.8674 - val_loss: 0.3924 - val_accuracy: 0.8452\n",
      "Epoch 77/200\n",
      "19/19 [==============================] - 1s 65ms/step - loss: 0.3254 - accuracy: 0.8739 - val_loss: 0.3898 - val_accuracy: 0.8421\n",
      "Epoch 78/200\n",
      "19/19 [==============================] - 1s 65ms/step - loss: 0.3162 - accuracy: 0.8756 - val_loss: 0.3993 - val_accuracy: 0.8433\n",
      "Epoch 79/200\n",
      "19/19 [==============================] - 1s 64ms/step - loss: 0.3586 - accuracy: 0.8527 - val_loss: 0.4092 - val_accuracy: 0.8456\n",
      "Epoch 80/200\n",
      "19/19 [==============================] - 1s 64ms/step - loss: 0.3272 - accuracy: 0.8720 - val_loss: 0.3839 - val_accuracy: 0.8473\n",
      "Epoch 81/200\n",
      "19/19 [==============================] - 1s 64ms/step - loss: 0.3204 - accuracy: 0.8719 - val_loss: 0.4760 - val_accuracy: 0.8060\n",
      "Epoch 82/200\n",
      "19/19 [==============================] - 1s 64ms/step - loss: 0.3351 - accuracy: 0.8684 - val_loss: 0.3899 - val_accuracy: 0.8469\n",
      "Epoch 83/200\n",
      "19/19 [==============================] - 1s 64ms/step - loss: 0.3394 - accuracy: 0.8641 - val_loss: 0.3936 - val_accuracy: 0.8456\n",
      "Epoch 84/200\n",
      "19/19 [==============================] - 1s 64ms/step - loss: 0.3123 - accuracy: 0.8770 - val_loss: 0.3930 - val_accuracy: 0.8425\n",
      "Epoch 85/200\n",
      "19/19 [==============================] - 1s 64ms/step - loss: 0.3192 - accuracy: 0.8716 - val_loss: 0.3843 - val_accuracy: 0.8448\n",
      "Epoch 86/200\n",
      "19/19 [==============================] - 1s 65ms/step - loss: 0.3248 - accuracy: 0.8699 - val_loss: 0.4152 - val_accuracy: 0.8296\n",
      "Epoch 87/200\n",
      "19/19 [==============================] - 1s 65ms/step - loss: 0.3142 - accuracy: 0.8771 - val_loss: 0.3917 - val_accuracy: 0.8517\n",
      "Epoch 88/200\n",
      "19/19 [==============================] - 1s 64ms/step - loss: 0.3197 - accuracy: 0.8733 - val_loss: 0.4250 - val_accuracy: 0.8300\n",
      "Epoch 89/200\n",
      "19/19 [==============================] - 1s 65ms/step - loss: 0.3393 - accuracy: 0.8619 - val_loss: 0.4003 - val_accuracy: 0.8525\n",
      "Epoch 90/200\n",
      "19/19 [==============================] - 1s 70ms/step - loss: 0.3152 - accuracy: 0.8779 - val_loss: 0.3872 - val_accuracy: 0.8519\n",
      "Epoch 00090: early stopping\n"
     ]
    }
   ],
   "source": [
    "\n",
    "x_track = np.concatenate((x_shuffle_1_track, x_shuffle_2_track, x_shuffle_3_track))\n",
    "x_tower = np.concatenate((x_shuffle_1_tower, x_shuffle_2_tower, x_shuffle_3_tower))\n",
    "y = np.concatenate((y_shuffle_1, y_shuffle_2, y_shuffle_3))\n",
    "true_label = np.concatenate((true_label_shuffle_1, true_label_shuffle_2, true_label_shuffle_3))\n",
    "\n",
    "indices_shuffle = rng.permutation(np.shape(y)[0])\n",
    "\n",
    "x_track = x_track[indices_shuffle]\n",
    "x_tower = x_tower[indices_shuffle]\n",
    "y = y[indices_shuffle]\n",
    "\n",
    "true_label = true_label[indices_shuffle]\n",
    "\n",
    "from sklearn.model_selection import train_test_split\n",
    "x_track_train, x_track_test, x_tower_train, x_tower_test, y_train, y_test, true_label_train, true_label_test = train_test_split(\n",
    "    x_track, x_tower, y, true_label, test_size=0.2, random_state=42)\n",
    "\n",
    "model = build_model(x_track.shape[1])\n",
    "early_stopping = tf.keras.callbacks.EarlyStopping(monitor='val_loss', min_delta=0, verbose=1, patience=10)\n",
    "history = model.fit([x_track_train, x_tower_train], y_train, validation_split = 0.2, epochs=200, batch_size=1024, verbose=1, \n",
    "                    callbacks=[\n",
    "                                early_stopping,\n",
    "                                   ])"
   ]
  },
  {
   "cell_type": "code",
   "execution_count": 16,
   "id": "a78eb76a",
   "metadata": {},
   "outputs": [
    {
     "data": {
      "image/png": "[encoded data removed]",
      "text/plain": [
       "<Figure size 640x480 with 1 Axes>"
      ]
     },
     "metadata": {},
     "output_type": "display_data"
    }
   ],
   "source": [
    "plt.figure()\n",
    "plt.plot(history.history['loss'], label = 'loss')\n",
    "plt.plot(history.history['val_loss'], label = 'val_loss')\n",
    "plt.legend(loc = 'upper right')\n",
    "plt.show()"
   ]
  },
  {
   "cell_type": "code",
   "execution_count": 17,
   "id": "5144c42c",
   "metadata": {},
   "outputs": [
    {
     "data": {
      "image/png": "[encoded data removed]",
      "text/plain": [
       "<Figure size 640x480 with 1 Axes>"
      ]
     },
     "metadata": {},
     "output_type": "display_data"
    }
   ],
   "source": [
    "plt.figure()\n",
    "plt.plot(history.history['accuracy'], label = 'accuracy')\n",
    "plt.plot(history.history['val_accuracy'], label = 'val_accuracy')\n",
    "plt.legend(loc = 'upper right')\n",
    "plt.show()"
   ]
  },
  {
   "cell_type": "code",
   "execution_count": 18,
   "id": "d133868e",
   "metadata": {},
   "outputs": [
    {
     "name": "stdout",
     "output_type": "stream",
     "text": [
      "  1/188 [..............................] - ETA: 26s - loss: 1.1106 - accuracy: 0.5938"
     ]
    },
    {
     "name": "stdout",
     "output_type": "stream",
     "text": [
      "188/188 [==============================] - 2s 8ms/step - loss: 1.3656 - accuracy: 0.6087\n"
     ]
    }
   ],
   "source": [
    "#Evaluate on the true labels\n",
    "loss, accuracy = model.evaluate([x_track_test, x_tower_test], true_label_test)"
   ]
  },
  {
   "cell_type": "code",
   "execution_count": 19,
   "id": "f6e54637",
   "metadata": {},
   "outputs": [
    {
     "name": "stdout",
     "output_type": "stream",
     "text": [
      " 16/188 [=>............................] - ETA: 1s - loss: 0.3572 - accuracy: 0.8477"
     ]
    },
    {
     "name": "stdout",
     "output_type": "stream",
     "text": [
      "188/188 [==============================] - 1s 7ms/step - loss: 0.3623 - accuracy: 0.8572\n",
      "0.8571666479110718\n"
     ]
    }
   ],
   "source": [
    "#Evaluate on the training labels\n",
    "loss, accuracy = model.evaluate([x_track_test, x_tower_test], y_test)\n",
    "print(accuracy)"
   ]
  },
  {
   "cell_type": "code",
   "execution_count": 20,
   "id": "a7e91715",
   "metadata": {},
   "outputs": [
    {
     "name": "stdout",
     "output_type": "stream",
     "text": [
      "Epoch 1/10\n",
      "32/32 [==============================] - 0s 3ms/step - loss: 0.7388 - accuracy: 0.6920\n",
      "Epoch 2/10\n",
      "32/32 [==============================] - 0s 4ms/step - loss: 0.1940 - accuracy: 0.9500\n",
      "Epoch 3/10\n",
      "32/32 [==============================] - 0s 4ms/step - loss: 0.0605 - accuracy: 0.9820\n",
      "Epoch 4/10\n",
      "32/32 [==============================] - 0s 4ms/step - loss: 0.0428 - accuracy: 0.9870\n",
      "Epoch 5/10\n",
      "32/32 [==============================] - 0s 4ms/step - loss: 0.0358 - accuracy: 0.9880\n",
      "Epoch 6/10\n",
      "32/32 [==============================] - 0s 4ms/step - loss: 0.0306 - accuracy: 0.9910\n",
      "Epoch 7/10\n",
      "32/32 [==============================] - 0s 4ms/step - loss: 0.0300 - accuracy: 0.9890\n",
      "Epoch 8/10\n",
      "32/32 [==============================] - 0s 4ms/step - loss: 0.0245 - accuracy: 0.9940\n",
      "Epoch 9/10\n",
      "32/32 [==============================] - 0s 4ms/step - loss: 0.0242 - accuracy: 0.9920\n",
      "Epoch 10/10\n",
      "32/32 [==============================] - 0s 4ms/step - loss: 0.0240 - accuracy: 0.9890\n",
      "[[ 850   43 1125]\n",
      " [ 180   43 1734]\n",
      " [  58  654 1313]]\n",
      "Spectral Clustering accuracy on pure data, 53.97%\n",
      "ML accuracy on pure data, 53.77%\n"
     ]
    }
   ],
   "source": [
    "num_classes = 3\n",
    "x_train_post_model = model.predict([x_track_train[0:1000], x_tower_train[0:1000]])\n",
    "spec_model = SpectralClustering(n_clusters=num_classes, assign_labels = 'discretize')\n",
    "spec_results = spec_model.fit_predict(x_train_post_model)\n",
    "model_clustering =  build_model_clustering(x_train_post_model.shape[1])\n",
    "one_hot_spec_results = np.eye(num_classes)[spec_results]\n",
    "history_2 = model_clustering.fit(x_train_post_model, one_hot_spec_results, epochs = 10)\n",
    "\n",
    "\n",
    "x_predict_pre_kmeans = model.predict([x_track_test, x_tower_test])\n",
    "x_predict_post_spec = spec_model.fit_predict(x_predict_pre_kmeans)\n",
    "predicted_labels = np.argmax(true_label_test, axis = 1)\n",
    "\n",
    "conf_matrix_spec = confusion_matrix(predicted_labels, x_predict_post_spec, labels = [0, 1, 2])\n",
    "print(conf_matrix_spec)\n",
    "# Step 2: Use Hungarian algorithm for optimal label assignment\n",
    "row_ind_spec, col_ind_spec = linear_sum_assignment(-conf_matrix_spec)  # Maximize matches\n",
    "# Step 3: Map predicted labels to desired labels\n",
    "label_mapping_spec = {row_spec: col_spec for col_spec, row_spec in zip(row_ind_spec, col_ind_spec)}\n",
    "final_labels_spec = np.array([label_mapping_spec[label_spec] for label_spec in x_predict_post_spec])\n",
    "\n",
    "accuracy_spec = np.mean(final_labels_spec == np.argmax(true_label_test, axis = 1))\n",
    "print(f\"Spectral Clustering accuracy on pure data, {accuracy_spec*100:.2f}%\")\n",
    "\n",
    "x_predict_post_ml = np.argmax(model_clustering.predict(x_predict_pre_kmeans), axis = 1)\n",
    "#Rematching of labels\n",
    "conf_matrix_ml = confusion_matrix(predicted_labels, x_predict_post_ml, labels = [0, 1, 2])\n",
    "# Step 2: Use Hungarian algorithm for optimal label assignment\n",
    "row_ind_ml, col_ind_ml = linear_sum_assignment(-conf_matrix_ml)  # Maximize matches\n",
    "\n",
    "# Step 3: Map predicted labels to desired labels\n",
    "label_mapping_ml = {row_ml: col_ml for col_ml, row_ml in zip(row_ind_ml, col_ind_ml)}\n",
    "\n",
    "# Apply mapping to reorder labels\n",
    "final_labels_ml = np.array([label_mapping_ml[label_ml] for label_ml in x_predict_post_ml])\n",
    "accuracy_ml = np.mean(final_labels_ml == np.argmax(true_label_test, axis = 1))\n",
    "print(f\"ML accuracy on pure data, {accuracy_ml*100:.2f}%\")\n"
   ]
  }
 ],
 "metadata": {
  "kernelspec": {
   "display_name": "tensorflow",
   "language": "python",
   "name": "python3"
  },
  "language_info": {
   "codemirror_mode": {
    "name": "ipython",
    "version": 3
   },
   "file_extension": ".py",
   "mimetype": "text/x-python",
   "name": "python",
   "nbconvert_exporter": "python",
   "pygments_lexer": "ipython3",
   "version": "3.8.2"
  }
 },
 "nbformat": 4,
 "nbformat_minor": 5
}
