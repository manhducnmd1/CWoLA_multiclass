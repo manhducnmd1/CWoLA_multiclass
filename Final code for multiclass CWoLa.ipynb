{
 "cells": [
  {
   "cell_type": "code",
   "execution_count": 11,
   "id": "5cfc7550",
   "metadata": {},
   "outputs": [],
   "source": [
    "import os\n",
    "import numpy as np\n",
    "import tensorflow as tf\n",
    "from tensorflow import keras\n",
    "from tensorflow.keras import layers\n",
    "from matplotlib import pyplot as plt\n",
    "from matplotlib import colors as mcolors\n",
    "from sklearn.metrics import roc_curve, roc_auc_score\n",
    "from scipy import interpolate\n",
    "from sklearn.utils import shuffle"
   ]
  },
  {
   "cell_type": "code",
   "execution_count": 12,
   "id": "4d0c2a32-7edb-4ba7-bc52-64b2b8cae624",
   "metadata": {},
   "outputs": [
    {
     "name": "stdout",
     "output_type": "stream",
     "text": [
      "Num GPUs Available:  3\n"
     ]
    }
   ],
   "source": [
    "print(\"Num GPUs Available: \", len(tf.config.list_physical_devices('GPU')))"
   ]
  },
  {
   "cell_type": "code",
   "execution_count": 13,
   "id": "343430dd",
   "metadata": {},
   "outputs": [
    {
     "name": "stdout",
     "output_type": "stream",
     "text": [
      "3 Physical GPUs, 3 Logical GPUs\n"
     ]
    }
   ],
   "source": [
    "\n",
    "gpus = tf.config.experimental.list_physical_devices('GPU')\n",
    "if gpus:\n",
    "    try:\n",
    "        for gpu in gpus:\n",
    "            tf.config.experimental.set_memory_growth(gpu, False)\n",
    "        logical_gpus = tf.config.experimental.list_logical_devices('GPU')\n",
    "        print(f\"{len(gpus)} Physical GPUs, {len(logical_gpus)} Logical GPUs\")\n",
    "    except RuntimeError as e:\n",
    "        print(e)"
   ]
  },
  {
   "cell_type": "code",
   "execution_count": 14,
   "id": "f203120f",
   "metadata": {},
   "outputs": [
    {
     "data": {
      "application/javascript": "IPython.notebook.set_autosave_interval(5000)"
     },
     "metadata": {},
     "output_type": "display_data"
    },
    {
     "name": "stdout",
     "output_type": "stream",
     "text": [
      "Autosaving every 5 seconds\n"
     ]
    }
   ],
   "source": [
    "#Reading files into a log\n",
    "import sys\n",
    "import logging\n",
    "\n",
    "nblog = open(\"nb_id.log\", \"a+\")\n",
    "sys.stdout.echo = nblog\n",
    "sys.stderr.echo = nblog\n",
    "\n",
    "get_ipython().log.handlers[0].stream = nblog\n",
    "get_ipython().log.setLevel(logging.INFO)\n",
    "\n",
    "%autosave 5"
   ]
  },
  {
   "cell_type": "code",
   "execution_count": 15,
   "id": "048590b7-f6c0-49b4-8cd6-5db4aa0de0fe",
   "metadata": {},
   "outputs": [],
   "source": [
    "np.random.seed(42)\n",
    "tf.random.set_seed(8)\n"
   ]
  },
  {
   "cell_type": "code",
   "execution_count": 16,
   "id": "e4550aff",
   "metadata": {},
   "outputs": [],
   "source": [
    "def build_model(p_i):\n",
    "    input_1 = keras.layers.Input(shape = (p_i,p_i,1), name = \"track\")\n",
    "    input_2 = keras.layers.Input(shape = (p_i,p_i,1), name = \"tower\")\n",
    "    y = keras.layers.BatchNormalization()(input_1)\n",
    "    z = keras.layers.BatchNormalization()(input_2)\n",
    "    cnn = keras.Sequential([\n",
    "        keras.layers.Conv2D(64, (5,5), padding = 'same', activation = 'relu'),\n",
    "        keras.layers.MaxPool2D(pool_size = (2,2)),\n",
    "        keras.layers.Conv2D(64, (5, 5), padding = 'same', activation = 'relu'),\n",
    "        keras.layers.MaxPool2D(pool_size = (2,2)),\n",
    "        keras.layers.Conv2D(128, (3,3), padding = 'same', activation = 'relu'),\n",
    "        keras.layers.MaxPool2D(pool_size = (2,2)),    \n",
    "        keras.layers.Conv2D(128, (3,3), padding = 'same', activation = 'relu'),\n",
    "        keras.layers.Flatten(),\n",
    "    ])\n",
    "    dnn = keras.Sequential([\n",
    "          keras.layers.Dense(128, activation = 'relu'),\n",
    "          keras.layers.Dense(128, activation = 'relu'),\n",
    "          keras.layers.Dense(128, activation = 'relu'),\n",
    "          keras.layers.Dense(3, activation = 'softmax')\n",
    "    ])\n",
    "    x_1 = dnn(cnn(y))\n",
    "    x_2 = dnn(cnn(z))\n",
    "    x_out = keras.layers.Multiply()([x_1, x_2])\n",
    "    model = keras.Model(         \n",
    "    inputs=[input_1, input_2],\n",
    "    outputs=x_out)\n",
    "    model.compile(optimizer=tf.keras.optimizers.Adam(1e-4),\n",
    "                loss=tf.keras.losses.CategoricalCrossentropy(from_logits=False),\n",
    "                metrics=['accuracy'])\n",
    "    return model"
   ]
  },
  {
   "cell_type": "code",
   "execution_count": 17,
   "id": "8fee58dd",
   "metadata": {},
   "outputs": [],
   "source": [
    "def build_model_clustering(input_dim):\n",
    "    model = keras.models.Sequential()\n",
    "    model.add(keras.layers.Dense(16, input_dim=input_dim, activation='relu'))\n",
    "    model.add(keras.layers.Dense(16, activation='relu'))\n",
    "    model.add(keras.layers.Dense(3, activation='softmax'))\n",
    "    model.compile(optimizer=tf.keras.optimizers.Adam(1e-2),\n",
    "                loss=tf.keras.losses.CategoricalCrossentropy(from_logits=False),\n",
    "                metrics=['accuracy'])\n",
    "    return model"
   ]
  },
  {
   "cell_type": "code",
   "execution_count": 18,
   "id": "f16b8417",
   "metadata": {},
   "outputs": [],
   "source": [
    "#Preparing samples\n",
    "n_samples = 3\n",
    "os.chdir('/home/manhducnmd/manhducnmd/Delphes-3.5.0')    \n",
    "sample_1_1_train_track = np.load(f'wboson_region_1_track.npy')\n",
    "sample_1_1_train_tower = np.load(f'wboson_region_1_tower.npy')\n",
    "true_label_sample_1_1_train = np.tile(np.array([1., 0., 0.]), \n",
    "                                          np.shape(sample_1_1_train_track)[0]).reshape(np.shape(sample_1_1_train_track)[0],n_samples)\n",
    "\n",
    "sample_1_2_train_track = np.load(f'zboson_region_1_track.npy')\n",
    "sample_1_2_train_tower = np.load(f'zboson_region_1_tower.npy')\n",
    "true_label_sample_1_2_train = np.tile(np.array([0., 1., 0.]), \n",
    "                                          np.shape(sample_1_2_train_track)[0]).reshape(np.shape(sample_1_2_train_track)[0],n_samples)\n",
    "\n",
    "sample_1_3_train_track = np.load(f'zprimeboson_region_1_track.npy')\n",
    "sample_1_3_train_tower = np.load(f'zprimeboson_region_1_tower.npy')\n",
    "true_label_sample_1_3_train = np.tile(np.array([0., 0., 1.]), \n",
    "                                          np.shape(sample_1_3_train_track)[0]).reshape(np.shape(sample_1_3_train_track)[0],n_samples)\n",
    "\n",
    "sample_2_1_train_track = np.load(f'wboson_region_2_track.npy')\n",
    "sample_2_1_train_tower = np.load(f'wboson_region_2_tower.npy')\n",
    "true_label_sample_2_1_train = np.tile(np.array([1., 0., 0.]), \n",
    "                                        np.shape(sample_2_1_train_track)[0]).reshape(np.shape(sample_2_1_train_track)[0],n_samples)\n",
    "\n",
    "\n",
    "sample_2_2_train_track = np.load(f'zboson_region_2_track.npy')\n",
    "sample_2_2_train_tower = np.load(f'zboson_region_2_tower.npy')\n",
    "true_label_sample_2_2_train = np.tile(np.array([0., 1., 0.]), \n",
    "                                        np.shape(sample_2_2_train_track)[0]).reshape(np.shape(sample_2_2_train_track)[0],n_samples)\n",
    "\n",
    "\n",
    "sample_2_3_train_track = np.load(f'zprimeboson_region_2_track.npy')\n",
    "sample_2_3_train_tower = np.load(f'zprimeboson_region_2_tower.npy')\n",
    "true_label_sample_2_3_train = np.tile(np.array([0., 0., 1.]), \n",
    "                                          np.shape(sample_2_3_train_track)[0]).reshape(np.shape(sample_2_3_train_track)[0],n_samples)\n",
    "\n",
    "\n",
    "sample_3_1_train_track = np.load(f'wboson_region_3_track.npy')\n",
    "sample_3_1_train_tower = np.load(f'wboson_region_3_tower.npy')\n",
    "true_label_sample_3_1_train = np.tile(np.array([1., 0., 0.]), \n",
    "                                        np.shape(sample_3_1_train_track)[0]).reshape(np.shape(sample_3_1_train_track)[0],n_samples)\n",
    "\n",
    "\n",
    "sample_3_2_train_track = np.load(f'zboson_region_2_track.npy')\n",
    "sample_3_2_train_tower = np.load(f'zboson_region_2_tower.npy')\n",
    "true_label_sample_3_2_train = np.tile(np.array([0., 1., 0.]), \n",
    "                                        np.shape(sample_3_2_train_track)[0]).reshape(np.shape(sample_3_2_train_track)[0],n_samples)\n",
    "\n",
    "\n",
    "sample_3_3_train_track = np.load(f'zprimeboson_region_2_track.npy')\n",
    "sample_3_3_train_tower = np.load(f'zprimeboson_region_2_tower.npy')\n",
    "true_label_sample_3_3_train = np.tile(np.array([0., 0., 1.]), \n",
    "                                          np.shape(sample_3_3_train_track)[0]).reshape(np.shape(sample_3_3_train_track)[0],n_samples)\n",
    "\n"
   ]
  },
  {
   "cell_type": "code",
   "execution_count": 19,
   "id": "02baec7e",
   "metadata": {},
   "outputs": [],
   "source": [
    "rng = np.random.default_rng()\n",
    "x_1_track = np.concatenate((sample_1_1_train_track, sample_1_2_train_track, sample_1_3_train_track))\n",
    "x_1_tower = np.concatenate((sample_1_1_train_tower, sample_1_2_train_tower, sample_1_3_train_tower))\n",
    "y_1 = np.tile(np.array([1., 0., 0.]), \n",
    "        np.shape(x_1_track)[0]).reshape(np.shape(x_1_track)[0],n_samples)\n",
    "true_label_1 = np.concatenate((true_label_sample_1_1_train, true_label_sample_1_2_train, \n",
    "                                true_label_sample_1_3_train))\n",
    "indices_1 = rng.permutation(np.shape(x_1_track)[0])\n",
    "\n",
    "x_shuffle_1_track = x_1_track[indices_1]\n",
    "x_shuffle_1_tower = x_1_tower[indices_1]\n",
    "\n",
    "y_shuffle_1 = y_1[indices_1]\n",
    "true_label_shuffle_1 = true_label_1[indices_1]\n",
    "\n",
    "x_2_track = np.concatenate((sample_2_1_train_track, sample_2_2_train_track, sample_2_3_train_track))\n",
    "x_2_tower = np.concatenate((sample_2_1_train_tower, sample_2_2_train_tower, sample_2_3_train_tower))\n",
    "y_2 = np.tile(np.array([0., 1., 0.]), \n",
    "        np.shape(x_2_track)[0]).reshape(np.shape(x_2_track)[0],n_samples)\n",
    "true_label_2 = np.concatenate((true_label_sample_2_1_train, true_label_sample_2_2_train, \n",
    "                                true_label_sample_2_3_train))\n",
    "indices_2 = rng.permutation(np.shape(x_2_track)[0])\n",
    "\n",
    "x_shuffle_2_track = x_2_track[indices_2]\n",
    "x_shuffle_2_tower = x_2_tower[indices_2]\n",
    "\n",
    "y_shuffle_2 = y_2[indices_2]\n",
    "true_label_shuffle_2 = true_label_2[indices_2]\n",
    "\n",
    "x_3_track = np.concatenate((sample_3_1_train_track, sample_3_2_train_track, sample_3_3_train_track))\n",
    "x_3_tower = np.concatenate((sample_3_1_train_tower, sample_3_2_train_tower, sample_3_3_train_tower))\n",
    "y_3 = np.tile(np.array([0., 0., 1.]), \n",
    "        np.shape(x_3_track)[0]).reshape(np.shape(x_3_track)[0],n_samples)\n",
    "true_label_3 = np.concatenate((true_label_sample_3_1_train, true_label_sample_3_2_train, \n",
    "                                true_label_sample_3_3_train))\n",
    "indices_3 = rng.permutation(np.shape(x_3_track)[0])\n",
    "\n",
    "x_shuffle_3_track = x_3_track[indices_3]\n",
    "x_shuffle_3_tower = x_3_tower[indices_3]\n",
    "\n",
    "y_shuffle_3 = y_3[indices_3]\n",
    "true_label_shuffle_3 = true_label_3[indices_3]"
   ]
  },
  {
   "cell_type": "code",
   "execution_count": 23,
   "id": "08afc0c4",
   "metadata": {},
   "outputs": [
    {
     "name": "stdout",
     "output_type": "stream",
     "text": [
      "Epoch 1/200\n",
      "21/21 [==============================] - 2s 76ms/step - loss: 1.0585 - accuracy: 0.3840 - val_loss: 1.0563 - val_accuracy: 0.3793\n",
      "Epoch 2/200\n",
      "21/21 [==============================] - 1s 68ms/step - loss: 1.0401 - accuracy: 0.3966 - val_loss: 1.0529 - val_accuracy: 0.3889\n",
      "Epoch 3/200\n",
      "21/21 [==============================] - 1s 69ms/step - loss: 1.0297 - accuracy: 0.4228 - val_loss: 1.0299 - val_accuracy: 0.4014\n",
      "Epoch 4/200\n",
      "21/21 [==============================] - 1s 66ms/step - loss: 1.0123 - accuracy: 0.4715 - val_loss: 1.0106 - val_accuracy: 0.4615\n",
      "Epoch 5/200\n",
      "21/21 [==============================] - 1s 67ms/step - loss: 0.9869 - accuracy: 0.5139 - val_loss: 0.9843 - val_accuracy: 0.5058\n",
      "Epoch 6/200\n",
      "21/21 [==============================] - 1s 65ms/step - loss: 0.9661 - accuracy: 0.5310 - val_loss: 0.9875 - val_accuracy: 0.4935\n",
      "Epoch 7/200\n",
      "21/21 [==============================] - 1s 68ms/step - loss: 0.9595 - accuracy: 0.5322 - val_loss: 0.9587 - val_accuracy: 0.5095\n",
      "Epoch 8/200\n",
      "21/21 [==============================] - 1s 69ms/step - loss: 0.9464 - accuracy: 0.5426 - val_loss: 0.9717 - val_accuracy: 0.5046\n",
      "Epoch 9/200\n",
      "21/21 [==============================] - 1s 72ms/step - loss: 0.9397 - accuracy: 0.5446 - val_loss: 0.9508 - val_accuracy: 0.5029\n",
      "Epoch 10/200\n",
      "21/21 [==============================] - 1s 68ms/step - loss: 0.9317 - accuracy: 0.5451 - val_loss: 0.9406 - val_accuracy: 0.5099\n",
      "Epoch 11/200\n",
      "21/21 [==============================] - 1s 67ms/step - loss: 0.9196 - accuracy: 0.5537 - val_loss: 0.9449 - val_accuracy: 0.5097\n",
      "Epoch 12/200\n",
      "21/21 [==============================] - 1s 67ms/step - loss: 0.9201 - accuracy: 0.5495 - val_loss: 0.9383 - val_accuracy: 0.5152\n",
      "Epoch 13/200\n",
      "21/21 [==============================] - 1s 65ms/step - loss: 0.9151 - accuracy: 0.5560 - val_loss: 0.9278 - val_accuracy: 0.5313\n",
      "Epoch 14/200\n",
      "21/21 [==============================] - 1s 65ms/step - loss: 0.8975 - accuracy: 0.5598 - val_loss: 0.9222 - val_accuracy: 0.5336\n",
      "Epoch 15/200\n",
      "21/21 [==============================] - 1s 66ms/step - loss: 0.8957 - accuracy: 0.5592 - val_loss: 0.9300 - val_accuracy: 0.5275\n",
      "Epoch 16/200\n",
      "21/21 [==============================] - 1s 68ms/step - loss: 0.8748 - accuracy: 0.5715 - val_loss: 0.9028 - val_accuracy: 0.5307\n",
      "Epoch 17/200\n",
      "21/21 [==============================] - 1s 66ms/step - loss: 0.8638 - accuracy: 0.5763 - val_loss: 0.8940 - val_accuracy: 0.5147\n",
      "Epoch 18/200\n",
      "21/21 [==============================] - 1s 67ms/step - loss: 0.8500 - accuracy: 0.5783 - val_loss: 0.8919 - val_accuracy: 0.5536\n",
      "Epoch 19/200\n",
      "21/21 [==============================] - 1s 69ms/step - loss: 0.8421 - accuracy: 0.5820 - val_loss: 0.9396 - val_accuracy: 0.5147\n",
      "Epoch 20/200\n",
      "21/21 [==============================] - 2s 72ms/step - loss: 0.8421 - accuracy: 0.5775 - val_loss: 0.8830 - val_accuracy: 0.5443\n",
      "Epoch 21/200\n",
      "21/21 [==============================] - 2s 74ms/step - loss: 0.8222 - accuracy: 0.5876 - val_loss: 0.8876 - val_accuracy: 0.5294\n",
      "Epoch 22/200\n",
      "21/21 [==============================] - 2s 73ms/step - loss: 0.8140 - accuracy: 0.5905 - val_loss: 0.8645 - val_accuracy: 0.5317\n",
      "Epoch 23/200\n",
      "21/21 [==============================] - 2s 71ms/step - loss: 0.8025 - accuracy: 0.5923 - val_loss: 0.8522 - val_accuracy: 0.5481\n",
      "Epoch 24/200\n",
      "21/21 [==============================] - 1s 71ms/step - loss: 0.7898 - accuracy: 0.6025 - val_loss: 0.8996 - val_accuracy: 0.5313\n",
      "Epoch 25/200\n",
      "21/21 [==============================] - 1s 70ms/step - loss: 0.8043 - accuracy: 0.5938 - val_loss: 0.8405 - val_accuracy: 0.5540\n",
      "Epoch 26/200\n",
      "21/21 [==============================] - 1s 66ms/step - loss: 0.7796 - accuracy: 0.6086 - val_loss: 0.8484 - val_accuracy: 0.5540\n",
      "Epoch 27/200\n",
      "21/21 [==============================] - 1s 65ms/step - loss: 0.7740 - accuracy: 0.6080 - val_loss: 0.8387 - val_accuracy: 0.5436\n",
      "Epoch 28/200\n",
      "21/21 [==============================] - 1s 66ms/step - loss: 0.7759 - accuracy: 0.6059 - val_loss: 0.8474 - val_accuracy: 0.5445\n",
      "Epoch 29/200\n",
      "21/21 [==============================] - 1s 68ms/step - loss: 0.7627 - accuracy: 0.6144 - val_loss: 0.8434 - val_accuracy: 0.5430\n",
      "Epoch 30/200\n",
      "21/21 [==============================] - 1s 66ms/step - loss: 0.7936 - accuracy: 0.5969 - val_loss: 0.8303 - val_accuracy: 0.5447\n",
      "Epoch 31/200\n",
      "21/21 [==============================] - 1s 67ms/step - loss: 0.7570 - accuracy: 0.6112 - val_loss: 0.8411 - val_accuracy: 0.5504\n",
      "Epoch 32/200\n",
      "21/21 [==============================] - 1s 67ms/step - loss: 0.7538 - accuracy: 0.6211 - val_loss: 0.8318 - val_accuracy: 0.5570\n",
      "Epoch 33/200\n",
      "21/21 [==============================] - 1s 70ms/step - loss: 0.7492 - accuracy: 0.6142 - val_loss: 0.8166 - val_accuracy: 0.5547\n",
      "Epoch 34/200\n",
      "21/21 [==============================] - 1s 69ms/step - loss: 0.7499 - accuracy: 0.6155 - val_loss: 0.8170 - val_accuracy: 0.5534\n",
      "Epoch 35/200\n",
      "21/21 [==============================] - 2s 73ms/step - loss: 0.7402 - accuracy: 0.6250 - val_loss: 0.8327 - val_accuracy: 0.5432\n",
      "Epoch 36/200\n",
      "21/21 [==============================] - 2s 73ms/step - loss: 0.7424 - accuracy: 0.6188 - val_loss: 0.8610 - val_accuracy: 0.5466\n",
      "Epoch 37/200\n",
      "21/21 [==============================] - 1s 71ms/step - loss: 0.7285 - accuracy: 0.6311 - val_loss: 0.8159 - val_accuracy: 0.5551\n",
      "Epoch 38/200\n",
      "21/21 [==============================] - 1s 71ms/step - loss: 0.7537 - accuracy: 0.6212 - val_loss: 0.8708 - val_accuracy: 0.5521\n",
      "Epoch 39/200\n",
      "21/21 [==============================] - 1s 66ms/step - loss: 0.7535 - accuracy: 0.6182 - val_loss: 0.8264 - val_accuracy: 0.5411\n",
      "Epoch 40/200\n",
      "21/21 [==============================] - 1s 66ms/step - loss: 0.7454 - accuracy: 0.6209 - val_loss: 0.8410 - val_accuracy: 0.5379\n",
      "Epoch 41/200\n",
      "21/21 [==============================] - 1s 68ms/step - loss: 0.7218 - accuracy: 0.6283 - val_loss: 0.8106 - val_accuracy: 0.5519\n",
      "Epoch 42/200\n",
      "21/21 [==============================] - 1s 68ms/step - loss: 0.7083 - accuracy: 0.6369 - val_loss: 0.8372 - val_accuracy: 0.5413\n",
      "Epoch 43/200\n",
      "21/21 [==============================] - 1s 66ms/step - loss: 0.7078 - accuracy: 0.6328 - val_loss: 0.8233 - val_accuracy: 0.5545\n",
      "Epoch 44/200\n",
      "21/21 [==============================] - 1s 67ms/step - loss: 0.7210 - accuracy: 0.6301 - val_loss: 0.8308 - val_accuracy: 0.5644\n",
      "Epoch 45/200\n",
      "21/21 [==============================] - 1s 68ms/step - loss: 0.7279 - accuracy: 0.6295 - val_loss: 0.8433 - val_accuracy: 0.5339\n",
      "Epoch 46/200\n",
      "21/21 [==============================] - 2s 75ms/step - loss: 0.7219 - accuracy: 0.6338 - val_loss: 0.8131 - val_accuracy: 0.5642\n",
      "Epoch 47/200\n",
      "21/21 [==============================] - 1s 69ms/step - loss: 0.6958 - accuracy: 0.6427 - val_loss: 0.8059 - val_accuracy: 0.5498\n",
      "Epoch 48/200\n",
      "21/21 [==============================] - 1s 69ms/step - loss: 0.7501 - accuracy: 0.6204 - val_loss: 0.8271 - val_accuracy: 0.5220\n",
      "Epoch 49/200\n",
      "21/21 [==============================] - 1s 72ms/step - loss: 0.6931 - accuracy: 0.6440 - val_loss: 0.8058 - val_accuracy: 0.5614\n",
      "Epoch 50/200\n",
      "21/21 [==============================] - 1s 70ms/step - loss: 0.6950 - accuracy: 0.6408 - val_loss: 0.8146 - val_accuracy: 0.5430\n",
      "Epoch 51/200\n",
      "21/21 [==============================] - 1s 68ms/step - loss: 0.6817 - accuracy: 0.6495 - val_loss: 0.8213 - val_accuracy: 0.5349\n",
      "Epoch 52/200\n",
      "21/21 [==============================] - 1s 66ms/step - loss: 0.6788 - accuracy: 0.6462 - val_loss: 0.7979 - val_accuracy: 0.5614\n",
      "Epoch 53/200\n",
      "21/21 [==============================] - 1s 68ms/step - loss: 0.6678 - accuracy: 0.6578 - val_loss: 0.8308 - val_accuracy: 0.5251\n",
      "Epoch 54/200\n",
      "21/21 [==============================] - 1s 66ms/step - loss: 0.6821 - accuracy: 0.6460 - val_loss: 0.8004 - val_accuracy: 0.5578\n",
      "Epoch 55/200\n",
      "21/21 [==============================] - 1s 65ms/step - loss: 0.6675 - accuracy: 0.6545 - val_loss: 0.8100 - val_accuracy: 0.5334\n",
      "Epoch 56/200\n",
      "21/21 [==============================] - 1s 65ms/step - loss: 0.6726 - accuracy: 0.6509 - val_loss: 0.8778 - val_accuracy: 0.5222\n",
      "Epoch 57/200\n",
      "21/21 [==============================] - 1s 66ms/step - loss: 0.6789 - accuracy: 0.6475 - val_loss: 0.7944 - val_accuracy: 0.5506\n",
      "Epoch 58/200\n",
      "21/21 [==============================] - 1s 67ms/step - loss: 0.6647 - accuracy: 0.6554 - val_loss: 0.8171 - val_accuracy: 0.5625\n",
      "Epoch 59/200\n",
      "21/21 [==============================] - 1s 66ms/step - loss: 0.6657 - accuracy: 0.6539 - val_loss: 0.8074 - val_accuracy: 0.5445\n",
      "Epoch 60/200\n",
      "21/21 [==============================] - 1s 66ms/step - loss: 0.6525 - accuracy: 0.6620 - val_loss: 0.8005 - val_accuracy: 0.5513\n",
      "Epoch 61/200\n",
      "21/21 [==============================] - 1s 67ms/step - loss: 0.6690 - accuracy: 0.6528 - val_loss: 0.8096 - val_accuracy: 0.5483\n",
      "Epoch 62/200\n",
      "21/21 [==============================] - 1s 66ms/step - loss: 0.6621 - accuracy: 0.6565 - val_loss: 0.8083 - val_accuracy: 0.5404\n",
      "Epoch 63/200\n",
      "21/21 [==============================] - 1s 66ms/step - loss: 0.6445 - accuracy: 0.6648 - val_loss: 0.8368 - val_accuracy: 0.5513\n",
      "Epoch 64/200\n",
      "21/21 [==============================] - 1s 67ms/step - loss: 0.6449 - accuracy: 0.6630 - val_loss: 0.9765 - val_accuracy: 0.4939\n",
      "Epoch 65/200\n",
      "21/21 [==============================] - 1s 68ms/step - loss: 0.6860 - accuracy: 0.6433 - val_loss: 0.8003 - val_accuracy: 0.5523\n",
      "Epoch 66/200\n",
      "21/21 [==============================] - 1s 69ms/step - loss: 0.6633 - accuracy: 0.6516 - val_loss: 0.8606 - val_accuracy: 0.5256\n",
      "Epoch 67/200\n",
      "21/21 [==============================] - 1s 67ms/step - loss: 0.6542 - accuracy: 0.6618 - val_loss: 0.8120 - val_accuracy: 0.5574\n",
      "Epoch 00067: early stopping\n"
     ]
    }
   ],
   "source": [
    "\n",
    "x_track = np.concatenate((x_shuffle_1_track, x_shuffle_2_track, x_shuffle_3_track))\n",
    "x_tower = np.concatenate((x_shuffle_1_tower, x_shuffle_2_tower, x_shuffle_3_tower))\n",
    "y = np.concatenate((y_shuffle_1, y_shuffle_2, y_shuffle_3))\n",
    "true_label = np.concatenate((true_label_shuffle_1, true_label_shuffle_2, true_label_shuffle_3))\n",
    "\n",
    "indices_shuffle = rng.permutation(np.shape(y)[0])\n",
    "\n",
    "x_track = x_track[indices_shuffle]\n",
    "x_tower = x_tower[indices_shuffle]\n",
    "y = y[indices_shuffle]\n",
    "\n",
    "true_label = true_label[indices_shuffle]\n",
    "\n",
    "from sklearn.model_selection import train_test_split\n",
    "x_track_train, x_track_test, x_tower_train, x_tower_test, y_train, y_test, true_label_train, true_label_test = train_test_split(\n",
    "    x_track, x_tower, y, true_label, test_size=0.2, random_state=42)\n",
    "\n",
    "model = build_model(x_track.shape[1])\n",
    "early_stopping = tf.keras.callbacks.EarlyStopping(monitor='val_loss', min_delta=0, verbose=1, patience=10)\n",
    "history = model.fit([x_track_train, x_tower_train], y_train, validation_split = 0.2, epochs=200, batch_size=1024, verbose=1, \n",
    "                    callbacks=[\n",
    "                                early_stopping,\n",
    "                                   ])"
   ]
  },
  {
   "cell_type": "code",
   "execution_count": 24,
   "id": "a78eb76a",
   "metadata": {},
   "outputs": [
    {
     "data": {
      "image/png": "[encoded data removed]",
      "text/plain": [
       "<Figure size 640x480 with 1 Axes>"
      ]
     },
     "metadata": {},
     "output_type": "display_data"
    }
   ],
   "source": [
    "plt.figure()\n",
    "plt.plot(history.history['loss'], label = 'loss')\n",
    "plt.plot(history.history['val_loss'], label = 'val_loss')\n",
    "plt.legend(loc = 'upper right')\n",
    "plt.show()"
   ]
  },
  {
   "cell_type": "code",
   "execution_count": 26,
   "id": "5144c42c",
   "metadata": {},
   "outputs": [
    {
     "data": {
      "image/png": "[encoded data removed]",
      "text/plain": [
       "<Figure size 640x480 with 1 Axes>"
      ]
     },
     "metadata": {},
     "output_type": "display_data"
    }
   ],
   "source": [
    "plt.figure()\n",
    "plt.plot(history.history['accuracy'], label = 'accuracy')\n",
    "plt.plot(history.history['val_accuracy'], label = 'val_accuracy')\n",
    "plt.legend(loc = 'upper right')\n",
    "plt.show()"
   ]
  },
  {
   "cell_type": "code",
   "execution_count": 28,
   "id": "d133868e",
   "metadata": {},
   "outputs": [
    {
     "name": "stdout",
     "output_type": "stream",
     "text": [
      " 10/207 [>.............................] - ETA: 1s - loss: 1.5534 - accuracy: 0.4781"
     ]
    },
    {
     "name": "stdout",
     "output_type": "stream",
     "text": [
      "207/207 [==============================] - 1s 6ms/step - loss: 1.6355 - accuracy: 0.4214\n"
     ]
    }
   ],
   "source": [
    "#Evaluate on the true labels\n",
    "loss, accuracy = model.evaluate([x_track_test, x_tower_test], true_label_test)"
   ]
  },
  {
   "cell_type": "code",
   "execution_count": 29,
   "id": "f6e54637",
   "metadata": {},
   "outputs": [
    {
     "name": "stdout",
     "output_type": "stream",
     "text": [
      "207/207 [==============================] - 1s 7ms/step - loss: 0.8182 - accuracy: 0.5500\n",
      "0.5499924421310425\n"
     ]
    }
   ],
   "source": [
    "#Evaluate on the training labels\n",
    "loss, accuracy = model.evaluate([x_track_test, x_tower_test], y_test)\n",
    "print(accuracy)"
   ]
  }
 ],
 "metadata": {
  "kernelspec": {
   "display_name": "tensorflow",
   "language": "python",
   "name": "python3"
  },
  "language_info": {
   "codemirror_mode": {
    "name": "ipython",
    "version": 3
   },
   "file_extension": ".py",
   "mimetype": "text/x-python",
   "name": "python",
   "nbconvert_exporter": "python",
   "pygments_lexer": "ipython3",
   "version": "3.8.2"
  }
 },
 "nbformat": 4,
 "nbformat_minor": 5
}
