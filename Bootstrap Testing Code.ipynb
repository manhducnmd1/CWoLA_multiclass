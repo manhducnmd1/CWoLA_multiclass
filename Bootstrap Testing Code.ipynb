{
 "cells": [
  {
   "cell_type": "code",
   "execution_count": 1,
   "id": "4a27364c",
   "metadata": {},
   "outputs": [],
   "source": [
    "import os\n",
    "import numpy as np\n",
    "import tensorflow as tf\n",
    "from tensorflow import keras\n",
    "from tensorflow.keras import layers\n",
    "from matplotlib import pyplot as plt\n",
    "from matplotlib import colors as mcolors\n",
    "from sklearn.metrics import roc_curve, roc_auc_score\n",
    "from scipy import interpolate\n",
    "from sklearn.utils import shuffle"
   ]
  },
  {
   "cell_type": "code",
   "execution_count": 2,
   "id": "ada7bf6a",
   "metadata": {
    "scrolled": true
   },
   "outputs": [
    {
     "name": "stderr",
     "output_type": "stream",
     "text": [
      "2024-10-06 10:20:59.098471: I tensorflow/stream_executor/platform/default/dso_loader.cc:44] Successfully opened dynamic library libcuda.so.1\n",
      "2024-10-06 10:21:00.490876: I tensorflow/core/common_runtime/gpu/gpu_device.cc:1618] Found device 0 with properties: \n",
      "name: NVIDIA GeForce GTX 1080 Ti major: 6 minor: 1 memoryClockRate(GHz): 1.582\n",
      "pciBusID: 0000:d8:00.0\n",
      "2024-10-06 10:21:00.491102: I tensorflow/stream_executor/platform/default/dso_loader.cc:44] Successfully opened dynamic library libcudart.so.10.0\n",
      "2024-10-06 10:21:00.492418: I tensorflow/stream_executor/platform/default/dso_loader.cc:44] Successfully opened dynamic library libcublas.so.10.0\n",
      "2024-10-06 10:21:00.493547: I tensorflow/stream_executor/platform/default/dso_loader.cc:44] Successfully opened dynamic library libcufft.so.10.0\n",
      "2024-10-06 10:21:00.493819: I tensorflow/stream_executor/platform/default/dso_loader.cc:44] Successfully opened dynamic library libcurand.so.10.0\n",
      "2024-10-06 10:21:00.495226: I tensorflow/stream_executor/platform/default/dso_loader.cc:44] Successfully opened dynamic library libcusolver.so.10.0\n",
      "2024-10-06 10:21:00.496358: I tensorflow/stream_executor/platform/default/dso_loader.cc:44] Successfully opened dynamic library libcusparse.so.10.0\n",
      "2024-10-06 10:21:00.499855: I tensorflow/stream_executor/platform/default/dso_loader.cc:44] Successfully opened dynamic library libcudnn.so.7\n",
      "2024-10-06 10:21:00.508534: I tensorflow/core/common_runtime/gpu/gpu_device.cc:1746] Adding visible gpu devices: 0\n"
     ]
    }
   ],
   "source": [
    "os.environ[\"CUDA_VISIBLE_DEVICES\"] = '2'\n",
    "from tensorflow.python.client import device_lib\n",
    "physical_gpus = tf.config.experimental.list_physical_devices('GPU')\n",
    "tf.config.experimental.set_memory_growth(physical_gpus[0], True)"
   ]
  },
  {
   "cell_type": "code",
   "execution_count": 95,
   "id": "a9dbd0c5",
   "metadata": {},
   "outputs": [],
   "source": [
    "mean_1 = [0, 1, 0, 0, 0]\n",
    "cov_1 = [[1, 0, 0, 0, 0], [0, 1, 0, 0, 0], [0, 0, 1, 0, 0], [0, 0, 0, 1,0], [0, 0, 0, 0, 1]]\n",
    "\n",
    "mean_2 = [0, 0, 0, 0, 0]\n",
    "cov_2 = [[1, 0, 0, 0, 0], [0, 1, 0, 0, 0], [0, 0, 1, 0, 0], [0, 0, 0, 1,0], [0, 0, 0, 0, 1]]\n",
    "\n",
    "x_1 = np.random.multivariate_normal(mean_1, cov_1, size=1000000)\n",
    "y_1 = np.random.multivariate_normal(mean_1, cov_1, size=1000000)\n",
    "x_2 = np.random.multivariate_normal(mean_2, cov_2, size=1000000)\n",
    "y_2 = np.random.multivariate_normal(mean_2, cov_2, size=1000000)"
   ]
  },
  {
   "cell_type": "code",
   "execution_count": 96,
   "id": "2b2b8f88",
   "metadata": {
    "scrolled": true
   },
   "outputs": [
    {
     "name": "stdout",
     "output_type": "stream",
     "text": [
      "[-0.81370562 -0.23697538 -0.53473979  0.57256605  1.86300889]\n"
     ]
    }
   ],
   "source": [
    "print(x_1[0])"
   ]
  },
  {
   "cell_type": "code",
   "execution_count": 97,
   "id": "a3f30ed9",
   "metadata": {},
   "outputs": [
    {
     "data": {
      "image/png": "[encoded data removed]",
      "text/plain": [
       "<Figure size 640x480 with 1 Axes>"
      ]
     },
     "metadata": {},
     "output_type": "display_data"
    }
   ],
   "source": [
    "plt.hist(y_1[:,0], alpha = 0.5, bins = 100, color = 'b')\n",
    "plt.hist(y_2[:,0], alpha = 0.5, bins = 100, color = 'r')\n",
    "plt.show()"
   ]
  },
  {
   "cell_type": "code",
   "execution_count": 115,
   "id": "6810fbd6",
   "metadata": {},
   "outputs": [],
   "source": [
    "n_sig = 5000\n",
    "n_bkg = 200\n",
    "\n",
    "#x_2 means signal and x_1 means background\n",
    "x_sig_1 = x_1[0:25000]\n",
    "true_label_sig_1 = np.zeros_like(x_sig_1[:,0])\n",
    "x_sig_2 = x_2[0:n_sig]\n",
    "true_label_sig_2 = np.ones_like(x_sig_2[:,0])\n",
    "x_bkg_1 = x_1[25000:(50000+n_sig-n_bkg)]\n",
    "true_label_bkg_1 = np.zeros_like(x_bkg_1[:,0])\n",
    "x_bkg_2 = x_2[0:n_bkg]\n",
    "true_label_bkg_2 = np.ones_like(x_bkg_2[:,0])"
   ]
  },
  {
   "cell_type": "code",
   "execution_count": null,
   "id": "0af2bc68",
   "metadata": {},
   "outputs": [],
   "source": []
  },
  {
   "cell_type": "code",
   "execution_count": 116,
   "id": "bcb02455",
   "metadata": {},
   "outputs": [],
   "source": [
    "rng = np.random.default_rng()\n",
    "x_sig = np.concatenate((x_sig_1, x_sig_2))\n",
    "x_bkg = np.concatenate((x_bkg_1, x_bkg_2))\n",
    "true_label_sig = np.concatenate((true_label_sig_1, true_label_sig_2))\n",
    "true_label_bkg = np.concatenate((true_label_bkg_1, true_label_bkg_2))\n",
    "\n",
    "indices_sig = rng.permutation(np.shape(x_sig)[0])\n",
    "indices_bkg = rng.permutation(np.shape(x_bkg)[0])\n",
    "\n",
    "\n",
    "x_sig = x_sig[indices_sig]\n",
    "true_label_sig = true_label_sig[indices_sig]\n",
    "\n",
    "x_bkg = x_bkg[indices_bkg]\n",
    "true_label_bkg = true_label_bkg[indices_bkg]"
   ]
  },
  {
   "cell_type": "code",
   "execution_count": 117,
   "id": "57a9b6b3",
   "metadata": {},
   "outputs": [
    {
     "name": "stdout",
     "output_type": "stream",
     "text": [
      "[0. 0. 0. ... 1. 0. 0.]\n"
     ]
    }
   ],
   "source": [
    "print(true_label_sig)"
   ]
  },
  {
   "cell_type": "code",
   "execution_count": 118,
   "id": "1416d7f6",
   "metadata": {},
   "outputs": [
    {
     "name": "stdout",
     "output_type": "stream",
     "text": [
      "(30000, 5)\n"
     ]
    }
   ],
   "source": [
    "print(np.shape(x_sig))"
   ]
  },
  {
   "cell_type": "code",
   "execution_count": 119,
   "id": "f2aa692b",
   "metadata": {},
   "outputs": [
    {
     "name": "stdout",
     "output_type": "stream",
     "text": [
      "(25000, 5)\n"
     ]
    }
   ],
   "source": [
    "print(np.shape(x_sig[true_label_sig == 0.]))"
   ]
  },
  {
   "cell_type": "code",
   "execution_count": 120,
   "id": "75cc3308",
   "metadata": {},
   "outputs": [
    {
     "name": "stdout",
     "output_type": "stream",
     "text": [
      "(30000, 5) (30000, 5)\n"
     ]
    }
   ],
   "source": [
    "print(np.shape(x_sig), np.shape(x_bkg))"
   ]
  },
  {
   "cell_type": "code",
   "execution_count": 121,
   "id": "e4d93063",
   "metadata": {},
   "outputs": [
    {
     "data": {
      "image/png": "[encoded data removed]",
      "text/plain": [
       "<Figure size 640x480 with 1 Axes>"
      ]
     },
     "metadata": {},
     "output_type": "display_data"
    }
   ],
   "source": [
    "plt.hist(x_sig[:,0], alpha = 0.5, bins = 100, color = 'r')\n",
    "plt.hist(x_bkg[:,0], alpha = 0.5, bins = 100, color = 'b')\n",
    "plt.show()"
   ]
  },
  {
   "cell_type": "markdown",
   "id": "a1619548",
   "metadata": {},
   "source": [
    "Without bootstrapping"
   ]
  },
  {
   "cell_type": "code",
   "execution_count": 122,
   "id": "713e2fab",
   "metadata": {},
   "outputs": [],
   "source": [
    "def CWoLA():\n",
    "    input_1 = keras.layers.Input(shape = (5))\n",
    "    dnn = keras.Sequential([\n",
    "          keras.layers.Dense(16, activation = 'relu'),\n",
    "          keras.layers.Dense(8, activation = 'relu'),\n",
    "          keras.layers.Dense(1, activation = 'sigmoid')\n",
    "    ])\n",
    "    x = dnn(input_1)\n",
    "    return keras.Model(         \n",
    "    inputs=[input_1],\n",
    "    outputs=x,)"
   ]
  },
  {
   "cell_type": "code",
   "execution_count": 123,
   "id": "bb617dfc",
   "metadata": {},
   "outputs": [
    {
     "name": "stdout",
     "output_type": "stream",
     "text": [
      "(30000, 5)\n"
     ]
    }
   ],
   "source": [
    "print(np.shape(x_bkg))"
   ]
  },
  {
   "cell_type": "code",
   "execution_count": 124,
   "id": "1b1c9d0a",
   "metadata": {},
   "outputs": [
    {
     "name": "stdout",
     "output_type": "stream",
     "text": [
      "Train on 48000 samples, validate on 12000 samples\n",
      "Epoch 1/20\n",
      "48000/48000 [==============================] - 1s 19us/sample - loss: 0.7008 - accuracy: 0.5134 - val_loss: 0.6980 - val_accuracy: 0.5156\n",
      "Epoch 2/20\n",
      "48000/48000 [==============================] - 0s 8us/sample - loss: 0.6981 - accuracy: 0.5142 - val_loss: 0.6959 - val_accuracy: 0.5189\n",
      "Epoch 3/20\n",
      "48000/48000 [==============================] - 0s 8us/sample - loss: 0.6963 - accuracy: 0.5155 - val_loss: 0.6944 - val_accuracy: 0.5211\n",
      "Epoch 4/20\n",
      "48000/48000 [==============================] - 0s 8us/sample - loss: 0.6951 - accuracy: 0.5154 - val_loss: 0.6933 - val_accuracy: 0.5239\n",
      "Epoch 5/20\n",
      "48000/48000 [==============================] - 0s 8us/sample - loss: 0.6941 - accuracy: 0.5151 - val_loss: 0.6926 - val_accuracy: 0.5217\n",
      "Epoch 6/20\n",
      "48000/48000 [==============================] - 0s 8us/sample - loss: 0.6935 - accuracy: 0.5163 - val_loss: 0.6920 - val_accuracy: 0.5210\n",
      "Epoch 7/20\n",
      "48000/48000 [==============================] - 0s 8us/sample - loss: 0.6929 - accuracy: 0.5179 - val_loss: 0.6916 - val_accuracy: 0.5215\n",
      "Epoch 8/20\n",
      "48000/48000 [==============================] - 0s 8us/sample - loss: 0.6926 - accuracy: 0.5192 - val_loss: 0.6913 - val_accuracy: 0.5221\n",
      "Epoch 9/20\n",
      "48000/48000 [==============================] - 0s 8us/sample - loss: 0.6922 - accuracy: 0.5200 - val_loss: 0.6910 - val_accuracy: 0.5230\n",
      "Epoch 10/20\n",
      "48000/48000 [==============================] - 0s 8us/sample - loss: 0.6920 - accuracy: 0.5211 - val_loss: 0.6908 - val_accuracy: 0.5235\n",
      "Epoch 11/20\n",
      "48000/48000 [==============================] - 0s 8us/sample - loss: 0.6917 - accuracy: 0.5219 - val_loss: 0.6906 - val_accuracy: 0.5252\n",
      "Epoch 12/20\n",
      "48000/48000 [==============================] - 0s 8us/sample - loss: 0.6916 - accuracy: 0.5226 - val_loss: 0.6905 - val_accuracy: 0.5256\n",
      "Epoch 13/20\n",
      "48000/48000 [==============================] - 0s 8us/sample - loss: 0.6914 - accuracy: 0.5235 - val_loss: 0.6904 - val_accuracy: 0.5255\n",
      "Epoch 14/20\n",
      "48000/48000 [==============================] - 0s 8us/sample - loss: 0.6912 - accuracy: 0.5230 - val_loss: 0.6903 - val_accuracy: 0.5263\n",
      "Epoch 15/20\n",
      "48000/48000 [==============================] - 0s 9us/sample - loss: 0.6911 - accuracy: 0.5238 - val_loss: 0.6902 - val_accuracy: 0.5253\n",
      "Epoch 16/20\n",
      "48000/48000 [==============================] - 0s 8us/sample - loss: 0.6910 - accuracy: 0.5247 - val_loss: 0.6901 - val_accuracy: 0.5263\n",
      "Epoch 17/20\n",
      "48000/48000 [==============================] - 0s 9us/sample - loss: 0.6909 - accuracy: 0.5248 - val_loss: 0.6901 - val_accuracy: 0.5256\n",
      "Epoch 18/20\n",
      "48000/48000 [==============================] - 0s 8us/sample - loss: 0.6908 - accuracy: 0.5250 - val_loss: 0.6900 - val_accuracy: 0.5246\n",
      "Epoch 19/20\n",
      "48000/48000 [==============================] - 0s 9us/sample - loss: 0.6908 - accuracy: 0.5258 - val_loss: 0.6899 - val_accuracy: 0.5251\n",
      "Epoch 20/20\n",
      "48000/48000 [==============================] - 0s 8us/sample - loss: 0.6907 - accuracy: 0.5257 - val_loss: 0.6899 - val_accuracy: 0.5258\n"
     ]
    },
    {
     "data": {
      "text/plain": [
       "<tensorflow.python.keras.callbacks.History at 0x7f9bee0bafd0>"
      ]
     },
     "execution_count": 124,
     "metadata": {},
     "output_type": "execute_result"
    }
   ],
   "source": [
    "y_sig = np.ones(np.shape(x_sig)[0])\n",
    "y_bkg = np.zeros(np.shape(x_bkg)[0])\n",
    "\n",
    "y_train = np.concatenate((y_sig, y_bkg))\n",
    "x_train = np.concatenate((x_sig, x_bkg))\n",
    "true_label_train = np.concatenate((true_label_sig, true_label_bkg))\n",
    "\n",
    "indices_train = rng.permutation(np.shape(x_train)[0])\n",
    "\n",
    "x_train = x_train[indices_train]\n",
    "y_train = y_train[indices_train]\n",
    "true_label_train = true_label_train[indices_train]\n",
    "\n",
    "cwola = CWoLA()\n",
    "loss_object = keras.losses.BinaryCrossentropy()\n",
    "optimizer = keras.optimizers.Adam(learning_rate = 1e-4)\n",
    "cwola.compile(loss = loss_object, optimizer = optimizer, metrics = ['accuracy'])\n",
    "early_stopping = keras.callbacks.EarlyStopping(monitor = 'val_loss', patience=30, restore_best_weights=True)\n",
    "cwola.fit(x_train, y_train, validation_split = 0.2,\n",
    "        shuffle = True, batch_size = 500, callbacks = [early_stopping], epochs = 20)  "
   ]
  },
  {
   "cell_type": "code",
   "execution_count": 125,
   "id": "0a1e0521",
   "metadata": {},
   "outputs": [],
   "source": [
    "x_test = np.concatenate((y_1, y_2))\n",
    "\n",
    "y_test_sig = np.ones(np.shape(y_2)[0])\n",
    "y_test_bkg = np.zeros(np.shape(y_1)[0])\n",
    "y_test = np.concatenate((y_test_bkg, y_test_sig))"
   ]
  },
  {
   "cell_type": "code",
   "execution_count": 126,
   "id": "f3bba2f8",
   "metadata": {},
   "outputs": [],
   "source": [
    "x_predict = cwola.predict(x_test)"
   ]
  },
  {
   "cell_type": "code",
   "execution_count": 127,
   "id": "b23b78e3",
   "metadata": {},
   "outputs": [],
   "source": [
    "x_predict_0 = x_predict[y_test == 0]\n",
    "x_predict_1 = x_predict[y_test == 1]\n"
   ]
  },
  {
   "cell_type": "code",
   "execution_count": 128,
   "id": "f42c1866",
   "metadata": {
    "scrolled": true
   },
   "outputs": [
    {
     "data": {
      "image/png": "[encoded data removed]",
      "text/plain": [
       "<Figure size 640x480 with 1 Axes>"
      ]
     },
     "metadata": {},
     "output_type": "display_data"
    }
   ],
   "source": [
    "plt.hist(x_predict_0, bins = 100, alpha = 0.5)\n",
    "plt.hist(x_predict_1, bins = 100, alpha = 0.5)\n",
    "plt.show()"
   ]
  },
  {
   "cell_type": "code",
   "execution_count": 129,
   "id": "6ece1a6c",
   "metadata": {},
   "outputs": [
    {
     "data": {
      "image/png": "[encoded data removed]",
      "text/plain": [
       "<Figure size 640x480 with 1 Axes>"
      ]
     },
     "metadata": {},
     "output_type": "display_data"
    },
    {
     "name": "stdout",
     "output_type": "stream",
     "text": [
      "0.7185737595064999\n"
     ]
    }
   ],
   "source": [
    "fpr, tpr, th = roc_curve(y_test, x_predict)\n",
    "plt.plot(fpr, tpr)\n",
    "plt.show()\n",
    "f = interpolate.interp1d(fpr, tpr)\n",
    "epsilon_s = f([0.001, 0.01, 0.1])\n",
    "print(roc_auc_score(y_test, x_predict))"
   ]
  },
  {
   "cell_type": "markdown",
   "id": "bb5e8c1d",
   "metadata": {},
   "source": [
    "With bootstrapping"
   ]
  },
  {
   "cell_type": "code",
   "execution_count": 130,
   "id": "69d83d40",
   "metadata": {},
   "outputs": [
    {
     "name": "stdout",
     "output_type": "stream",
     "text": [
      "Train on 48000 samples, validate on 12000 samples\n",
      "Epoch 1/2\n",
      "48000/48000 [==============================] - 1s 14us/sample - loss: 0.7010 - accuracy: 0.4879 - val_loss: 0.6990 - val_accuracy: 0.4907\n",
      "Epoch 2/2\n",
      "48000/48000 [==============================] - 0s 8us/sample - loss: 0.6994 - accuracy: 0.4895 - val_loss: 0.6977 - val_accuracy: 0.4907\n",
      "[1. 1. 1. ... 0. 0. 1.]\n",
      "Train on 48000 samples, validate on 12000 samples\n",
      "Epoch 1/2\n",
      "48000/48000 [==============================] - 0s 8us/sample - loss: 0.6239 - accuracy: 0.9001 - val_loss: 0.6138 - val_accuracy: 0.9108\n",
      "Epoch 2/2\n",
      "48000/48000 [==============================] - 0s 8us/sample - loss: 0.6037 - accuracy: 0.9076 - val_loss: 0.5954 - val_accuracy: 0.8963\n",
      "[0. 1. 1. ... 0. 0. 1.]\n",
      "Train on 48000 samples, validate on 12000 samples\n",
      "Epoch 1/2\n",
      "48000/48000 [==============================] - 0s 9us/sample - loss: 0.5749 - accuracy: 0.9659 - val_loss: 0.5621 - val_accuracy: 0.9483\n",
      "Epoch 2/2\n",
      "48000/48000 [==============================] - 0s 8us/sample - loss: 0.5481 - accuracy: 0.9396 - val_loss: 0.5366 - val_accuracy: 0.9260\n",
      "[0. 1. 1. ... 0. 0. 1.]\n",
      "Train on 48000 samples, validate on 12000 samples\n",
      "Epoch 1/2\n",
      "48000/48000 [==============================] - 0s 9us/sample - loss: 0.5128 - accuracy: 0.9784 - val_loss: 0.4970 - val_accuracy: 0.9678\n",
      "Epoch 2/2\n",
      "48000/48000 [==============================] - 0s 9us/sample - loss: 0.4803 - accuracy: 0.9528 - val_loss: 0.4662 - val_accuracy: 0.9498\n",
      "[0. 1. 1. ... 0. 0. 1.]\n",
      "Train on 48000 samples, validate on 12000 samples\n",
      "Epoch 1/2\n",
      "48000/48000 [==============================] - 0s 9us/sample - loss: 0.4419 - accuracy: 0.9826 - val_loss: 0.4262 - val_accuracy: 0.9727\n",
      "Epoch 2/2\n",
      "48000/48000 [==============================] - 0s 9us/sample - loss: 0.4079 - accuracy: 0.9661 - val_loss: 0.3950 - val_accuracy: 0.9579\n",
      "[0. 1. 1. ... 0. 0. 1.]\n",
      "Train on 48000 samples, validate on 12000 samples\n",
      "Epoch 1/2\n",
      "48000/48000 [==============================] - 0s 8us/sample - loss: 0.3713 - accuracy: 0.9818 - val_loss: 0.3580 - val_accuracy: 0.9769\n",
      "Epoch 2/2\n",
      "48000/48000 [==============================] - 0s 8us/sample - loss: 0.3399 - accuracy: 0.9734 - val_loss: 0.3297 - val_accuracy: 0.9680\n",
      "[0. 1. 1. ... 0. 0. 1.]\n",
      "Train on 48000 samples, validate on 12000 samples\n",
      "Epoch 1/2\n",
      "48000/48000 [==============================] - 0s 8us/sample - loss: 0.3081 - accuracy: 0.9847 - val_loss: 0.2984 - val_accuracy: 0.9798\n",
      "Epoch 2/2\n",
      "48000/48000 [==============================] - 0s 8us/sample - loss: 0.2814 - accuracy: 0.9803 - val_loss: 0.2745 - val_accuracy: 0.9730\n",
      "[0. 1. 1. ... 0. 0. 1.]\n",
      "Train on 48000 samples, validate on 12000 samples\n",
      "Epoch 1/2\n",
      "48000/48000 [==============================] - 0s 8us/sample - loss: 0.2558 - accuracy: 0.9879 - val_loss: 0.2487 - val_accuracy: 0.9850\n",
      "Epoch 2/2\n",
      "48000/48000 [==============================] - 0s 8us/sample - loss: 0.2345 - accuracy: 0.9851 - val_loss: 0.2292 - val_accuracy: 0.9804\n",
      "[0. 1. 1. ... 0. 0. 1.]\n",
      "Train on 48000 samples, validate on 12000 samples\n",
      "Epoch 1/2\n",
      "48000/48000 [==============================] - 0s 9us/sample - loss: 0.2145 - accuracy: 0.9906 - val_loss: 0.2091 - val_accuracy: 0.9892\n",
      "Epoch 2/2\n",
      "48000/48000 [==============================] - 0s 9us/sample - loss: 0.1978 - accuracy: 0.9885 - val_loss: 0.1937 - val_accuracy: 0.9870\n",
      "[0. 1. 1. ... 0. 0. 1.]\n",
      "Train on 48000 samples, validate on 12000 samples\n",
      "Epoch 1/2\n",
      "48000/48000 [==============================] - 0s 8us/sample - loss: 0.1821 - accuracy: 0.9926 - val_loss: 0.1782 - val_accuracy: 0.9927\n",
      "Epoch 2/2\n",
      "48000/48000 [==============================] - 0s 8us/sample - loss: 0.1690 - accuracy: 0.9911 - val_loss: 0.1660 - val_accuracy: 0.9902\n",
      "[0. 1. 1. ... 0. 0. 1.]\n"
     ]
    }
   ],
   "source": [
    "y_sig = np.ones(np.shape(x_sig)[0])\n",
    "y_bkg = np.zeros(np.shape(x_bkg)[0])\n",
    "\n",
    "y_train = np.concatenate((y_sig, y_bkg))\n",
    "x_train = np.concatenate((x_sig, x_bkg))\n",
    "true_label_train = np.concatenate((true_label_sig, true_label_bkg))\n",
    "\n",
    "indices_train = rng.permutation(np.shape(x_train)[0])\n",
    "\n",
    "x_train = x_train[indices_train]\n",
    "y_train = y_train[indices_train]\n",
    "true_label_train = true_label_train[indices_train]\n",
    "\n",
    "cwola_2 = CWoLA()\n",
    "loss_object = keras.losses.BinaryCrossentropy()\n",
    "optimizer = keras.optimizers.Adam(learning_rate = 1e-4)\n",
    "cwola_2.compile(loss = loss_object, optimizer = optimizer, metrics = ['accuracy'])\n",
    "early_stopping = keras.callbacks.EarlyStopping(monitor = 'val_loss', patience=30, restore_best_weights=True)\n",
    "for i in range(10):\n",
    "    cwola_2.fit(x_train, y_train, validation_split = 0.2,\n",
    "            shuffle = True, batch_size = 500, callbacks = [early_stopping], epochs = 2)  \n",
    "    \n",
    "    predict = (cwola_2.predict(x_train)).flatten()\n",
    "    \n",
    "    predict_array = np.zeros_like(y_train)\n",
    "    predict_array[predict >= np.percentile(predict, 50)] = 1\n",
    "    y_train = predict_array\n",
    "    print(y_train)\n",
    "    "
   ]
  },
  {
   "cell_type": "code",
   "execution_count": 133,
   "id": "874c7d3b",
   "metadata": {},
   "outputs": [],
   "source": [
    "x_predict = cwola_2.predict(x_test)"
   ]
  },
  {
   "cell_type": "code",
   "execution_count": 132,
   "id": "34c9fc9e",
   "metadata": {},
   "outputs": [],
   "source": [
    "x_predict_0 = x_predict[y_test == 0]\n",
    "x_predict_1 = x_predict[y_test == 1]"
   ]
  },
  {
   "cell_type": "code",
   "execution_count": 134,
   "id": "2e860ae7",
   "metadata": {},
   "outputs": [
    {
     "data": {
      "image/png": "[encoded data removed]",
      "text/plain": [
       "<Figure size 640x480 with 1 Axes>"
      ]
     },
     "metadata": {},
     "output_type": "display_data"
    }
   ],
   "source": [
    "plt.hist(x_predict_0, bins = 100, alpha = 0.5)\n",
    "plt.hist(x_predict_1, bins = 100, alpha = 0.5)\n",
    "plt.show()"
   ]
  },
  {
   "cell_type": "code",
   "execution_count": 135,
   "id": "7d644863",
   "metadata": {},
   "outputs": [
    {
     "data": {
      "image/png": "[encoded data removed]",
      "text/plain": [
       "<Figure size 640x480 with 1 Axes>"
      ]
     },
     "metadata": {},
     "output_type": "display_data"
    },
    {
     "name": "stdout",
     "output_type": "stream",
     "text": [
      "0.4150387533855001\n"
     ]
    }
   ],
   "source": [
    "fpr, tpr, th = roc_curve(y_test, x_predict)\n",
    "plt.plot(fpr, tpr)\n",
    "plt.show()\n",
    "f = interpolate.interp1d(fpr, tpr)\n",
    "epsilon_s = f([0.001, 0.01, 0.1])\n",
    "print(roc_auc_score(y_test, x_predict))"
   ]
  },
  {
   "cell_type": "code",
   "execution_count": 64,
   "id": "1987a75c",
   "metadata": {},
   "outputs": [
    {
     "name": "stdout",
     "output_type": "stream",
     "text": [
      "[0.08502543 0.2728005  0.669796  ]\n"
     ]
    }
   ],
   "source": [
    "print(epsilon_s)"
   ]
  }
 ],
 "metadata": {
  "kernelspec": {
   "display_name": "Python 3 (ipykernel)",
   "language": "python",
   "name": "python3"
  },
  "language_info": {
   "codemirror_mode": {
    "name": "ipython",
    "version": 3
   },
   "file_extension": ".py",
   "mimetype": "text/x-python",
   "name": "python",
   "nbconvert_exporter": "python",
   "pygments_lexer": "ipython3",
   "version": "3.7.7"
  }
 },
 "nbformat": 4,
 "nbformat_minor": 5
}
