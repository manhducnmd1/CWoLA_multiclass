{
 "cells": [
  {
   "cell_type": "code",
   "execution_count": 1,
   "id": "4a27364c",
   "metadata": {},
   "outputs": [],
   "source": [
    "import os\n",
    "import numpy as np\n",
    "import tensorflow as tf\n",
    "from tensorflow import keras\n",
    "from tensorflow.keras import layers\n",
    "from matplotlib import pyplot as plt\n",
    "from matplotlib import colors as mcolors\n",
    "from sklearn.metrics import roc_curve, roc_auc_score\n",
    "from scipy import interpolate\n",
    "from sklearn.utils import shuffle"
   ]
  },
  {
   "cell_type": "code",
   "execution_count": 2,
   "id": "ada7bf6a",
   "metadata": {
    "scrolled": true
   },
   "outputs": [
    {
     "name": "stderr",
     "output_type": "stream",
     "text": [
      "2024-10-06 10:20:59.098471: I tensorflow/stream_executor/platform/default/dso_loader.cc:44] Successfully opened dynamic library libcuda.so.1\n",
      "2024-10-06 10:21:00.490876: I tensorflow/core/common_runtime/gpu/gpu_device.cc:1618] Found device 0 with properties: \n",
      "name: NVIDIA GeForce GTX 1080 Ti major: 6 minor: 1 memoryClockRate(GHz): 1.582\n",
      "pciBusID: 0000:d8:00.0\n",
      "2024-10-06 10:21:00.491102: I tensorflow/stream_executor/platform/default/dso_loader.cc:44] Successfully opened dynamic library libcudart.so.10.0\n",
      "2024-10-06 10:21:00.492418: I tensorflow/stream_executor/platform/default/dso_loader.cc:44] Successfully opened dynamic library libcublas.so.10.0\n",
      "2024-10-06 10:21:00.493547: I tensorflow/stream_executor/platform/default/dso_loader.cc:44] Successfully opened dynamic library libcufft.so.10.0\n",
      "2024-10-06 10:21:00.493819: I tensorflow/stream_executor/platform/default/dso_loader.cc:44] Successfully opened dynamic library libcurand.so.10.0\n",
      "2024-10-06 10:21:00.495226: I tensorflow/stream_executor/platform/default/dso_loader.cc:44] Successfully opened dynamic library libcusolver.so.10.0\n",
      "2024-10-06 10:21:00.496358: I tensorflow/stream_executor/platform/default/dso_loader.cc:44] Successfully opened dynamic library libcusparse.so.10.0\n",
      "2024-10-06 10:21:00.499855: I tensorflow/stream_executor/platform/default/dso_loader.cc:44] Successfully opened dynamic library libcudnn.so.7\n",
      "2024-10-06 10:21:00.508534: I tensorflow/core/common_runtime/gpu/gpu_device.cc:1746] Adding visible gpu devices: 0\n"
     ]
    }
   ],
   "source": [
    "os.environ[\"CUDA_VISIBLE_DEVICES\"] = '2'\n",
    "from tensorflow.python.client import device_lib\n",
    "physical_gpus = tf.config.experimental.list_physical_devices('GPU')\n",
    "tf.config.experimental.set_memory_growth(physical_gpus[0], True)"
   ]
  },
  {
   "cell_type": "code",
   "execution_count": 6,
   "id": "e8e215f1",
   "metadata": {},
   "outputs": [
    {
     "name": "stderr",
     "output_type": "stream",
     "text": [
      "/home/manhducnmd/.local/lib/python3.7/site-packages/ipykernel_launcher.py:7: RuntimeWarning: covariance is not positive-semidefinite.\n",
      "  import sys\n",
      "/home/manhducnmd/.local/lib/python3.7/site-packages/ipykernel_launcher.py:8: RuntimeWarning: covariance is not positive-semidefinite.\n",
      "  \n",
      "/home/manhducnmd/.local/lib/python3.7/site-packages/ipykernel_launcher.py:9: RuntimeWarning: covariance is not positive-semidefinite.\n",
      "  if __name__ == \"__main__\":\n",
      "/home/manhducnmd/.local/lib/python3.7/site-packages/ipykernel_launcher.py:10: RuntimeWarning: covariance is not positive-semidefinite.\n",
      "  # Remove the CWD from sys.path while we load stuff.\n"
     ]
    }
   ],
   "source": [
    "mean_1 = [0, 1, 0, 0, 0]\n",
    "cov_1 = [[1, 0, 0, 0, 0], [0, 0, 1, 0, 0], [0, 0, 1, 0, 0], [0, 0, 0, 1,0], [0, 0, 0, 0, 1]]\n",
    "\n",
    "mean_2 = [0, 0, 0, 0, 0]\n",
    "cov_2 = [[1, 0, 0, 0, 0], [0, 0, 1, 0, 0], [0, 0, 1, 0, 0], [0, 0, 0, 1,0], [0, 0, 0, 0, 1]]\n",
    "\n",
    "x_1 = np.random.multivariate_normal(mean_1, cov_1, size=1000000)\n",
    "y_1 = np.random.multivariate_normal(mean_1, cov_1, size=1000000)\n",
    "x_2 = np.random.multivariate_normal(mean_2, cov_2, size=1000000)\n",
    "y_2 = np.random.multivariate_normal(mean_2, cov_2, size=1000000)"
   ]
  },
  {
   "cell_type": "code",
   "execution_count": 7,
   "id": "2b2b8f88",
   "metadata": {
    "scrolled": true
   },
   "outputs": [
    {
     "name": "stdout",
     "output_type": "stream",
     "text": [
      "[ 0.68256935  1.          1.21556002  1.35519296 -0.92910435]\n"
     ]
    }
   ],
   "source": [
    "print(x_1[0])"
   ]
  },
  {
   "cell_type": "code",
   "execution_count": 8,
   "id": "a3f30ed9",
   "metadata": {},
   "outputs": [
    {
     "data": {
      "image/png": "[encoded data removed]",
      "text/plain": [
       "<Figure size 640x480 with 1 Axes>"
      ]
     },
     "metadata": {},
     "output_type": "display_data"
    }
   ],
   "source": [
    "plt.hist(y_1[:,0], alpha = 0.5, bins = 100, color = 'b')\n",
    "plt.hist(y_2[:,0], alpha = 0.5, bins = 100, color = 'r')\n",
    "plt.show()"
   ]
  },
  {
   "cell_type": "code",
   "execution_count": 67,
   "id": "6810fbd6",
   "metadata": {},
   "outputs": [],
   "source": [
    "n_sig = 500\n",
    "n_bkg = 200\n",
    "\n",
    "#x_2 means signal and x_1 means background\n",
    "x_sig_1 = x_1[0:25000]\n",
    "true_label_sig_1 = np.zeros_like(x_sig_1[:,0])\n",
    "x_sig_2 = x_2[0:n_sig]\n",
    "true_label_sig_2 = np.ones_like(x_sig_2[:,0])\n",
    "x_bkg_1 = x_1[25000:(50000+n_sig-n_bkg)]\n",
    "true_label_bkg_1 = np.zeros_like(x_bkg_1[:,0])\n",
    "x_bkg_2 = x_2[0:n_bkg]\n",
    "true_label_bkg_2 = np.ones_like(x_bkg_2[:,0])"
   ]
  },
  {
   "cell_type": "code",
   "execution_count": null,
   "id": "0af2bc68",
   "metadata": {},
   "outputs": [],
   "source": []
  },
  {
   "cell_type": "code",
   "execution_count": 68,
   "id": "bcb02455",
   "metadata": {},
   "outputs": [],
   "source": [
    "rng = np.random.default_rng()\n",
    "x_sig = np.concatenate((x_sig_1, x_sig_2))\n",
    "x_bkg = np.concatenate((x_bkg_1, x_bkg_2))\n",
    "true_label_sig = np.concatenate((true_label_sig_1, true_label_sig_2))\n",
    "true_label_bkg = np.concatenate((true_label_bkg_1, true_label_bkg_2))\n",
    "\n",
    "indices_sig = rng.permutation(np.shape(x_sig)[0])\n",
    "indices_bkg = rng.permutation(np.shape(x_bkg)[0])\n",
    "\n",
    "\n",
    "x_sig = x_sig[indices_sig]\n",
    "true_label_sig = true_label_sig[indices_sig]\n",
    "\n",
    "x_bkg = x_bkg[indices_bkg]\n",
    "true_label_bkg = true_label_bkg[indices_bkg]"
   ]
  },
  {
   "cell_type": "code",
   "execution_count": 69,
   "id": "57a9b6b3",
   "metadata": {},
   "outputs": [
    {
     "name": "stdout",
     "output_type": "stream",
     "text": [
      "[0. 0. 0. ... 0. 0. 0.]\n"
     ]
    }
   ],
   "source": [
    "print(true_label_sig)"
   ]
  },
  {
   "cell_type": "code",
   "execution_count": 70,
   "id": "1416d7f6",
   "metadata": {},
   "outputs": [
    {
     "name": "stdout",
     "output_type": "stream",
     "text": [
      "(25500, 5)\n"
     ]
    }
   ],
   "source": [
    "print(np.shape(x_sig))"
   ]
  },
  {
   "cell_type": "code",
   "execution_count": 71,
   "id": "f2aa692b",
   "metadata": {},
   "outputs": [
    {
     "name": "stdout",
     "output_type": "stream",
     "text": [
      "(25000, 5)\n"
     ]
    }
   ],
   "source": [
    "print(np.shape(x_sig[true_label_sig == 0.]))"
   ]
  },
  {
   "cell_type": "code",
   "execution_count": 72,
   "id": "75cc3308",
   "metadata": {},
   "outputs": [
    {
     "name": "stdout",
     "output_type": "stream",
     "text": [
      "(25500, 5) (25500, 5)\n"
     ]
    }
   ],
   "source": [
    "print(np.shape(x_sig), np.shape(x_bkg))"
   ]
  },
  {
   "cell_type": "code",
   "execution_count": 73,
   "id": "e4d93063",
   "metadata": {},
   "outputs": [
    {
     "data": {
      "image/png": "[encoded data removed]",
      "text/plain": [
       "<Figure size 640x480 with 1 Axes>"
      ]
     },
     "metadata": {},
     "output_type": "display_data"
    }
   ],
   "source": [
    "plt.hist(x_sig[:,0], alpha = 0.5, bins = 100, color = 'r')\n",
    "plt.hist(x_bkg[:,0], alpha = 0.5, bins = 100, color = 'b')\n",
    "plt.show()"
   ]
  },
  {
   "cell_type": "markdown",
   "id": "a1619548",
   "metadata": {},
   "source": [
    "Without bootstrapping"
   ]
  },
  {
   "cell_type": "code",
   "execution_count": 82,
   "id": "713e2fab",
   "metadata": {},
   "outputs": [],
   "source": [
    "def CWoLA():\n",
    "    input_1 = keras.layers.Input(shape = (5))\n",
    "    dnn = keras.Sequential([\n",
    "          keras.layers.Dense(16, activation = 'relu'),\n",
    "          keras.layers.Dense(8, activation = 'relu'),\n",
    "          keras.layers.Dense(1, activation = 'sigmoid')\n",
    "    ])\n",
    "    x = dnn(input_1)\n",
    "    return keras.Model(         \n",
    "    inputs=[input_1],\n",
    "    outputs=x,)"
   ]
  },
  {
   "cell_type": "code",
   "execution_count": 83,
   "id": "bb617dfc",
   "metadata": {},
   "outputs": [
    {
     "name": "stdout",
     "output_type": "stream",
     "text": [
      "(25500, 5)\n"
     ]
    }
   ],
   "source": [
    "print(np.shape(x_bkg))"
   ]
  },
  {
   "cell_type": "code",
   "execution_count": 84,
   "id": "1b1c9d0a",
   "metadata": {},
   "outputs": [
    {
     "name": "stdout",
     "output_type": "stream",
     "text": [
      "Train on 40800 samples, validate on 10200 samples\n",
      "Epoch 1/20\n",
      "40800/40800 [==============================] - 1s 23us/sample - loss: 0.7262 - accuracy: 0.5017 - val_loss: 0.7176 - val_accuracy: 0.5052\n",
      "Epoch 2/20\n",
      "40800/40800 [==============================] - 0s 10us/sample - loss: 0.7170 - accuracy: 0.5029 - val_loss: 0.7107 - val_accuracy: 0.5072\n",
      "Epoch 3/20\n",
      "40800/40800 [==============================] - 0s 9us/sample - loss: 0.7106 - accuracy: 0.5023 - val_loss: 0.7060 - val_accuracy: 0.5073\n",
      "Epoch 4/20\n",
      "40800/40800 [==============================] - 0s 9us/sample - loss: 0.7062 - accuracy: 0.5022 - val_loss: 0.7028 - val_accuracy: 0.5069\n",
      "Epoch 5/20\n",
      "40800/40800 [==============================] - 0s 10us/sample - loss: 0.7030 - accuracy: 0.5019 - val_loss: 0.7006 - val_accuracy: 0.5075\n",
      "Epoch 6/20\n",
      "40800/40800 [==============================] - 0s 10us/sample - loss: 0.7007 - accuracy: 0.4999 - val_loss: 0.6990 - val_accuracy: 0.5082\n",
      "Epoch 7/20\n",
      "40800/40800 [==============================] - 0s 10us/sample - loss: 0.6990 - accuracy: 0.5013 - val_loss: 0.6979 - val_accuracy: 0.5087\n",
      "Epoch 8/20\n",
      "40800/40800 [==============================] - 0s 10us/sample - loss: 0.6978 - accuracy: 0.5005 - val_loss: 0.6971 - val_accuracy: 0.5085\n",
      "Epoch 9/20\n",
      "40800/40800 [==============================] - 0s 10us/sample - loss: 0.6968 - accuracy: 0.5000 - val_loss: 0.6965 - val_accuracy: 0.5036\n",
      "Epoch 10/20\n",
      "40800/40800 [==============================] - 0s 10us/sample - loss: 0.6961 - accuracy: 0.5002 - val_loss: 0.6960 - val_accuracy: 0.5024\n",
      "Epoch 11/20\n",
      "40800/40800 [==============================] - 0s 10us/sample - loss: 0.6955 - accuracy: 0.5010 - val_loss: 0.6957 - val_accuracy: 0.5006\n",
      "Epoch 12/20\n",
      "40800/40800 [==============================] - 0s 10us/sample - loss: 0.6950 - accuracy: 0.5018 - val_loss: 0.6955 - val_accuracy: 0.5002\n",
      "Epoch 13/20\n",
      "40800/40800 [==============================] - 0s 10us/sample - loss: 0.6946 - accuracy: 0.5019 - val_loss: 0.6953 - val_accuracy: 0.4997\n",
      "Epoch 14/20\n",
      "40800/40800 [==============================] - 0s 10us/sample - loss: 0.6943 - accuracy: 0.5025 - val_loss: 0.6951 - val_accuracy: 0.4978\n",
      "Epoch 15/20\n",
      "40800/40800 [==============================] - 0s 10us/sample - loss: 0.6941 - accuracy: 0.5031 - val_loss: 0.6950 - val_accuracy: 0.4975\n",
      "Epoch 16/20\n",
      "40800/40800 [==============================] - 0s 10us/sample - loss: 0.6939 - accuracy: 0.5041 - val_loss: 0.6950 - val_accuracy: 0.4961\n",
      "Epoch 17/20\n",
      "40800/40800 [==============================] - 0s 10us/sample - loss: 0.6937 - accuracy: 0.5042 - val_loss: 0.6949 - val_accuracy: 0.4927\n",
      "Epoch 18/20\n",
      "40800/40800 [==============================] - 0s 10us/sample - loss: 0.6936 - accuracy: 0.5049 - val_loss: 0.6948 - val_accuracy: 0.4933\n",
      "Epoch 19/20\n",
      "40800/40800 [==============================] - 0s 10us/sample - loss: 0.6935 - accuracy: 0.5049 - val_loss: 0.6948 - val_accuracy: 0.4910\n",
      "Epoch 20/20\n",
      "40800/40800 [==============================] - 0s 10us/sample - loss: 0.6934 - accuracy: 0.5063 - val_loss: 0.6948 - val_accuracy: 0.4903\n"
     ]
    },
    {
     "data": {
      "text/plain": [
       "<tensorflow.python.keras.callbacks.History at 0x7f9bb0056090>"
      ]
     },
     "execution_count": 84,
     "metadata": {},
     "output_type": "execute_result"
    }
   ],
   "source": [
    "y_sig = np.ones(np.shape(x_sig)[0])\n",
    "y_bkg = np.zeros(np.shape(x_bkg)[0])\n",
    "\n",
    "y_train = np.concatenate((y_sig, y_bkg))\n",
    "x_train = np.concatenate((x_sig, x_bkg))\n",
    "true_label_train = np.concatenate((true_label_sig, true_label_bkg))\n",
    "\n",
    "indices_train = rng.permutation(np.shape(x_train)[0])\n",
    "\n",
    "x_train = x_train[indices_train]\n",
    "y_train = y_train[indices_train]\n",
    "true_label_train = true_label_train[indices_train]\n",
    "\n",
    "cwola = CWoLA()\n",
    "loss_object = keras.losses.BinaryCrossentropy()\n",
    "optimizer = keras.optimizers.Adam(learning_rate = 1e-4)\n",
    "cwola.compile(loss = loss_object, optimizer = optimizer, metrics = ['accuracy'])\n",
    "early_stopping = keras.callbacks.EarlyStopping(monitor = 'val_loss', patience=30, restore_best_weights=True)\n",
    "cwola.fit(x_train, y_train, validation_split = 0.2,\n",
    "        shuffle = True, batch_size = 500, callbacks = [early_stopping], epochs = 20)  "
   ]
  },
  {
   "cell_type": "code",
   "execution_count": 85,
   "id": "0a1e0521",
   "metadata": {},
   "outputs": [],
   "source": [
    "x_test = np.concatenate((y_1, y_2))\n",
    "\n",
    "y_test_sig = np.ones(np.shape(y_2)[0])\n",
    "y_test_bkg = np.zeros(np.shape(y_1)[0])\n",
    "y_test = np.concatenate((y_test_bkg, y_test_sig))"
   ]
  },
  {
   "cell_type": "code",
   "execution_count": 86,
   "id": "f3bba2f8",
   "metadata": {},
   "outputs": [],
   "source": [
    "x_predict = cwola.predict(x_test)"
   ]
  },
  {
   "cell_type": "code",
   "execution_count": 87,
   "id": "b23b78e3",
   "metadata": {},
   "outputs": [],
   "source": [
    "x_predict_0 = x_predict[y_test == 0]\n",
    "x_predict_1 = x_predict[y_test == 1]\n"
   ]
  },
  {
   "cell_type": "code",
   "execution_count": 88,
   "id": "f42c1866",
   "metadata": {
    "scrolled": true
   },
   "outputs": [
    {
     "data": {
      "image/png": "[encoded data removed]",
      "text/plain": [
       "<Figure size 640x480 with 1 Axes>"
      ]
     },
     "metadata": {},
     "output_type": "display_data"
    }
   ],
   "source": [
    "plt.hist(x_predict_0, bins = 100, alpha = 0.5)\n",
    "plt.hist(x_predict_1, bins = 100, alpha = 0.5)\n",
    "plt.show()"
   ]
  },
  {
   "cell_type": "code",
   "execution_count": 89,
   "id": "6ece1a6c",
   "metadata": {},
   "outputs": [
    {
     "data": {
      "image/png": "[encoded data removed]",
      "text/plain": [
       "<Figure size 640x480 with 1 Axes>"
      ]
     },
     "metadata": {},
     "output_type": "display_data"
    },
    {
     "name": "stdout",
     "output_type": "stream",
     "text": [
      "0.7120515128119999\n"
     ]
    }
   ],
   "source": [
    "fpr, tpr, th = roc_curve(y_test, x_predict)\n",
    "plt.plot(fpr, tpr)\n",
    "plt.show()\n",
    "f = interpolate.interp1d(fpr, tpr)\n",
    "epsilon_s = f([0.001, 0.01, 0.1])\n",
    "print(roc_auc_score(y_test, x_predict))"
   ]
  },
  {
   "cell_type": "markdown",
   "id": "bb5e8c1d",
   "metadata": {},
   "source": [
    "With bootstrapping"
   ]
  },
  {
   "cell_type": "code",
   "execution_count": 90,
   "id": "69d83d40",
   "metadata": {},
   "outputs": [
    {
     "name": "stdout",
     "output_type": "stream",
     "text": [
      "Train on 40800 samples, validate on 10200 samples\n",
      "Epoch 1/2\n",
      "40800/40800 [==============================] - 1s 18us/sample - loss: 0.7108 - accuracy: 0.5014 - val_loss: 0.7066 - val_accuracy: 0.5000\n",
      "Epoch 2/2\n",
      "40800/40800 [==============================] - 0s 9us/sample - loss: 0.7055 - accuracy: 0.5026 - val_loss: 0.7027 - val_accuracy: 0.5010\n",
      "[1. 1. 0. ... 0. 0. 0.]\n",
      "Train on 40800 samples, validate on 10200 samples\n",
      "Epoch 1/2\n",
      "40800/40800 [==============================] - 0s 10us/sample - loss: 0.5901 - accuracy: 0.9198 - val_loss: 0.5743 - val_accuracy: 0.9193\n",
      "Epoch 2/2\n",
      "40800/40800 [==============================] - 0s 9us/sample - loss: 0.5617 - accuracy: 0.9141 - val_loss: 0.5474 - val_accuracy: 0.9088\n",
      "[1. 1. 0. ... 0. 0. 0.]\n",
      "Train on 40800 samples, validate on 10200 samples\n",
      "Epoch 1/2\n",
      "40800/40800 [==============================] - 0s 10us/sample - loss: 0.5276 - accuracy: 0.9323 - val_loss: 0.5097 - val_accuracy: 0.9327\n",
      "Epoch 2/2\n",
      "40800/40800 [==============================] - 0s 10us/sample - loss: 0.4959 - accuracy: 0.9313 - val_loss: 0.4792 - val_accuracy: 0.9306\n",
      "[1. 1. 0. ... 0. 0. 0.]\n",
      "Train on 40800 samples, validate on 10200 samples\n",
      "Epoch 1/2\n",
      "40800/40800 [==============================] - 0s 10us/sample - loss: 0.4617 - accuracy: 0.9410 - val_loss: 0.4436 - val_accuracy: 0.9425\n",
      "Epoch 2/2\n",
      "40800/40800 [==============================] - 0s 10us/sample - loss: 0.4311 - accuracy: 0.9426 - val_loss: 0.4142 - val_accuracy: 0.9433\n",
      "[1. 1. 0. ... 0. 0. 0.]\n",
      "Train on 40800 samples, validate on 10200 samples\n",
      "Epoch 1/2\n",
      "40800/40800 [==============================] - 0s 10us/sample - loss: 0.4008 - accuracy: 0.9480 - val_loss: 0.3838 - val_accuracy: 0.9511\n",
      "Epoch 2/2\n",
      "40800/40800 [==============================] - 0s 10us/sample - loss: 0.3739 - accuracy: 0.9510 - val_loss: 0.3582 - val_accuracy: 0.9525\n",
      "[1. 1. 0. ... 0. 0. 0.]\n",
      "Train on 40800 samples, validate on 10200 samples\n",
      "Epoch 1/2\n",
      "40800/40800 [==============================] - 0s 10us/sample - loss: 0.3480 - accuracy: 0.9552 - val_loss: 0.3324 - val_accuracy: 0.9604\n",
      "Epoch 2/2\n",
      "40800/40800 [==============================] - 0s 9us/sample - loss: 0.3251 - accuracy: 0.9593 - val_loss: 0.3105 - val_accuracy: 0.9630\n",
      "[1. 1. 0. ... 0. 0. 0.]\n",
      "Train on 40800 samples, validate on 10200 samples\n",
      "Epoch 1/2\n",
      "40800/40800 [==============================] - 0s 10us/sample - loss: 0.3024 - accuracy: 0.9652 - val_loss: 0.2882 - val_accuracy: 0.9666\n",
      "Epoch 2/2\n",
      "40800/40800 [==============================] - 0s 10us/sample - loss: 0.2821 - accuracy: 0.9696 - val_loss: 0.2691 - val_accuracy: 0.9706\n",
      "[1. 1. 0. ... 0. 0. 0.]\n",
      "Train on 40800 samples, validate on 10200 samples\n",
      "Epoch 1/2\n",
      "40800/40800 [==============================] - 0s 9us/sample - loss: 0.2622 - accuracy: 0.9743 - val_loss: 0.2493 - val_accuracy: 0.9761\n",
      "Epoch 2/2\n",
      "40800/40800 [==============================] - 0s 9us/sample - loss: 0.2444 - accuracy: 0.9785 - val_loss: 0.2326 - val_accuracy: 0.9783\n",
      "[1. 1. 0. ... 0. 0. 0.]\n",
      "Train on 40800 samples, validate on 10200 samples\n",
      "Epoch 1/2\n",
      "40800/40800 [==============================] - 0s 10us/sample - loss: 0.2273 - accuracy: 0.9822 - val_loss: 0.2155 - val_accuracy: 0.9835\n",
      "Epoch 2/2\n",
      "40800/40800 [==============================] - 0s 9us/sample - loss: 0.2121 - accuracy: 0.9855 - val_loss: 0.2013 - val_accuracy: 0.9849\n",
      "[1. 1. 0. ... 0. 0. 0.]\n",
      "Train on 40800 samples, validate on 10200 samples\n",
      "Epoch 1/2\n",
      "40800/40800 [==============================] - 0s 10us/sample - loss: 0.1978 - accuracy: 0.9880 - val_loss: 0.1873 - val_accuracy: 0.9890\n",
      "Epoch 2/2\n",
      "40800/40800 [==============================] - 0s 9us/sample - loss: 0.1851 - accuracy: 0.9895 - val_loss: 0.1754 - val_accuracy: 0.9892\n",
      "[1. 1. 0. ... 0. 0. 0.]\n"
     ]
    }
   ],
   "source": [
    "y_sig = np.ones(np.shape(x_sig)[0])\n",
    "y_bkg = np.zeros(np.shape(x_bkg)[0])\n",
    "\n",
    "y_train = np.concatenate((y_sig, y_bkg))\n",
    "x_train = np.concatenate((x_sig, x_bkg))\n",
    "true_label_train = np.concatenate((true_label_sig, true_label_bkg))\n",
    "\n",
    "indices_train = rng.permutation(np.shape(x_train)[0])\n",
    "\n",
    "x_train = x_train[indices_train]\n",
    "y_train = y_train[indices_train]\n",
    "true_label_train = true_label_train[indices_train]\n",
    "\n",
    "cwola_2 = CWoLA()\n",
    "loss_object = keras.losses.BinaryCrossentropy()\n",
    "optimizer = keras.optimizers.Adam(learning_rate = 1e-4)\n",
    "cwola_2.compile(loss = loss_object, optimizer = optimizer, metrics = ['accuracy'])\n",
    "early_stopping = keras.callbacks.EarlyStopping(monitor = 'val_loss', patience=30, restore_best_weights=True)\n",
    "for i in range(10):\n",
    "    cwola_2.fit(x_train, y_train, validation_split = 0.2,\n",
    "            shuffle = True, batch_size = 500, callbacks = [early_stopping], epochs = 2)  \n",
    "    \n",
    "    predict = (cwola_2.predict(x_train)).flatten()\n",
    "    \n",
    "    predict_array = np.zeros_like(y_train)\n",
    "    predict_array[predict >= np.percentile(predict, 50)] = 1\n",
    "    y_train = predict_array\n",
    "    print(y_train)\n",
    "    "
   ]
  },
  {
   "cell_type": "code",
   "execution_count": 91,
   "id": "874c7d3b",
   "metadata": {},
   "outputs": [],
   "source": [
    "x_predict = cwola_2.predict(x_test)"
   ]
  },
  {
   "cell_type": "code",
   "execution_count": 92,
   "id": "34c9fc9e",
   "metadata": {},
   "outputs": [],
   "source": [
    "x_predict_0 = x_predict[y_test == 0]\n",
    "x_predict_1 = x_predict[y_test == 1]"
   ]
  },
  {
   "cell_type": "code",
   "execution_count": 93,
   "id": "2e860ae7",
   "metadata": {},
   "outputs": [
    {
     "data": {
      "image/png": "[encoded data removed]",
      "text/plain": [
       "<Figure size 640x480 with 1 Axes>"
      ]
     },
     "metadata": {},
     "output_type": "display_data"
    }
   ],
   "source": [
    "plt.hist(x_predict_0, bins = 100, alpha = 0.5)\n",
    "plt.hist(x_predict_1, bins = 100, alpha = 0.5)\n",
    "plt.show()"
   ]
  },
  {
   "cell_type": "code",
   "execution_count": 94,
   "id": "7d644863",
   "metadata": {},
   "outputs": [
    {
     "data": {
      "image/png": "[encoded data removed]",
      "text/plain": [
       "<Figure size 640x480 with 1 Axes>"
      ]
     },
     "metadata": {},
     "output_type": "display_data"
    },
    {
     "name": "stdout",
     "output_type": "stream",
     "text": [
      "0.5119532376485001\n"
     ]
    }
   ],
   "source": [
    "fpr, tpr, th = roc_curve(y_test, x_predict)\n",
    "plt.plot(fpr, tpr)\n",
    "plt.show()\n",
    "f = interpolate.interp1d(fpr, tpr)\n",
    "epsilon_s = f([0.001, 0.01, 0.1])\n",
    "print(roc_auc_score(y_test, x_predict))"
   ]
  },
  {
   "cell_type": "code",
   "execution_count": 64,
   "id": "1987a75c",
   "metadata": {},
   "outputs": [
    {
     "name": "stdout",
     "output_type": "stream",
     "text": [
      "[0.08502543 0.2728005  0.669796  ]\n"
     ]
    }
   ],
   "source": [
    "print(epsilon_s)"
   ]
  }
 ],
 "metadata": {
  "kernelspec": {
   "display_name": "Python 3 (ipykernel)",
   "language": "python",
   "name": "python3"
  },
  "language_info": {
   "codemirror_mode": {
    "name": "ipython",
    "version": 3
   },
   "file_extension": ".py",
   "mimetype": "text/x-python",
   "name": "python",
   "nbconvert_exporter": "python",
   "pygments_lexer": "ipython3",
   "version": "3.7.7"
  }
 },
 "nbformat": 4,
 "nbformat_minor": 5
}
