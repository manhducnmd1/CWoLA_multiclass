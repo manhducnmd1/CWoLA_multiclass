{
 "cells": [
  {
   "cell_type": "code",
   "execution_count": 1,
   "id": "4a27364c",
   "metadata": {},
   "outputs": [],
   "source": [
    "import os\n",
    "import numpy as np\n",
    "import tensorflow as tf\n",
    "from tensorflow import keras\n",
    "from tensorflow.keras import layers\n",
    "from matplotlib import pyplot as plt\n",
    "from matplotlib import colors as mcolors\n",
    "from sklearn.metrics import roc_curve, roc_auc_score\n",
    "from scipy import interpolate\n",
    "from sklearn.utils import shuffle"
   ]
  },
  {
   "cell_type": "code",
   "execution_count": 2,
   "id": "ada7bf6a",
   "metadata": {},
   "outputs": [
    {
     "name": "stderr",
     "output_type": "stream",
     "text": [
      "2024-09-24 17:13:02.834370: I tensorflow/stream_executor/platform/default/dso_loader.cc:44] Successfully opened dynamic library libcuda.so.1\n",
      "2024-09-24 17:13:04.254163: I tensorflow/core/common_runtime/gpu/gpu_device.cc:1618] Found device 0 with properties: \n",
      "name: NVIDIA GeForce GTX 1080 Ti major: 6 minor: 1 memoryClockRate(GHz): 1.582\n",
      "pciBusID: 0000:d8:00.0\n",
      "2024-09-24 17:13:04.254383: I tensorflow/stream_executor/platform/default/dso_loader.cc:44] Successfully opened dynamic library libcudart.so.10.0\n",
      "2024-09-24 17:13:04.255672: I tensorflow/stream_executor/platform/default/dso_loader.cc:44] Successfully opened dynamic library libcublas.so.10.0\n",
      "2024-09-24 17:13:04.256830: I tensorflow/stream_executor/platform/default/dso_loader.cc:44] Successfully opened dynamic library libcufft.so.10.0\n",
      "2024-09-24 17:13:04.257111: I tensorflow/stream_executor/platform/default/dso_loader.cc:44] Successfully opened dynamic library libcurand.so.10.0\n",
      "2024-09-24 17:13:04.258517: I tensorflow/stream_executor/platform/default/dso_loader.cc:44] Successfully opened dynamic library libcusolver.so.10.0\n",
      "2024-09-24 17:13:04.259655: I tensorflow/stream_executor/platform/default/dso_loader.cc:44] Successfully opened dynamic library libcusparse.so.10.0\n",
      "2024-09-24 17:13:04.263168: I tensorflow/stream_executor/platform/default/dso_loader.cc:44] Successfully opened dynamic library libcudnn.so.7\n",
      "2024-09-24 17:13:04.264027: I tensorflow/core/common_runtime/gpu/gpu_device.cc:1746] Adding visible gpu devices: 0\n"
     ]
    }
   ],
   "source": [
    "os.environ[\"CUDA_VISIBLE_DEVICES\"] = '2'\n",
    "from tensorflow.python.client import device_lib\n",
    "physical_gpus = tf.config.experimental.list_physical_devices('GPU')\n",
    "tf.config.experimental.set_memory_growth(physical_gpus[0], True)"
   ]
  },
  {
   "cell_type": "code",
   "execution_count": 178,
   "id": "e860f007",
   "metadata": {},
   "outputs": [],
   "source": [
    "mean_1 = [0, 0, 0]\n",
    "cov_1 = [[1, 0, 0], [0, 1, 0], [0, 0, 1]]\n",
    "\n",
    "mean_2 = [1, 1, 1]\n",
    "cov_2 = [[1, 0, 0], [0, 1, 0], [0, 0, 1]]\n",
    "\n",
    "x_1 = np.random.multivariate_normal(mean_1, cov_1, size=1000000)\n",
    "y_1 = np.random.multivariate_normal(mean_1, cov_1, size=1000000)\n",
    "x_2 = np.random.multivariate_normal(mean_2, cov_2, size=1000000)\n",
    "y_2 = np.random.multivariate_normal(mean_2, cov_2, size=1000000)"
   ]
  },
  {
   "cell_type": "code",
   "execution_count": 179,
   "id": "2b2b8f88",
   "metadata": {
    "scrolled": true
   },
   "outputs": [
    {
     "name": "stdout",
     "output_type": "stream",
     "text": [
      "[0.05116696 1.13842339 1.10984764]\n"
     ]
    }
   ],
   "source": [
    "print(x_1[0])"
   ]
  },
  {
   "cell_type": "code",
   "execution_count": 180,
   "id": "a3f30ed9",
   "metadata": {},
   "outputs": [
    {
     "data": {
      "image/png": "[encoded data removed]",
      "text/plain": [
       "<Figure size 640x480 with 1 Axes>"
      ]
     },
     "metadata": {},
     "output_type": "display_data"
    }
   ],
   "source": [
    "plt.hist(y_1[:,1], alpha = 0.5, bins = 100, color = 'b')\n",
    "plt.hist(y_2[:,1], alpha = 0.5, bins = 100, color = 'r')\n",
    "plt.show()"
   ]
  },
  {
   "cell_type": "code",
   "execution_count": 181,
   "id": "64273b58",
   "metadata": {},
   "outputs": [],
   "source": [
    "n_sig = 10000\n",
    "n_bkg = 500\n",
    "\n",
    "#x_2 means signal and x_1 means background\n",
    "x_sig_1 = x_1[0:250000]\n",
    "true_label_sig_1 = np.zeros_like(x_sig_1[:,0])\n",
    "x_sig_2 = x_2[0:n_sig]\n",
    "true_label_sig_2 = np.ones_like(x_sig_2[:,0])\n",
    "x_bkg_1 = x_1[250000:(500000+n_sig-n_bkg)]\n",
    "true_label_bkg_1 = np.zeros_like(x_bkg_1[:,0])\n",
    "x_bkg_2 = x_2[0:500]\n",
    "true_label_bkg_2 = np.ones_like(x_bkg_2[:,0])"
   ]
  },
  {
   "cell_type": "code",
   "execution_count": 182,
   "id": "bcb02455",
   "metadata": {},
   "outputs": [],
   "source": [
    "rng = np.random.default_rng()\n",
    "x_sig = np.concatenate((x_sig_1, x_sig_2))\n",
    "x_bkg = np.concatenate((x_bkg_1, x_bkg_2))\n",
    "true_label_sig = np.concatenate((true_label_sig_1, true_label_sig_2))\n",
    "true_label_bkg = np.concatenate((true_label_bkg_1, true_label_bkg_2))\n",
    "\n",
    "indices_sig = rng.permutation(np.shape(x_sig)[0])\n",
    "indices_bkg = rng.permutation(np.shape(x_bkg)[0])\n",
    "\n",
    "\n",
    "x_sig = x_sig[indices_sig]\n",
    "true_label_sig = true_label_sig[indices_sig]\n",
    "\n",
    "x_bkg = x_bkg[indices_bkg]\n",
    "true_label_bkg = true_label_bkg[indices_bkg]"
   ]
  },
  {
   "cell_type": "code",
   "execution_count": 183,
   "id": "57a9b6b3",
   "metadata": {},
   "outputs": [
    {
     "name": "stdout",
     "output_type": "stream",
     "text": [
      "[0. 0. 0. ... 0. 0. 1.]\n"
     ]
    }
   ],
   "source": [
    "print(true_label_sig)"
   ]
  },
  {
   "cell_type": "code",
   "execution_count": 184,
   "id": "1416d7f6",
   "metadata": {},
   "outputs": [
    {
     "name": "stdout",
     "output_type": "stream",
     "text": [
      "(260000, 3)\n"
     ]
    }
   ],
   "source": [
    "print(np.shape(x_sig))"
   ]
  },
  {
   "cell_type": "code",
   "execution_count": 185,
   "id": "f2aa692b",
   "metadata": {},
   "outputs": [
    {
     "name": "stdout",
     "output_type": "stream",
     "text": [
      "(250000, 3)\n"
     ]
    }
   ],
   "source": [
    "print(np.shape(x_sig[true_label_sig == 0.]))"
   ]
  },
  {
   "cell_type": "code",
   "execution_count": 186,
   "id": "75cc3308",
   "metadata": {},
   "outputs": [
    {
     "name": "stdout",
     "output_type": "stream",
     "text": [
      "(260000, 3) (260000, 3)\n"
     ]
    }
   ],
   "source": [
    "print(np.shape(x_sig), np.shape(x_bkg))"
   ]
  },
  {
   "cell_type": "code",
   "execution_count": 187,
   "id": "e4d93063",
   "metadata": {},
   "outputs": [
    {
     "data": {
      "image/png": "[encoded data removed]",
      "text/plain": [
       "<Figure size 640x480 with 1 Axes>"
      ]
     },
     "metadata": {},
     "output_type": "display_data"
    }
   ],
   "source": [
    "plt.hist(x_sig[:,0], alpha = 0.5, bins = 100, color = 'r')\n",
    "plt.hist(x_bkg[:,0], alpha = 0.5, bins = 100, color = 'b')\n",
    "plt.show()"
   ]
  },
  {
   "cell_type": "markdown",
   "id": "a1619548",
   "metadata": {},
   "source": [
    "Without bootstrapping"
   ]
  },
  {
   "cell_type": "code",
   "execution_count": 188,
   "id": "0d0a807a",
   "metadata": {},
   "outputs": [],
   "source": [
    "def CWoLA():\n",
    "    input_1 = keras.layers.Input(shape = (3))\n",
    "    dnn = keras.Sequential([\n",
    "          keras.layers.Dense(32, activation = 'relu'),\n",
    "          keras.layers.Dense(16, activation = 'relu'),\n",
    "          keras.layers.Dense(1, activation = 'sigmoid')\n",
    "    ])\n",
    "    x = dnn(input_1)\n",
    "    return keras.Model(         \n",
    "    inputs=[input_1],\n",
    "    outputs=x,)"
   ]
  },
  {
   "cell_type": "code",
   "execution_count": 189,
   "id": "bb617dfc",
   "metadata": {},
   "outputs": [
    {
     "name": "stdout",
     "output_type": "stream",
     "text": [
      "(260000, 3)\n"
     ]
    }
   ],
   "source": [
    "print(np.shape(x_bkg))"
   ]
  },
  {
   "cell_type": "code",
   "execution_count": 190,
   "id": "475ca149",
   "metadata": {},
   "outputs": [
    {
     "name": "stdout",
     "output_type": "stream",
     "text": [
      "Train on 416000 samples, validate on 104000 samples\n",
      "Epoch 1/10\n",
      "416000/416000 [==============================] - 4s 9us/sample - loss: 0.6931 - accuracy: 0.5096 - val_loss: 0.6923 - val_accuracy: 0.5102\n",
      "Epoch 2/10\n",
      "416000/416000 [==============================] - 3s 8us/sample - loss: 0.6923 - accuracy: 0.5101 - val_loss: 0.6921 - val_accuracy: 0.5115\n",
      "Epoch 3/10\n",
      "416000/416000 [==============================] - 3s 8us/sample - loss: 0.6922 - accuracy: 0.5111 - val_loss: 0.6921 - val_accuracy: 0.5128\n",
      "Epoch 4/10\n",
      "416000/416000 [==============================] - 3s 8us/sample - loss: 0.6922 - accuracy: 0.5111 - val_loss: 0.6921 - val_accuracy: 0.5128\n",
      "Epoch 5/10\n",
      "416000/416000 [==============================] - 3s 8us/sample - loss: 0.6921 - accuracy: 0.5114 - val_loss: 0.6921 - val_accuracy: 0.5123\n",
      "Epoch 6/10\n",
      "416000/416000 [==============================] - 3s 8us/sample - loss: 0.6921 - accuracy: 0.5114 - val_loss: 0.6921 - val_accuracy: 0.5129\n",
      "Epoch 7/10\n",
      "416000/416000 [==============================] - 3s 8us/sample - loss: 0.6921 - accuracy: 0.5116 - val_loss: 0.6920 - val_accuracy: 0.5129\n",
      "Epoch 8/10\n",
      "416000/416000 [==============================] - 3s 8us/sample - loss: 0.6921 - accuracy: 0.5118 - val_loss: 0.6921 - val_accuracy: 0.5111\n",
      "Epoch 9/10\n",
      "416000/416000 [==============================] - 3s 8us/sample - loss: 0.6921 - accuracy: 0.5116 - val_loss: 0.6920 - val_accuracy: 0.5128\n",
      "Epoch 10/10\n",
      "416000/416000 [==============================] - 3s 7us/sample - loss: 0.6921 - accuracy: 0.5120 - val_loss: 0.6920 - val_accuracy: 0.5130\n"
     ]
    },
    {
     "data": {
      "text/plain": [
       "<tensorflow.python.keras.callbacks.History at 0x7efd1c4737d0>"
      ]
     },
     "execution_count": 190,
     "metadata": {},
     "output_type": "execute_result"
    }
   ],
   "source": [
    "y_sig = np.ones(np.shape(x_sig)[0])\n",
    "y_bkg = np.zeros(np.shape(x_bkg)[0])\n",
    "\n",
    "y_train = np.concatenate((y_sig, y_bkg))\n",
    "x_train = np.concatenate((x_sig, x_bkg))\n",
    "true_label_train = np.concatenate((true_label_sig, true_label_bkg))\n",
    "\n",
    "indices_train = rng.permutation(np.shape(x_train)[0])\n",
    "\n",
    "x_train = x_train[indices_train]\n",
    "y_train = y_train[indices_train]\n",
    "true_label_train = true_label_train[indices_train]\n",
    "\n",
    "cwola = CWoLA()\n",
    "loss_object = keras.losses.BinaryCrossentropy()\n",
    "optimizer = keras.optimizers.Adam(learning_rate = 1e-4)\n",
    "cwola.compile(loss = loss_object, optimizer = optimizer, metrics = ['accuracy'])\n",
    "early_stopping = keras.callbacks.EarlyStopping(monitor = 'val_loss', patience=30, restore_best_weights=True)\n",
    "cwola.fit(x_train, y_train, validation_split = 0.2,\n",
    "        shuffle = True, batch_size = 500, callbacks = [early_stopping], epochs = 10)  "
   ]
  },
  {
   "cell_type": "code",
   "execution_count": 191,
   "id": "0a1e0521",
   "metadata": {},
   "outputs": [],
   "source": [
    "x_test = np.concatenate((y_1, y_2))\n",
    "\n",
    "y_test_sig = np.ones(np.shape(y_2)[0])\n",
    "y_test_bkg = np.zeros(np.shape(y_1)[0])\n",
    "y_test = np.concatenate((y_test_bkg, y_test_sig))"
   ]
  },
  {
   "cell_type": "code",
   "execution_count": 192,
   "id": "f3bba2f8",
   "metadata": {},
   "outputs": [],
   "source": [
    "x_predict = cwola.predict(x_test)"
   ]
  },
  {
   "cell_type": "code",
   "execution_count": 193,
   "id": "b23b78e3",
   "metadata": {},
   "outputs": [],
   "source": [
    "x_predict_0 = x_predict[y_test == 0]\n",
    "x_predict_1 = x_predict[y_test == 1]\n"
   ]
  },
  {
   "cell_type": "code",
   "execution_count": 194,
   "id": "f42c1866",
   "metadata": {
    "scrolled": true
   },
   "outputs": [
    {
     "data": {
      "image/png": "[encoded data removed]",
      "text/plain": [
       "<Figure size 640x480 with 1 Axes>"
      ]
     },
     "metadata": {},
     "output_type": "display_data"
    }
   ],
   "source": [
    "plt.hist(x_predict_0, bins = 100, alpha = 0.5)\n",
    "plt.hist(x_predict_1, bins = 100, alpha = 0.5)\n",
    "plt.show()"
   ]
  },
  {
   "cell_type": "code",
   "execution_count": 195,
   "id": "6ece1a6c",
   "metadata": {},
   "outputs": [
    {
     "data": {
      "image/png": "[encoded data removed]",
      "text/plain": [
       "<Figure size 640x480 with 1 Axes>"
      ]
     },
     "metadata": {},
     "output_type": "display_data"
    },
    {
     "name": "stdout",
     "output_type": "stream",
     "text": [
      "0.8462234751135002\n"
     ]
    }
   ],
   "source": [
    "fpr, tpr, th = roc_curve(y_test, x_predict)\n",
    "plt.plot(fpr, tpr)\n",
    "plt.show()\n",
    "f = interpolate.interp1d(fpr, tpr)\n",
    "epsilon_s = f([0.001, 0.01, 0.1])\n",
    "print(roc_auc_score(y_test, x_predict))"
   ]
  },
  {
   "cell_type": "markdown",
   "id": "bb5e8c1d",
   "metadata": {},
   "source": [
    "With bootstrapping"
   ]
  },
  {
   "cell_type": "code",
   "execution_count": 196,
   "id": "24337fdd",
   "metadata": {},
   "outputs": [
    {
     "name": "stdout",
     "output_type": "stream",
     "text": [
      "Train on 416000 samples, validate on 104000 samples\n",
      "Epoch 1/2\n",
      "416000/416000 [==============================] - 4s 9us/sample - loss: 0.6937 - accuracy: 0.5050 - val_loss: 0.6925 - val_accuracy: 0.5129\n",
      "Epoch 2/2\n",
      "416000/416000 [==============================] - 3s 8us/sample - loss: 0.6924 - accuracy: 0.5087 - val_loss: 0.6924 - val_accuracy: 0.5112\n",
      "[0. 0. 0. ... 0. 0. 0.]\n",
      "Train on 416000 samples, validate on 104000 samples\n",
      "Epoch 1/2\n",
      "416000/416000 [==============================] - 3s 7us/sample - loss: 0.1882 - accuracy: 0.9857 - val_loss: 0.0704 - val_accuracy: 0.9902\n",
      "Epoch 2/2\n",
      "416000/416000 [==============================] - 3s 7us/sample - loss: 0.0529 - accuracy: 0.9900 - val_loss: 0.0394 - val_accuracy: 0.9902\n",
      "[0. 0. 0. ... 0. 0. 0.]\n",
      "Train on 416000 samples, validate on 104000 samples\n",
      "Epoch 1/2\n",
      "416000/416000 [==============================] - 3s 7us/sample - loss: 0.0284 - accuracy: 0.9901 - val_loss: 0.0228 - val_accuracy: 0.9910\n",
      "Epoch 2/2\n",
      "416000/416000 [==============================] - 3s 7us/sample - loss: 0.0199 - accuracy: 0.9919 - val_loss: 0.0166 - val_accuracy: 0.9933\n",
      "[0. 0. 0. ... 0. 0. 0.]\n"
     ]
    }
   ],
   "source": [
    "y_sig = np.ones(np.shape(x_sig)[0])\n",
    "y_bkg = np.zeros(np.shape(x_bkg)[0])\n",
    "\n",
    "y_train = np.concatenate((y_sig, y_bkg))\n",
    "x_train = np.concatenate((x_sig, x_bkg))\n",
    "true_label_train = np.concatenate((true_label_sig, true_label_bkg))\n",
    "\n",
    "indices_train = rng.permutation(np.shape(x_train)[0])\n",
    "\n",
    "x_train = x_train[indices_train]\n",
    "y_train = y_train[indices_train]\n",
    "true_label_train = true_label_train[indices_train]\n",
    "\n",
    "cwola_2 = CWoLA()\n",
    "loss_object = keras.losses.BinaryCrossentropy()\n",
    "optimizer = keras.optimizers.Adam(learning_rate = 1e-4)\n",
    "cwola_2.compile(loss = loss_object, optimizer = optimizer, metrics = ['accuracy'])\n",
    "early_stopping = keras.callbacks.EarlyStopping(monitor = 'val_loss', patience=30, restore_best_weights=True)\n",
    "for i in range(3):\n",
    "    cwola_2.fit(x_train, y_train, validation_split = 0.2,\n",
    "            shuffle = True, batch_size = 500, callbacks = [early_stopping], epochs = 2)  \n",
    "    \n",
    "    predict = (cwola_2.predict(x_train)).flatten()\n",
    "    \n",
    "    predict_array = np.zeros_like(y_train)\n",
    "    predict_array[predict >= np.percentile(predict, 99)] = 1\n",
    "    y_train = predict_array\n",
    "    print(y_train)\n",
    "    "
   ]
  },
  {
   "cell_type": "code",
   "execution_count": 197,
   "id": "874c7d3b",
   "metadata": {},
   "outputs": [],
   "source": [
    "x_predict = cwola_2.predict(x_test)"
   ]
  },
  {
   "cell_type": "code",
   "execution_count": 198,
   "id": "34c9fc9e",
   "metadata": {},
   "outputs": [],
   "source": [
    "x_predict_0 = x_predict[y_test == 0]\n",
    "x_predict_1 = x_predict[y_test == 1]"
   ]
  },
  {
   "cell_type": "code",
   "execution_count": 199,
   "id": "2e860ae7",
   "metadata": {},
   "outputs": [
    {
     "data": {
      "image/png": "[encoded data removed]",
      "text/plain": [
       "<Figure size 640x480 with 1 Axes>"
      ]
     },
     "metadata": {},
     "output_type": "display_data"
    }
   ],
   "source": [
    "plt.hist(x_predict_0, bins = 100, alpha = 0.5)\n",
    "plt.hist(x_predict_1, bins = 100, alpha = 0.5)\n",
    "plt.show()"
   ]
  },
  {
   "cell_type": "code",
   "execution_count": 200,
   "id": "7d644863",
   "metadata": {},
   "outputs": [
    {
     "data": {
      "image/png": "[encoded data removed]",
      "text/plain": [
       "<Figure size 640x480 with 1 Axes>"
      ]
     },
     "metadata": {},
     "output_type": "display_data"
    },
    {
     "name": "stdout",
     "output_type": "stream",
     "text": [
      "0.7786520708105\n"
     ]
    }
   ],
   "source": [
    "fpr, tpr, th = roc_curve(y_test, x_predict)\n",
    "plt.plot(fpr, tpr)\n",
    "plt.show()\n",
    "f = interpolate.interp1d(fpr, tpr)\n",
    "epsilon_s = f([0.001, 0.01, 0.1])\n",
    "print(roc_auc_score(y_test, x_predict))"
   ]
  },
  {
   "cell_type": "code",
   "execution_count": 201,
   "id": "1987a75c",
   "metadata": {},
   "outputs": [
    {
     "name": "stdout",
     "output_type": "stream",
     "text": [
      "[0.041969 0.155039 0.467208]\n"
     ]
    }
   ],
   "source": [
    "print(epsilon_s)"
   ]
  }
 ],
 "metadata": {
  "kernelspec": {
   "display_name": "Python 3 (ipykernel)",
   "language": "python",
   "name": "python3"
  },
  "language_info": {
   "codemirror_mode": {
    "name": "ipython",
    "version": 3
   },
   "file_extension": ".py",
   "mimetype": "text/x-python",
   "name": "python",
   "nbconvert_exporter": "python",
   "pygments_lexer": "ipython3",
   "version": "3.7.7"
  }
 },
 "nbformat": 4,
 "nbformat_minor": 5
}
