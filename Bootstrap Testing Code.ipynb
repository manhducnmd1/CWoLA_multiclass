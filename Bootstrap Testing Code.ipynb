{
 "cells": [
  {
   "cell_type": "code",
   "execution_count": 1,
   "id": "4a27364c",
   "metadata": {},
   "outputs": [],
   "source": [
    "import os\n",
    "import numpy as np\n",
    "import tensorflow as tf\n",
    "from tensorflow import keras\n",
    "from tensorflow.keras import layers\n",
    "from matplotlib import pyplot as plt\n",
    "from matplotlib import colors as mcolors\n",
    "from sklearn.metrics import roc_curve, roc_auc_score\n",
    "from scipy import interpolate\n",
    "from sklearn.utils import shuffle"
   ]
  },
  {
   "cell_type": "code",
   "execution_count": 2,
   "id": "ada7bf6a",
   "metadata": {},
   "outputs": [
    {
     "name": "stderr",
     "output_type": "stream",
     "text": [
      "2024-09-20 17:08:33.286652: I tensorflow/stream_executor/platform/default/dso_loader.cc:44] Successfully opened dynamic library libcuda.so.1\n",
      "2024-09-20 17:08:34.750421: I tensorflow/core/common_runtime/gpu/gpu_device.cc:1618] Found device 0 with properties: \n",
      "name: NVIDIA GeForce GTX 1080 Ti major: 6 minor: 1 memoryClockRate(GHz): 1.582\n",
      "pciBusID: 0000:d8:00.0\n",
      "2024-09-20 17:08:34.750653: I tensorflow/stream_executor/platform/default/dso_loader.cc:44] Successfully opened dynamic library libcudart.so.10.0\n",
      "2024-09-20 17:08:34.752061: I tensorflow/stream_executor/platform/default/dso_loader.cc:44] Successfully opened dynamic library libcublas.so.10.0\n",
      "2024-09-20 17:08:34.753287: I tensorflow/stream_executor/platform/default/dso_loader.cc:44] Successfully opened dynamic library libcufft.so.10.0\n",
      "2024-09-20 17:08:34.753586: I tensorflow/stream_executor/platform/default/dso_loader.cc:44] Successfully opened dynamic library libcurand.so.10.0\n",
      "2024-09-20 17:08:34.755135: I tensorflow/stream_executor/platform/default/dso_loader.cc:44] Successfully opened dynamic library libcusolver.so.10.0\n",
      "2024-09-20 17:08:34.756370: I tensorflow/stream_executor/platform/default/dso_loader.cc:44] Successfully opened dynamic library libcusparse.so.10.0\n",
      "2024-09-20 17:08:34.760163: I tensorflow/stream_executor/platform/default/dso_loader.cc:44] Successfully opened dynamic library libcudnn.so.7\n",
      "2024-09-20 17:08:34.761060: I tensorflow/core/common_runtime/gpu/gpu_device.cc:1746] Adding visible gpu devices: 0\n"
     ]
    }
   ],
   "source": [
    "os.environ[\"CUDA_VISIBLE_DEVICES\"] = '2'\n",
    "from tensorflow.python.client import device_lib\n",
    "physical_gpus = tf.config.experimental.list_physical_devices('GPU')\n",
    "tf.config.experimental.set_memory_growth(physical_gpus[0], True)"
   ]
  },
  {
   "cell_type": "code",
   "execution_count": 3,
   "id": "f99914b5",
   "metadata": {},
   "outputs": [],
   "source": [
    "mean_1 = [0, 0]\n",
    "cov_1 = [[0.25, 0], [0, 0.25]]\n",
    "\n",
    "mean_2 = [1, 1]\n",
    "cov_2 = [[0.25, 0], [0, 0.25]]\n",
    "\n",
    "x_1 = np.random.multivariate_normal(mean_1, cov_1, size=1000000)\n",
    "y_1 = np.random.multivariate_normal(mean_1, cov_1, size=1000000)\n",
    "x_2 = np.random.multivariate_normal(mean_2, cov_2, size=1000000)\n",
    "y_2 = np.random.multivariate_normal(mean_2, cov_2, size=1000000)"
   ]
  },
  {
   "cell_type": "code",
   "execution_count": 4,
   "id": "2b2b8f88",
   "metadata": {
    "scrolled": true
   },
   "outputs": [
    {
     "name": "stdout",
     "output_type": "stream",
     "text": [
      "[ 0.59885676 -1.21991801]\n"
     ]
    }
   ],
   "source": [
    "print(x_1[0])"
   ]
  },
  {
   "cell_type": "code",
   "execution_count": 5,
   "id": "a3f30ed9",
   "metadata": {},
   "outputs": [
    {
     "data": {
      "image/png": "[encoded data removed]",
      "text/plain": [
       "<Figure size 640x480 with 1 Axes>"
      ]
     },
     "metadata": {},
     "output_type": "display_data"
    }
   ],
   "source": [
    "plt.hist(y_1[:,1], alpha = 0.5, bins = 100, color = 'b')\n",
    "plt.hist(y_2[:,1], alpha = 0.5, bins = 100, color = 'r')\n",
    "plt.show()"
   ]
  },
  {
   "cell_type": "code",
   "execution_count": 6,
   "id": "2916f7e3",
   "metadata": {},
   "outputs": [],
   "source": [
    "x_sig_1 = x_1[0:250000]\n",
    "true_label_sig_1 = np.zeros_like(x_sig_1[:,0])\n",
    "x_sig_2 = x_2[0:10000]\n",
    "true_label_sig_2 = np.ones_like(x_sig_2[:,0])\n",
    "x_bkg_1 = x_1[250000:509500]\n",
    "true_label_bkg_1 = np.ones_like(x_bkg_1[:,0])\n",
    "x_bkg_2 = x_2[0:500]\n",
    "true_label_bkg_2 = np.zeros_like(x_bkg_2[:,0])"
   ]
  },
  {
   "cell_type": "code",
   "execution_count": 7,
   "id": "bcb02455",
   "metadata": {},
   "outputs": [],
   "source": [
    "rng = np.random.default_rng()\n",
    "x_sig = np.concatenate((x_sig_1, x_sig_2))\n",
    "x_bkg = np.concatenate((x_bkg_1, x_bkg_2))\n",
    "true_label_sig = np.concatenate((true_label_sig_1, true_label_sig_2))\n",
    "true_label_bkg = np.concatenate((true_label_bkg_1, true_label_bkg_2))\n",
    "\n",
    "indices_sig = rng.permutation(np.shape(x_sig)[0])\n",
    "indices_bkg = rng.permutation(np.shape(x_bkg)[0])\n",
    "\n",
    "\n",
    "x_sig = x_sig[indices_sig]\n",
    "true_label_sig = true_label_sig[indices_sig]\n",
    "\n",
    "x_bkg = x_bkg[indices_bkg]\n",
    "true_label_bkg = true_label_bkg[indices_bkg]"
   ]
  },
  {
   "cell_type": "code",
   "execution_count": 8,
   "id": "57a9b6b3",
   "metadata": {},
   "outputs": [
    {
     "name": "stdout",
     "output_type": "stream",
     "text": [
      "[0. 0. 0. ... 0. 0. 0.]\n"
     ]
    }
   ],
   "source": [
    "print(true_label_sig)"
   ]
  },
  {
   "cell_type": "code",
   "execution_count": 9,
   "id": "1416d7f6",
   "metadata": {},
   "outputs": [
    {
     "name": "stdout",
     "output_type": "stream",
     "text": [
      "(260000, 2)\n"
     ]
    }
   ],
   "source": [
    "print(np.shape(x_sig))"
   ]
  },
  {
   "cell_type": "code",
   "execution_count": 10,
   "id": "f2aa692b",
   "metadata": {},
   "outputs": [
    {
     "name": "stdout",
     "output_type": "stream",
     "text": [
      "(250000, 2)\n"
     ]
    }
   ],
   "source": [
    "print(np.shape(x_sig[true_label_sig == 0.]))"
   ]
  },
  {
   "cell_type": "code",
   "execution_count": 11,
   "id": "75cc3308",
   "metadata": {},
   "outputs": [
    {
     "name": "stdout",
     "output_type": "stream",
     "text": [
      "(260000, 2) (260000, 2)\n"
     ]
    }
   ],
   "source": [
    "print(np.shape(x_sig), np.shape(x_bkg))"
   ]
  },
  {
   "cell_type": "code",
   "execution_count": 12,
   "id": "e4d93063",
   "metadata": {},
   "outputs": [
    {
     "data": {
      "image/png": "[encoded data removed]",
      "text/plain": [
       "<Figure size 640x480 with 1 Axes>"
      ]
     },
     "metadata": {},
     "output_type": "display_data"
    }
   ],
   "source": [
    "plt.hist(x_sig[:,0], alpha = 0.5, bins = 100, color = 'r')\n",
    "plt.hist(x_bkg[:,1], alpha = 0.5, bins = 100, color = 'b')\n",
    "plt.show()"
   ]
  },
  {
   "cell_type": "markdown",
   "id": "a1619548",
   "metadata": {},
   "source": [
    "Without bootstrapping"
   ]
  },
  {
   "cell_type": "code",
   "execution_count": 13,
   "id": "1c7ab335",
   "metadata": {},
   "outputs": [],
   "source": [
    "def CWoLA():\n",
    "    input_1 = keras.layers.Input(shape = (2))\n",
    "    dnn = keras.Sequential([\n",
    "          keras.layers.Dense(16, activation = 'relu'),\n",
    "          keras.layers.Dense(16, activation = 'relu'),\n",
    "          keras.layers.Dense(1, activation = 'sigmoid')\n",
    "    ])\n",
    "    x = dnn(input_1)\n",
    "    return keras.Model(         \n",
    "    inputs=[input_1],\n",
    "    outputs=x,)"
   ]
  },
  {
   "cell_type": "code",
   "execution_count": null,
   "id": "47330b00",
   "metadata": {},
   "outputs": [
    {
     "name": "stderr",
     "output_type": "stream",
     "text": [
      "2024-09-20 17:09:04.996847: I tensorflow/core/platform/cpu_feature_guard.cc:142] Your CPU supports instructions that this TensorFlow binary was not compiled to use: SSE4.1 SSE4.2 AVX AVX2 AVX512F FMA\n",
      "2024-09-20 17:09:05.028786: I tensorflow/core/platform/profile_utils/cpu_utils.cc:94] CPU Frequency: 3200000000 Hz\n",
      "2024-09-20 17:09:05.031593: I tensorflow/compiler/xla/service/service.cc:168] XLA service 0x5621fbe7e6a0 executing computations on platform Host. Devices:\n",
      "2024-09-20 17:09:05.031639: I tensorflow/compiler/xla/service/service.cc:175]   StreamExecutor device (0): Host, Default Version\n",
      "2024-09-20 17:09:05.033281: I tensorflow/core/common_runtime/gpu/gpu_device.cc:1618] Found device 0 with properties: \n",
      "name: NVIDIA GeForce GTX 1080 Ti major: 6 minor: 1 memoryClockRate(GHz): 1.582\n",
      "pciBusID: 0000:d8:00.0\n",
      "2024-09-20 17:09:05.033369: I tensorflow/stream_executor/platform/default/dso_loader.cc:44] Successfully opened dynamic library libcudart.so.10.0\n",
      "2024-09-20 17:09:05.033396: I tensorflow/stream_executor/platform/default/dso_loader.cc:44] Successfully opened dynamic library libcublas.so.10.0\n",
      "2024-09-20 17:09:05.033419: I tensorflow/stream_executor/platform/default/dso_loader.cc:44] Successfully opened dynamic library libcufft.so.10.0\n",
      "2024-09-20 17:09:05.033442: I tensorflow/stream_executor/platform/default/dso_loader.cc:44] Successfully opened dynamic library libcurand.so.10.0\n",
      "2024-09-20 17:09:05.033465: I tensorflow/stream_executor/platform/default/dso_loader.cc:44] Successfully opened dynamic library libcusolver.so.10.0\n",
      "2024-09-20 17:09:05.033487: I tensorflow/stream_executor/platform/default/dso_loader.cc:44] Successfully opened dynamic library libcusparse.so.10.0\n",
      "2024-09-20 17:09:05.033511: I tensorflow/stream_executor/platform/default/dso_loader.cc:44] Successfully opened dynamic library libcudnn.so.7\n",
      "2024-09-20 17:09:05.035861: I tensorflow/core/common_runtime/gpu/gpu_device.cc:1746] Adding visible gpu devices: 0\n",
      "2024-09-20 17:09:05.035920: I tensorflow/stream_executor/platform/default/dso_loader.cc:44] Successfully opened dynamic library libcudart.so.10.0\n",
      "2024-09-20 17:09:05.168225: I tensorflow/core/common_runtime/gpu/gpu_device.cc:1159] Device interconnect StreamExecutor with strength 1 edge matrix:\n",
      "2024-09-20 17:09:05.168258: I tensorflow/core/common_runtime/gpu/gpu_device.cc:1165]      0 \n",
      "2024-09-20 17:09:05.168263: I tensorflow/core/common_runtime/gpu/gpu_device.cc:1178] 0:   N \n",
      "2024-09-20 17:09:05.169576: I tensorflow/core/common_runtime/gpu/gpu_device.cc:1304] Created TensorFlow device (/job:localhost/replica:0/task:0/device:GPU:0 with 10489 MB memory) -> physical GPU (device: 0, name: NVIDIA GeForce GTX 1080 Ti, pci bus id: 0000:d8:00.0, compute capability: 6.1)\n",
      "2024-09-20 17:09:05.171477: I tensorflow/compiler/xla/service/service.cc:168] XLA service 0x56220264dba0 executing computations on platform CUDA. Devices:\n",
      "2024-09-20 17:09:05.171492: I tensorflow/compiler/xla/service/service.cc:175]   StreamExecutor device (0): NVIDIA GeForce GTX 1080 Ti, Compute Capability 6.1\n"
     ]
    },
    {
     "name": "stdout",
     "output_type": "stream",
     "text": [
      "Train on 208000 samples, validate on 52000 samples\n",
      "Epoch 1/10\n",
      " 10000/208000 [>.............................] - ETA: 14s - loss: 0.8918 - accuracy: 2.0000e-04 "
     ]
    },
    {
     "name": "stderr",
     "output_type": "stream",
     "text": [
      "2024-09-20 17:09:06.110663: I tensorflow/stream_executor/platform/default/dso_loader.cc:44] Successfully opened dynamic library libcublas.so.10.0\n"
     ]
    },
    {
     "name": "stdout",
     "output_type": "stream",
     "text": [
      "208000/208000 [==============================] - 2s 11us/sample - loss: 0.7260 - accuracy: 0.4748 - val_loss: 0.5681 - val_accuracy: 0.9660\n",
      "Epoch 2/10\n",
      "208000/208000 [==============================] - 2s 8us/sample - loss: 0.4430 - accuracy: 0.9982 - val_loss: 0.3330 - val_accuracy: 1.0000\n",
      "Epoch 3/10\n",
      "208000/208000 [==============================] - 2s 8us/sample - loss: 0.2512 - accuracy: 1.0000 - val_loss: 0.1826 - val_accuracy: 1.0000\n",
      "Epoch 4/10\n",
      "208000/208000 [==============================] - 2s 8us/sample - loss: 0.1375 - accuracy: 1.0000 - val_loss: 0.1007 - val_accuracy: 1.0000\n",
      "Epoch 5/10\n",
      "208000/208000 [==============================] - 2s 8us/sample - loss: 0.0765 - accuracy: 1.0000 - val_loss: 0.0567 - val_accuracy: 1.0000\n",
      "Epoch 6/10\n",
      "208000/208000 [==============================] - 2s 8us/sample - loss: 0.0439 - accuracy: 1.0000 - val_loss: 0.0334 - val_accuracy: 1.0000\n"
     ]
    }
   ],
   "source": [
    "y_sig = np.ones(np.shape(x_sig)[0])\n",
    "y_bkg = np.zeros(np.shape(x_bkg)[0])\n",
    "\n",
    "y_train = np.concatenate((y_sig, y_bkg))\n",
    "x_train = np.concatenate((x_sig, x_bkg))\n",
    "true_label_train = np.concatenate((true_label_sig, true_label_bkg))\n",
    "\n",
    "indices_train = rng.permutation(np.shape(x_sig)[0])\n",
    "\n",
    "x_train = x_train[indices_train]\n",
    "y_train = y_train[indices_train]\n",
    "true_label_train = true_label_train[indices_train]\n",
    "\n",
    "cwola = CWoLA()\n",
    "loss_object = keras.losses.BinaryCrossentropy()\n",
    "optimizer = keras.optimizers.Adam(learning_rate = 1e-4)\n",
    "cwola.compile(loss = loss_object, optimizer = optimizer, metrics = ['accuracy'])\n",
    "early_stopping = keras.callbacks.EarlyStopping(monitor = 'val_loss', patience=30, restore_best_weights=True)\n",
    "cwola.fit(x_train, y_train, validation_split = 0.2,\n",
    "        shuffle = True, batch_size = 500, callbacks = [early_stopping], epochs = 10)  "
   ]
  },
  {
   "cell_type": "code",
   "execution_count": 39,
   "id": "0a1e0521",
   "metadata": {},
   "outputs": [],
   "source": [
    "x_test = np.concatenate((y_1, y_2))\n",
    "\n",
    "y_test_sig = np.ones(np.shape(y_2)[0])\n",
    "y_test_bkg = np.zeros(np.shape(y_1)[0])\n",
    "y_test = np.concatenate((y_test_sig, y_test_bkg))"
   ]
  },
  {
   "cell_type": "code",
   "execution_count": 40,
   "id": "f3bba2f8",
   "metadata": {},
   "outputs": [],
   "source": [
    "x_predict = cwola.predict(x_test)"
   ]
  },
  {
   "cell_type": "code",
   "execution_count": 41,
   "id": "b23b78e3",
   "metadata": {},
   "outputs": [],
   "source": [
    "x_predict_0 = x_predict[y_test == 0]\n",
    "x_predict_1 = x_predict[y_test == 1]\n"
   ]
  },
  {
   "cell_type": "code",
   "execution_count": 42,
   "id": "f42c1866",
   "metadata": {
    "scrolled": true
   },
   "outputs": [
    {
     "data": {
      "image/png": "[encoded data removed]",
      "text/plain": [
       "<Figure size 640x480 with 1 Axes>"
      ]
     },
     "metadata": {},
     "output_type": "display_data"
    }
   ],
   "source": [
    "plt.hist(x_predict_0, bins = 100, alpha = 0.5)\n",
    "plt.hist(x_predict_1, bins = 100, alpha = 0.5)\n",
    "plt.show()"
   ]
  },
  {
   "cell_type": "code",
   "execution_count": 43,
   "id": "6ece1a6c",
   "metadata": {},
   "outputs": [
    {
     "data": {
      "image/png": "[encoded data removed]",
      "text/plain": [
       "<Figure size 640x480 with 1 Axes>"
      ]
     },
     "metadata": {},
     "output_type": "display_data"
    },
    {
     "name": "stdout",
     "output_type": "stream",
     "text": [
      "0.5385157196465001\n"
     ]
    }
   ],
   "source": [
    "fpr, tpr, th = roc_curve(y_test, x_predict)\n",
    "plt.plot(fpr, tpr)\n",
    "plt.show()\n",
    "f = interpolate.interp1d(fpr, tpr)\n",
    "epsilon_s = f([0.001, 0.01, 0.1])\n",
    "print(roc_auc_score(y_test, x_predict))"
   ]
  },
  {
   "cell_type": "markdown",
   "id": "bb5e8c1d",
   "metadata": {},
   "source": [
    "With bootstrapping"
   ]
  },
  {
   "cell_type": "code",
   "execution_count": 44,
   "id": "ce9a14ec",
   "metadata": {},
   "outputs": [
    {
     "name": "stdout",
     "output_type": "stream",
     "text": [
      "Train on 208000 samples, validate on 52000 samples\n",
      "Epoch 1/2\n",
      "208000/208000 [==============================] - 2s 10us/sample - loss: 0.5669 - accuracy: 0.9325 - val_loss: 0.5199 - val_accuracy: 0.9944\n",
      "Epoch 2/2\n",
      "208000/208000 [==============================] - 2s 8us/sample - loss: 0.4734 - accuracy: 0.9990 - val_loss: 0.4270 - val_accuracy: 1.0000\n",
      "[1. 0. 0. ... 0. 1. 0.]\n",
      "Train on 208000 samples, validate on 52000 samples\n",
      "Epoch 1/2\n",
      "208000/208000 [==============================] - 2s 8us/sample - loss: 0.5909 - accuracy: 0.5002 - val_loss: 0.5796 - val_accuracy: 0.4995\n",
      "Epoch 2/2\n",
      "208000/208000 [==============================] - 2s 8us/sample - loss: 0.5651 - accuracy: 0.5146 - val_loss: 0.5487 - val_accuracy: 0.5467\n",
      "[1. 0. 0. ... 0. 1. 0.]\n",
      "Train on 208000 samples, validate on 52000 samples\n",
      "Epoch 1/2\n",
      "208000/208000 [==============================] - 2s 8us/sample - loss: 0.5146 - accuracy: 0.6187 - val_loss: 0.4879 - val_accuracy: 0.7362\n",
      "Epoch 2/2\n",
      "208000/208000 [==============================] - 2s 8us/sample - loss: 0.4606 - accuracy: 0.8086 - val_loss: 0.4363 - val_accuracy: 0.8706\n",
      "[1. 1. 0. ... 0. 1. 0.]\n",
      "Train on 208000 samples, validate on 52000 samples\n",
      "Epoch 1/2\n",
      "208000/208000 [==============================] - 2s 8us/sample - loss: 0.3963 - accuracy: 0.9347 - val_loss: 0.3714 - val_accuracy: 0.9484\n",
      "Epoch 2/2\n",
      "208000/208000 [==============================] - 2s 8us/sample - loss: 0.3513 - accuracy: 0.9443 - val_loss: 0.3372 - val_accuracy: 0.9366\n",
      "[1. 1. 0. ... 0. 1. 0.]\n",
      "Train on 208000 samples, validate on 52000 samples\n",
      "Epoch 1/2\n",
      "208000/208000 [==============================] - 2s 8us/sample - loss: 0.2942 - accuracy: 0.9651 - val_loss: 0.2750 - val_accuracy: 0.9593\n",
      "Epoch 2/2\n",
      "208000/208000 [==============================] - 2s 8us/sample - loss: 0.2603 - accuracy: 0.9561 - val_loss: 0.2482 - val_accuracy: 0.9535\n",
      "[1. 1. 0. ... 0. 1. 0.]\n"
     ]
    }
   ],
   "source": [
    "y_sig = np.ones(np.shape(x_sig)[0])\n",
    "y_bkg = np.zeros(np.shape(x_bkg)[0])\n",
    "\n",
    "y_train = np.concatenate((y_sig, y_bkg))\n",
    "x_train = np.concatenate((x_sig, x_bkg))\n",
    "true_label_train = np.concatenate((true_label_sig, true_label_bkg))\n",
    "\n",
    "indices_train = rng.permutation(np.shape(x_sig)[0])\n",
    "\n",
    "x_train = x_train[indices_train]\n",
    "y_train = y_train[indices_train]\n",
    "true_label_train = true_label_train[indices_train]\n",
    "\n",
    "cwola_2 = CWoLA()\n",
    "loss_object = keras.losses.BinaryCrossentropy()\n",
    "optimizer = keras.optimizers.Adam(learning_rate = 1e-4)\n",
    "cwola_2.compile(loss = loss_object, optimizer = optimizer, metrics = ['accuracy'])\n",
    "early_stopping = keras.callbacks.EarlyStopping(monitor = 'val_loss', patience=30, restore_best_weights=True)\n",
    "for i in range(5):\n",
    "    cwola_2.fit(x_train, y_train, validation_split = 0.2,\n",
    "            shuffle = True, batch_size = 500, callbacks = [early_stopping], epochs = 2)  \n",
    "    \n",
    "    predict = (cwola_2.predict(x_train)).flatten()\n",
    "    \n",
    "    predict_array = np.zeros_like(y_train)\n",
    "    predict_array[predict >= np.median(predict)] = 1\n",
    "    y_train = predict_array\n",
    "    print(y_train)\n",
    "    "
   ]
  },
  {
   "cell_type": "code",
   "execution_count": 45,
   "id": "874c7d3b",
   "metadata": {},
   "outputs": [],
   "source": [
    "x_predict = cwola_2.predict(x_test)"
   ]
  },
  {
   "cell_type": "code",
   "execution_count": 46,
   "id": "34c9fc9e",
   "metadata": {},
   "outputs": [],
   "source": [
    "x_predict_0 = x_predict[y_test == 0]\n",
    "x_predict_1 = x_predict[y_test == 1]"
   ]
  },
  {
   "cell_type": "code",
   "execution_count": 47,
   "id": "2e860ae7",
   "metadata": {},
   "outputs": [
    {
     "data": {
      "image/png": "[encoded data removed]",
      "text/plain": [
       "<Figure size 640x480 with 1 Axes>"
      ]
     },
     "metadata": {},
     "output_type": "display_data"
    }
   ],
   "source": [
    "plt.hist(x_predict_0, bins = 100, alpha = 0.5)\n",
    "plt.hist(x_predict_1, bins = 100, alpha = 0.5)\n",
    "plt.show()"
   ]
  },
  {
   "cell_type": "code",
   "execution_count": 48,
   "id": "7d644863",
   "metadata": {},
   "outputs": [
    {
     "data": {
      "image/png": "[encoded data removed]",
      "text/plain": [
       "<Figure size 640x480 with 1 Axes>"
      ]
     },
     "metadata": {},
     "output_type": "display_data"
    },
    {
     "name": "stdout",
     "output_type": "stream",
     "text": [
      "0.2454468598025\n"
     ]
    }
   ],
   "source": [
    "fpr, tpr, th = roc_curve(y_test, x_predict)\n",
    "plt.plot(fpr, tpr)\n",
    "plt.show()\n",
    "f = interpolate.interp1d(fpr, tpr)\n",
    "epsilon_s = f([0.001, 0.01, 0.1])\n",
    "print(roc_auc_score(y_test, x_predict))"
   ]
  }
 ],
 "metadata": {
  "kernelspec": {
   "display_name": "Python 3 (ipykernel)",
   "language": "python",
   "name": "python3"
  },
  "language_info": {
   "codemirror_mode": {
    "name": "ipython",
    "version": 3
   },
   "file_extension": ".py",
   "mimetype": "text/x-python",
   "name": "python",
   "nbconvert_exporter": "python",
   "pygments_lexer": "ipython3",
   "version": "3.7.7"
  }
 },
 "nbformat": 4,
 "nbformat_minor": 5
}
