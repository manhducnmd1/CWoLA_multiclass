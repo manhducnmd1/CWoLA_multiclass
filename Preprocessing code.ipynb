{
 "cells": [
  {
   "cell_type": "code",
   "execution_count": 2,
   "id": "bbe874b8",
   "metadata": {},
   "outputs": [],
   "source": [
    "import os\n",
    "os.getcwd()\n",
    "os.chdir(r'/home/manhducnmd/manhducnmd/Delphes-3.5.0')"
   ]
  },
  {
   "cell_type": "code",
   "execution_count": 3,
   "id": "54dd24e7",
   "metadata": {},
   "outputs": [],
   "source": [
    "import numpy as np\n",
    "from matplotlib import pyplot as plt\n",
    "import matplotlib.colors as mcolors\n",
    "from matplotlib.font_manager import FontProperties\n",
    "import pickle"
   ]
  },
  {
   "cell_type": "code",
   "execution_count": 51,
   "id": "5caf52c6",
   "metadata": {},
   "outputs": [],
   "source": [
    "os.environ[\"PATH\"]='/home/manhducnmd/latex/bin/x86_64-linux'\n",
    "# Enable LaTeX rendering\n",
    "plt.rcParams['text.usetex'] = False\n",
    "#plt.rcParams['font.family'] = 'serif'\n",
    "plt.rcParams['font.family'] = 'sans-serif'\n"
   ]
  },
  {
   "cell_type": "code",
   "execution_count": 5,
   "id": "68b7cc1e",
   "metadata": {},
   "outputs": [
    {
     "name": "stdout",
     "output_type": "stream",
     "text": [
      "Welcome to JupyROOT 6.20/08\n"
     ]
    },
    {
     "data": {
      "text/plain": [
       "0"
      ]
     },
     "execution_count": 5,
     "metadata": {},
     "output_type": "execute_result"
    }
   ],
   "source": [
    "import ROOT\n",
    "ROOT.gSystem.Load(\"libDelphes\")"
   ]
  },
  {
   "cell_type": "code",
   "execution_count": 6,
   "id": "c5530957",
   "metadata": {},
   "outputs": [],
   "source": [
    "try:\n",
    "    ROOT.gInterpreter.Declare('#include \"classes/DelphesClasses.h\"')\n",
    "    ROOT.gInterpreter.Declare('#include \"external/ExRootAnalysis/ExRootTreeReader.h\"')\n",
    "except:\n",
    "    pass"
   ]
  },
  {
   "cell_type": "code",
   "execution_count": 85,
   "id": "ac9eb654",
   "metadata": {},
   "outputs": [
    {
     "data": {
      "text/plain": [
       "4"
      ]
     },
     "execution_count": 85,
     "metadata": {},
     "output_type": "execute_result"
    }
   ],
   "source": [
    "ROOT.gSystem.Load(\"libDelphes\")\n",
    "file = ROOT.TFile.Open(\"/home/manhducnmd/manhducnmd/zprimeboson_lepton/Events/run_01/tag_1_delphes_events.root\")\n",
    "tree = file.Get(\"Delphes\")\n",
    "\n",
    "# Access branches\n",
    "towers = ROOT.TClonesArray(\"Tower\")\n",
    "tracks = ROOT.TClonesArray(\"Track\")\n",
    "muons = ROOT.TClonesArray(\"Muon\")\n",
    "electrons = ROOT.TClonesArray(\"Electron\")\n",
    "tree.SetBranchAddress(\"Tower\", ROOT.AddressOf(towers))\n",
    "tree.SetBranchAddress(\"Track\", ROOT.AddressOf(tracks))\n",
    "tree.SetBranchAddress(\"Muon\", ROOT.AddressOf(muons))\n",
    "tree.SetBranchAddress(\"Electron\", ROOT.AddressOf(electrons))"
   ]
  },
  {
   "cell_type": "code",
   "execution_count": 86,
   "id": "738b11c4",
   "metadata": {},
   "outputs": [
    {
     "name": "stderr",
     "output_type": "stream",
     "text": [
      "<ipython-input-86-4341fd2c5ff0>:53: VisibleDeprecationWarning: Creating an ndarray from ragged nested sequences (which is a list-or-tuple of lists-or-tuples-or ndarrays with different lengths or shapes) is deprecated. If you meant to do this, you must specify 'dtype=object' when creating the ndarray.\n",
      "  image_track_eta = np.array(image_track_eta)\n",
      "<ipython-input-86-4341fd2c5ff0>:54: VisibleDeprecationWarning: Creating an ndarray from ragged nested sequences (which is a list-or-tuple of lists-or-tuples-or ndarrays with different lengths or shapes) is deprecated. If you meant to do this, you must specify 'dtype=object' when creating the ndarray.\n",
      "  image_track_phi = np.array(image_track_phi)\n",
      "<ipython-input-86-4341fd2c5ff0>:55: VisibleDeprecationWarning: Creating an ndarray from ragged nested sequences (which is a list-or-tuple of lists-or-tuples-or ndarrays with different lengths or shapes) is deprecated. If you meant to do this, you must specify 'dtype=object' when creating the ndarray.\n",
      "  image_track_Pt = np.array(image_track_Pt)\n",
      "<ipython-input-86-4341fd2c5ff0>:56: VisibleDeprecationWarning: Creating an ndarray from ragged nested sequences (which is a list-or-tuple of lists-or-tuples-or ndarrays with different lengths or shapes) is deprecated. If you meant to do this, you must specify 'dtype=object' when creating the ndarray.\n",
      "  image_tower_eta = np.array(image_tower_eta)\n",
      "<ipython-input-86-4341fd2c5ff0>:57: VisibleDeprecationWarning: Creating an ndarray from ragged nested sequences (which is a list-or-tuple of lists-or-tuples-or ndarrays with different lengths or shapes) is deprecated. If you meant to do this, you must specify 'dtype=object' when creating the ndarray.\n",
      "  image_tower_phi = np.array(image_tower_phi)\n",
      "<ipython-input-86-4341fd2c5ff0>:58: VisibleDeprecationWarning: Creating an ndarray from ragged nested sequences (which is a list-or-tuple of lists-or-tuples-or ndarrays with different lengths or shapes) is deprecated. If you meant to do this, you must specify 'dtype=object' when creating the ndarray.\n",
      "  image_tower_Et = np.array(image_tower_Et)\n"
     ]
    }
   ],
   "source": [
    "image_track_eta = []\n",
    "image_track_phi = []\n",
    "image_track_Pt = []\n",
    "image_tower_eta = []\n",
    "image_tower_phi = []\n",
    "image_tower_Et = []\n",
    "\n",
    "Mll_total_zprimeboson = []\n",
    "for entry in range(tree.GetEntries()):\n",
    "    tree.GetEntry(entry)\n",
    "    if muons.GetEntries() + electrons.GetEntries() >= 2: #Choose events with more than 2 leptons\n",
    "        Pt_leptons = []\n",
    "        P4_leptons = []\n",
    "        if muons.GetEntries() > 0:\n",
    "            for muon in muons:\n",
    "                Pt_leptons.append(muon.P4().Pt())\n",
    "                P4_leptons.append(muon.P4())\n",
    "        if electrons.GetEntries() > 0:\n",
    "            for electron in electrons:\n",
    "                Pt_leptons.append(electron.P4().Pt())\n",
    "                P4_leptons.append(electron.P4())\n",
    "        Pt_leptons = np.array(Pt_leptons)\n",
    "        P4_leptons = np.array(P4_leptons)\n",
    "        sorted_indices = np.argsort(Pt_leptons)\n",
    "        P4_leptons_sorted = P4_leptons[sorted_indices]\n",
    "        Pt_leptons_sorted = Pt_leptons[sorted_indices]\n",
    "        Mll_total_zprimeboson.append((P4_leptons_sorted[-1] + P4_leptons_sorted[-2]).M())\n",
    "        \n",
    "        constituent_track_eta = []\n",
    "        constituent_track_phi = []\n",
    "        constituent_track_Pt = []\n",
    "        \n",
    "        constituent_tower_eta = []\n",
    "        constituent_tower_phi = []\n",
    "        constituent_tower_Et = []\n",
    "        for track in tracks:\n",
    "            constituent_track_eta.append(track.Eta)\n",
    "            constituent_track_phi.append(track.Phi)\n",
    "            constituent_track_Pt.append(track.PT)            \n",
    "        for tower in towers:\n",
    "            constituent_tower_eta.append(tower.Eta)\n",
    "            constituent_tower_phi.append(tower.Phi)\n",
    "            constituent_tower_Et.append(tower.ET)\n",
    "        image_track_eta.append(constituent_track_eta)\n",
    "        image_track_phi.append(constituent_track_phi)\n",
    "        image_track_Pt.append(constituent_track_Pt)\n",
    "        \n",
    "        image_tower_eta.append(constituent_tower_eta)\n",
    "        image_tower_phi.append(constituent_tower_phi)\n",
    "        image_tower_Et.append(constituent_tower_Et)\n",
    "\n",
    "        \n",
    "image_track_eta = np.array(image_track_eta)\n",
    "image_track_phi = np.array(image_track_phi)\n",
    "image_track_Pt = np.array(image_track_Pt)\n",
    "image_tower_eta = np.array(image_tower_eta)\n",
    "image_tower_phi = np.array(image_tower_phi)\n",
    "image_tower_Et = np.array(image_tower_Et)\n",
    "        \n"
   ]
  },
  {
   "cell_type": "code",
   "execution_count": 45,
   "id": "8566190f",
   "metadata": {},
   "outputs": [
    {
     "name": "stdout",
     "output_type": "stream",
     "text": [
      "3244\n",
      "7522\n",
      "5380\n"
     ]
    }
   ],
   "source": [
    "print(len(Mll_total_wboson))\n",
    "print(len(Mll_total_zboson))\n",
    "print(len(Mll_total_zprimeboson))"
   ]
  },
  {
   "cell_type": "code",
   "execution_count": 59,
   "id": "71629155",
   "metadata": {},
   "outputs": [
    {
     "data": {
      "image/png": "[encoded data removed]",
      "text/plain": [
       "<Figure size 432x288 with 1 Axes>"
      ]
     },
     "metadata": {
      "needs_background": "light"
     },
     "output_type": "display_data"
    }
   ],
   "source": [
    "plt.hist(Mll_total_wboson, bins = 'auto', density = True, edgecolor = 'b', histtype = 'step', label = 'W boson')\n",
    "plt.hist(Mll_total_zboson, bins = 'auto', density = True, edgecolor = 'r', histtype = 'step', label = 'Z boson')\n",
    "plt.hist(Mll_total_zprimeboson, bins = 'auto', density = True, edgecolor = 'g', histtype = 'step', label = 'Z prime boson')\n",
    "plt.legend()\n",
    "plt.xlabel(\"M_ll (GeV)\")\n",
    "plt.xlim(0, 1000)\n",
    "plt.savefig(r\"/home/manhducnmd/manhducnmd/ML for Particle Physics/Mll plot\")\n",
    "plt.show()"
   ]
  },
  {
   "cell_type": "code",
   "execution_count": 65,
   "id": "2b52c8c4",
   "metadata": {},
   "outputs": [],
   "source": [
    "xpixels = 40\n",
    "ypixels = 40\n",
    "\n",
    "def img_mom (x, y, weights, x_power, y_power):\n",
    "    return ((x**x_power)*(y**y_power)*weights).sum()\n",
    "\n",
    "# returns the jet image\n",
    "def orig_image (etas, phis, weights):\n",
    "    \"\"\"\n",
    "    Gives the value on grid with minimal distance,\n",
    "    eg. for xpixel = (0,1,2,3,..) eta=1.3 -> xpixel=1, eta=1.6 ->xpixel=2\n",
    "    \"\"\"\n",
    "    z, x_edges, y_edges = np.histogram2d(etas, phis, bins = [xpixels, ypixels], weights = weights)\n",
    "    return z\n",
    "\n",
    "# preprocess the jet\n",
    "def preprocessing(x ,y, weights, rotate=True, flip=True):\n",
    "    \"\"\"\n",
    "    (x,y) are the coordinates and weights the corresponding values, shifts\n",
    "    centroid to origin, rotates image, so that principal axis is vertical,\n",
    "    flips image, so that most weights lay in plane.\n",
    "    Method for calculating principal axis (similar to tensor of inertia):\n",
    "    https://en.wikipedia.org/wiki/Image_moment\n",
    "    here: y=phi, phi has modulo 2*np.pi but it's not been taken care of hear,\n",
    "    so possible issues with calculating the centroid\n",
    "    -> pre-shifting of events outside of this function solves the problem\n",
    "    for iamge-data with Delta_phi < 2*np.pi\n",
    "    \"\"\"\n",
    "\n",
    "    # Shift\n",
    "    x_centroid = np.average(x, weights = weights)\n",
    "    y_centroid = np.average(y, weights = weights)\n",
    "    x = x - x_centroid\n",
    "    y = y - y_centroid\n",
    "\n",
    "    y[y < -np.pi] += 2*np.pi\n",
    "    y[y > np.pi] -= 2*np.pi\n",
    "    if rotate:\n",
    "        #Ccovariant matrix, eigenvectors corr. to principal axis\n",
    "        u11 = img_mom(x, y, weights, 1, 1) / weights.sum()\n",
    "        u20 = img_mom(x, y, weights, 2, 0) / weights.sum()\n",
    "        u02 = img_mom(x, y, weights, 0, 2) / weights.sum()\n",
    "        cov = np.array([[u20, u11], [u11, u02]])\n",
    "\n",
    "        # Eigenvalues and eigenvectors of covariant matrix\n",
    "        evals, evecs = np.linalg.eig(cov)\n",
    "\n",
    "        # Sorts the eigenvalues, v1, [::-1] turns array around, \n",
    "        sort_indices = np.argsort(evals)[::-1]\n",
    "        e_1 = evecs[:, sort_indices[0]]  # Eigenvector with largest eigenvalue\n",
    "        e_2 = evecs[:, sort_indices[1]]\n",
    "\n",
    "        # Theta to x_axis, arctan2 gives correct angle\n",
    "        theta = np.arctan2(e_1[0], e_1[1])\n",
    "\n",
    "        # Rotation, so that princple axis is vertical\n",
    "        # anti-clockwise rotation matrix\n",
    "        rotation = np.matrix([[np.cos(theta), -np.sin(theta)], [np.sin(theta), np.cos(theta)]])\n",
    "        transformed_mat = rotation * np.stack([x,y])\n",
    "        x_rot, y_rot = transformed_mat.A\n",
    "    else: \n",
    "        x_rot, y_rot = x, y\n",
    "\n",
    "    n_flips = 0\n",
    "\n",
    "    # Flipping\n",
    "    if flip:\n",
    "        if x_rot[np.argmax(weights)] < 0.:\n",
    "            x_rot = -x_rot\n",
    "            n_flips  += 1\n",
    "        if y_rot[np.argmax(weights)] < 0.:\n",
    "            y_rot = -y_rot\n",
    "            n_flips += 1\n",
    "\n",
    "    return x_rot, y_rot\n",
    "\n",
    "\n",
    "# function to convert the jet to an image\n",
    "def constit_to_img(etas, phis, pT, rotate, flip):\n",
    "\n",
    "    weights = pT\n",
    "\n",
    "    etas, phis = preprocessing(etas, phis, weights, rotate, flip)\n",
    "\n",
    "    z_ori = orig_image(etas, phis, weights)\n",
    "\n",
    "    return z_ori"
   ]
  },
  {
   "cell_type": "code",
   "execution_count": 77,
   "id": "6e6b5fee",
   "metadata": {},
   "outputs": [
    {
     "data": {
      "image/png": "[encoded data removed]",
      "text/plain": [
       "<Figure size 360x360 with 2 Axes>"
      ]
     },
     "metadata": {
      "needs_background": "light"
     },
     "output_type": "display_data"
    }
   ],
   "source": [
    "all_images_track_wboson_lepton = []\n",
    "for idx, xd in enumerate(image_track_eta):\n",
    "    etas = np.array(image_track_eta[idx])\n",
    "    phis = np.array(image_track_phi[idx])\n",
    "    Pts = np.array(image_track_Pt[idx])\n",
    "    all_images_track_wboson_lepton.append(constit_to_img(etas, phis, Pts, True, True))\n",
    "    \n",
    "#masked_data = np.ma.masked_equal(np.mean(all_images_track_wboson_lepton, axis = 0), 0.)\n",
    "masked_data = all_images_track_wboson_lepton[0]\n",
    "# Create a colormap based on 'jet'\n",
    "jet = plt.cm.jet\n",
    "\n",
    "# Create a custom colormap with white for masked values\n",
    "colors = jet(np.linspace(0, 1, 256))\n",
    "custom_cmap = mcolors.ListedColormap(colors)\n",
    "# Use a logarithmic norm, avoiding zero values\n",
    "norm = mcolors.LogNorm(vmin=10**-1, vmax=10**3)\n",
    "\n",
    "# Plot using imshow with the custom colormap and logarithmic normalization\n",
    "plt.figure(figsize = (5,5))\n",
    "plt.imshow(masked_data, cmap=custom_cmap, norm=norm, interpolation='nearest')\n",
    "cbar = plt.colorbar()\n",
    "cbar.set_label(\"P_T\")\n",
    "plt.xlabel(\"eta\")\n",
    "plt.ylabel(\"phi\")\n",
    "plt.savefig(\"Individual track picture - W boson\")\n",
    "#plt.gca().invert_yaxis()\n",
    "plt.show()\n",
    "\n",
    "\n"
   ]
  },
  {
   "cell_type": "code",
   "execution_count": 78,
   "id": "495279b0",
   "metadata": {},
   "outputs": [
    {
     "data": {
      "image/png": "[encoded data removed]",
      "text/plain": [
       "<Figure size 360x360 with 2 Axes>"
      ]
     },
     "metadata": {
      "needs_background": "light"
     },
     "output_type": "display_data"
    }
   ],
   "source": [
    "all_images_tower_wboson_lepton = []\n",
    "for idx_1, xd_1 in enumerate(image_tower_eta):\n",
    "    etas_2 = np.array(image_tower_eta[idx_1])\n",
    "    phis_2 = np.array(image_tower_phi[idx_1])\n",
    "    Ets = np.array(image_tower_Et[idx_1])\n",
    "    all_images_tower_wboson_lepton.append(constit_to_img(etas_2, phis_2, Ets, True, True))\n",
    "    \n",
    "#masked_data = np.ma.masked_equal(np.mean(all_images_tower_wboson_lepton, axis = 0), 0.)\n",
    "masked_data = all_images_tower_wboson_lepton[0]\n",
    "\n",
    "# Create a colormap based on 'jet'\n",
    "jet = plt.cm.jet\n",
    "\n",
    "# Create a custom colormap with white for masked values\n",
    "colors = jet(np.linspace(0, 1, 256))\n",
    "custom_cmap = mcolors.ListedColormap(colors)\n",
    "# Use a logarithmic norm, avoiding zero values\n",
    "norm = mcolors.LogNorm(vmin=10**-1, vmax=10**3)\n",
    "\n",
    "# Plot using imshow with the custom colormap and logarithmic normalization\n",
    "plt.figure(figsize = (5,5))\n",
    "plt.imshow(masked_data, cmap=custom_cmap, norm=norm, interpolation='nearest')\n",
    "cbar = plt.colorbar()\n",
    "cbar.set_label(\"E_T\")\n",
    "plt.xlabel(\"eta\")\n",
    "plt.ylabel(\"phi\")\n",
    "plt.savefig(\"Individual tower picture - W boson\")\n",
    "#plt.gca().invert_yaxis()\n",
    "plt.show()"
   ]
  },
  {
   "cell_type": "code",
   "execution_count": 83,
   "id": "a7c27c43",
   "metadata": {
    "scrolled": true
   },
   "outputs": [
    {
     "data": {
      "image/png": "[encoded data removed]",
      "text/plain": [
       "<Figure size 360x360 with 2 Axes>"
      ]
     },
     "metadata": {
      "needs_background": "light"
     },
     "output_type": "display_data"
    }
   ],
   "source": [
    "all_images_track_zboson_lepton = []\n",
    "for idx, xd in enumerate(image_track_eta):\n",
    "    etas = np.array(image_track_eta[idx])\n",
    "    phis = np.array(image_track_phi[idx])\n",
    "    Pts = np.array(image_track_Pt[idx])\n",
    "    all_images_track_zboson_lepton.append(constit_to_img(etas, phis, Pts, True, True))\n",
    "    \n",
    "masked_data = np.ma.masked_equal(np.mean(all_images_track_zboson_lepton, axis = 0), 0.)\n",
    "#masked_data = all_images_track_zboson_lepton[0]\n",
    "# Create a colormap based on 'jet'\n",
    "jet = plt.cm.jet\n",
    "\n",
    "# Create a custom colormap with white for masked values\n",
    "colors = jet(np.linspace(0, 1, 256))\n",
    "custom_cmap = mcolors.ListedColormap(colors)\n",
    "# Use a logarithmic norm, avoiding zero values\n",
    "norm = mcolors.LogNorm(vmin=10**-1, vmax=10**3)\n",
    "\n",
    "# Plot using imshow with the custom colormap and logarithmic normalization\n",
    "plt.figure(figsize = (5,5))\n",
    "plt.imshow(masked_data, cmap=custom_cmap, norm=norm, interpolation='nearest')\n",
    "cbar = plt.colorbar()\n",
    "cbar.set_label(\"P_T\")\n",
    "plt.xlabel(\"eta\")\n",
    "plt.ylabel(\"phi\")\n",
    "plt.savefig(\"Average track picture - Z boson\")\n",
    "#plt.gca().invert_yaxis()\n",
    "plt.show()\n",
    "\n",
    "\n"
   ]
  },
  {
   "cell_type": "code",
   "execution_count": 84,
   "id": "cd8e0418",
   "metadata": {},
   "outputs": [
    {
     "data": {
      "image/png": "[encoded data removed]",
      "text/plain": [
       "<Figure size 360x360 with 2 Axes>"
      ]
     },
     "metadata": {
      "needs_background": "light"
     },
     "output_type": "display_data"
    }
   ],
   "source": [
    "all_images_tower_zboson_lepton = []\n",
    "for idx_1, xd_1 in enumerate(image_tower_eta):\n",
    "    etas_2 = np.array(image_tower_eta[idx_1])\n",
    "    phis_2 = np.array(image_tower_phi[idx_1])\n",
    "    Ets = np.array(image_tower_Et[idx_1])\n",
    "    all_images_tower_zboson_lepton.append(constit_to_img(etas_2, phis_2, Ets, True, True))\n",
    "    \n",
    "masked_data = np.ma.masked_equal(np.mean(all_images_tower_zboson_lepton, axis = 0), 0.)\n",
    "#masked_data = all_images_tower_zboson_lepton[0]\n",
    "\n",
    "# Create a colormap based on 'jet'\n",
    "jet = plt.cm.jet\n",
    "\n",
    "# Create a custom colormap with white for masked values\n",
    "colors = jet(np.linspace(0, 1, 256))\n",
    "custom_cmap = mcolors.ListedColormap(colors)\n",
    "# Use a logarithmic norm, avoiding zero values\n",
    "norm = mcolors.LogNorm(vmin=10**-1, vmax=10**3)\n",
    "\n",
    "# Plot using imshow with the custom colormap and logarithmic normalization\n",
    "plt.figure(figsize = (5,5))\n",
    "plt.imshow(masked_data, cmap=custom_cmap, norm=norm, interpolation='nearest')\n",
    "cbar = plt.colorbar()\n",
    "cbar.set_label(\"E_T\")\n",
    "plt.xlabel(\"eta\")\n",
    "plt.ylabel(\"phi\")\n",
    "plt.savefig(\"Average tower picture - Z boson\")\n",
    "#plt.gca().invert_yaxis()\n",
    "plt.show()"
   ]
  },
  {
   "cell_type": "code",
   "execution_count": 89,
   "id": "e4788cde",
   "metadata": {
    "scrolled": true
   },
   "outputs": [
    {
     "data": {
      "image/png": "[encoded data removed]",
      "text/plain": [
       "<Figure size 360x360 with 2 Axes>"
      ]
     },
     "metadata": {
      "needs_background": "light"
     },
     "output_type": "display_data"
    }
   ],
   "source": [
    "all_images_track_zprimeboson_lepton = []\n",
    "for idx, xd in enumerate(image_track_eta):\n",
    "    etas = np.array(image_track_eta[idx])\n",
    "    phis = np.array(image_track_phi[idx])\n",
    "    Pts = np.array(image_track_Pt[idx])\n",
    "    all_images_track_zprimeboson_lepton.append(constit_to_img(etas, phis, Pts, True, True))\n",
    "    \n",
    "#masked_data = np.ma.masked_equal(np.mean(all_images_track_zprimeboson_lepton, axis = 0), 0.)\n",
    "masked_data = all_images_track_zprimeboson_lepton[0]\n",
    "# Create a colormap based on 'jet'\n",
    "jet = plt.cm.jet\n",
    "\n",
    "# Create a custom colormap with white for masked values\n",
    "colors = jet(np.linspace(0, 1, 256))\n",
    "custom_cmap = mcolors.ListedColormap(colors)\n",
    "# Use a logarithmic norm, avoiding zero values\n",
    "norm = mcolors.LogNorm(vmin=10**-1, vmax=10**3)\n",
    "\n",
    "# Plot using imshow with the custom colormap and logarithmic normalization\n",
    "plt.figure(figsize = (5,5))\n",
    "plt.imshow(masked_data, cmap=custom_cmap, norm=norm, interpolation='nearest')\n",
    "cbar = plt.colorbar()\n",
    "cbar.set_label(\"P_T\")\n",
    "plt.xlabel(\"eta\")\n",
    "plt.ylabel(\"phi\")\n",
    "plt.savefig(\"Individual track picture - Zprime boson\")\n",
    "#plt.gca().invert_yaxis()\n",
    "plt.show()\n",
    "\n",
    "\n"
   ]
  },
  {
   "cell_type": "code",
   "execution_count": 90,
   "id": "bb9a5af5",
   "metadata": {},
   "outputs": [
    {
     "data": {
      "image/png": "[encoded data removed]",
      "text/plain": [
       "<Figure size 360x360 with 2 Axes>"
      ]
     },
     "metadata": {
      "needs_background": "light"
     },
     "output_type": "display_data"
    }
   ],
   "source": [
    "all_images_tower_zprimeboson_lepton = []\n",
    "for idx_1, xd_1 in enumerate(image_tower_eta):\n",
    "    etas_2 = np.array(image_tower_eta[idx_1])\n",
    "    phis_2 = np.array(image_tower_phi[idx_1])\n",
    "    Ets = np.array(image_tower_Et[idx_1])\n",
    "    all_images_tower_zprimeboson_lepton.append(constit_to_img(etas_2, phis_2, Ets, True, True))\n",
    "    \n",
    "#masked_data = np.ma.masked_equal(np.mean(all_images_tower_zprimeboson_lepton, axis = 0), 0.)\n",
    "masked_data = all_images_tower_zprimeboson_lepton[0]\n",
    "\n",
    "# Create a colormap based on 'jet'\n",
    "jet = plt.cm.jet\n",
    "\n",
    "# Create a custom colormap with white for masked values\n",
    "colors = jet(np.linspace(0, 1, 256))\n",
    "custom_cmap = mcolors.ListedColormap(colors)\n",
    "# Use a logarithmic norm, avoiding zero values\n",
    "norm = mcolors.LogNorm(vmin=10**-1, vmax=10**3)\n",
    "\n",
    "# Plot using imshow with the custom colormap and logarithmic normalization\n",
    "plt.figure(figsize = (5,5))\n",
    "plt.imshow(masked_data, cmap=custom_cmap, norm=norm, interpolation='nearest')\n",
    "cbar = plt.colorbar()\n",
    "cbar.set_label(\"E_T\")\n",
    "plt.xlabel(\"eta\")\n",
    "plt.ylabel(\"phi\")\n",
    "plt.savefig(\"Individual tower picture - Zprime boson\")\n",
    "#plt.gca().invert_yaxis()\n",
    "plt.show()"
   ]
  },
  {
   "cell_type": "code",
   "execution_count": null,
   "id": "cad5a31e",
   "metadata": {},
   "outputs": [],
   "source": []
  }
 ],
 "metadata": {
  "kernelspec": {
   "display_name": "Python 3",
   "language": "python",
   "name": "python3"
  },
  "language_info": {
   "codemirror_mode": {
    "name": "ipython",
    "version": 3
   },
   "file_extension": ".py",
   "mimetype": "text/x-python",
   "name": "python",
   "nbconvert_exporter": "python",
   "pygments_lexer": "ipython3",
   "version": "3.8.8"
  }
 },
 "nbformat": 4,
 "nbformat_minor": 5
}
